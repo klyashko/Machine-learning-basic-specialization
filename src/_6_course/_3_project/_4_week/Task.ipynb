{
 "cells": [
  {
   "cell_type": "markdown",
   "metadata": {},
   "source": [
    "Процесс подбора модели ARIMA в Питоне достаточно трудоёмок, поэтому вы не сможете вручную подобрать модель для каждого из рядов в выбранных ячейках. Чтобы облегчить ручной перебор, вам предстоит кластеризовать временные ряды и подобрать гиперпараметры модели ARIMA только один раз для всех рядов каждого кластера.\n",
    "\n",
    "Результатом этой недели будут построенные с помощью ARIMA почасовые прогнозы количества поездок для всех географических зон Нью-Йорка. Модель, которую мы строим, должна делать почасовые прогнозы для всех выбранных непустых ячеек на 6 часов вперёд. Качество модели мы будем оценивать с помощью среднего абсолютного отклонения от истинного количества поездок в июне:\n",
    "\n",
    "$$Q_{june} = {1 \\over R * 715 * 6} +\\sum_{r=1}^{R} \\sum_{2016.05.31\\ 23:00}^{2016.06.30\\ 17:00}\\sum_{i=1}^{6} |\\hat{y}_{T|T+i} - y^r_{T+i}|$$\n",
    "\n",
    "R — количество прогнозируемых рядов, 715 — количество перебираемых концов истории.\n",
    "\n",
    "Построенные прогнозы вам предстоит загрузить на kaggle. К сожалению, в формате kaggle сложно организовать конкурс по прогнозированию временных рядов в традиционном виде, с отложенным тестом и пересчётом лидерборда, поскольку прогнозы необходимо строить со скользящим концом истории. Но цель использования kaggle в этом проекте — не победа в конкурсе; вы всегда можете загрузить истинные данные за июнь и получить первое место. Цель в том, чтобы посмотреть, какие модели, решения и признаки использовали ваши коллеги, и понять, какие из них стоит попробовать и вам."
   ]
  },
  {
   "cell_type": "code",
   "execution_count": 25,
   "metadata": {},
   "outputs": [],
   "source": [
    "%matplotlib inline\n",
    "\n",
    "import warnings\n",
    "import pickle\n",
    "import sys\n",
    "import os\n",
    "\n",
    "import pandas as pd\n",
    "import numpy as np\n",
    "\n",
    "from statsmodels.tsa.statespace.sarimax import SARIMAXResults\n",
    "from sklearn.cluster import AgglomerativeClustering\n",
    "from sklearn.linear_model import  LinearRegression\n",
    "from numpy.linalg.linalg import LinAlgError\n",
    "from sklearn.decomposition import PCA\n",
    "from datetime import datetime\n",
    "from itertools import product\n",
    "from pylab import rcParams\n",
    "from scipy import stats\n",
    "from tqdm import tqdm \n",
    "\n",
    "import statsmodels.tsa.api as tsa\n",
    "\n",
    "from matplotlib import pyplot as plt\n",
    "from statsmodels import api as sm\n",
    "\n",
    "sys.setrecursionlimit(10000)\n",
    "rcParams['figure.figsize'] = 15, 8\n",
    "warnings.filterwarnings('ignore')\n",
    "PATH_TO_DATA = '../data'"
   ]
  },
  {
   "cell_type": "markdown",
   "metadata": {},
   "source": [
    "#### 1. Составьте из данных о поездках прямоугольную таблицу так, чтобы по строкам было время, а по столбцам идентификатор ячейки (возьмите только те, которые были отобраны на второй неделе). Не используйте данные за последние имеющиеся месяцы — май и июнь 2016!"
   ]
  },
  {
   "cell_type": "code",
   "execution_count": 3,
   "metadata": {},
   "outputs": [
    {
     "name": "stdout",
     "output_type": "stream",
     "text": [
      "(2904, 102)\n"
     ]
    },
    {
     "data": {
      "text/html": [
       "<div>\n",
       "<style>\n",
       "    .dataframe thead tr:only-child th {\n",
       "        text-align: right;\n",
       "    }\n",
       "\n",
       "    .dataframe thead th {\n",
       "        text-align: left;\n",
       "    }\n",
       "\n",
       "    .dataframe tbody tr th {\n",
       "        vertical-align: top;\n",
       "    }\n",
       "</style>\n",
       "<table border=\"1\" class=\"dataframe\">\n",
       "  <thead>\n",
       "    <tr style=\"text-align: right;\">\n",
       "      <th></th>\n",
       "      <th>1075</th>\n",
       "      <th>1076</th>\n",
       "      <th>1077</th>\n",
       "      <th>1125</th>\n",
       "      <th>1126</th>\n",
       "      <th>1127</th>\n",
       "      <th>1128</th>\n",
       "      <th>1129</th>\n",
       "      <th>1130</th>\n",
       "      <th>1131</th>\n",
       "      <th>...</th>\n",
       "      <th>1630</th>\n",
       "      <th>1684</th>\n",
       "      <th>1733</th>\n",
       "      <th>1734</th>\n",
       "      <th>1783</th>\n",
       "      <th>2068</th>\n",
       "      <th>2069</th>\n",
       "      <th>2118</th>\n",
       "      <th>2119</th>\n",
       "      <th>2168</th>\n",
       "    </tr>\n",
       "  </thead>\n",
       "  <tbody>\n",
       "    <tr>\n",
       "      <th>2016-01-01 00:00:00</th>\n",
       "      <td>80.0</td>\n",
       "      <td>144.0</td>\n",
       "      <td>50.0</td>\n",
       "      <td>77.0</td>\n",
       "      <td>319.0</td>\n",
       "      <td>402.0</td>\n",
       "      <td>531.0</td>\n",
       "      <td>617.0</td>\n",
       "      <td>846.0</td>\n",
       "      <td>267.0</td>\n",
       "      <td>...</td>\n",
       "      <td>12.0</td>\n",
       "      <td>0.0</td>\n",
       "      <td>2.0</td>\n",
       "      <td>44.0</td>\n",
       "      <td>5.0</td>\n",
       "      <td>41.0</td>\n",
       "      <td>4.0</td>\n",
       "      <td>70.0</td>\n",
       "      <td>7.0</td>\n",
       "      <td>66.0</td>\n",
       "    </tr>\n",
       "    <tr>\n",
       "      <th>2016-01-01 01:00:00</th>\n",
       "      <td>91.0</td>\n",
       "      <td>211.0</td>\n",
       "      <td>49.0</td>\n",
       "      <td>134.0</td>\n",
       "      <td>404.0</td>\n",
       "      <td>420.0</td>\n",
       "      <td>370.0</td>\n",
       "      <td>453.0</td>\n",
       "      <td>594.0</td>\n",
       "      <td>224.0</td>\n",
       "      <td>...</td>\n",
       "      <td>29.0</td>\n",
       "      <td>0.0</td>\n",
       "      <td>5.0</td>\n",
       "      <td>2.0</td>\n",
       "      <td>2.0</td>\n",
       "      <td>4.0</td>\n",
       "      <td>0.0</td>\n",
       "      <td>47.0</td>\n",
       "      <td>1.0</td>\n",
       "      <td>29.0</td>\n",
       "    </tr>\n",
       "    <tr>\n",
       "      <th>2016-01-01 02:00:00</th>\n",
       "      <td>90.0</td>\n",
       "      <td>146.0</td>\n",
       "      <td>23.0</td>\n",
       "      <td>110.0</td>\n",
       "      <td>393.0</td>\n",
       "      <td>425.0</td>\n",
       "      <td>313.0</td>\n",
       "      <td>366.0</td>\n",
       "      <td>377.0</td>\n",
       "      <td>138.0</td>\n",
       "      <td>...</td>\n",
       "      <td>47.0</td>\n",
       "      <td>0.0</td>\n",
       "      <td>3.0</td>\n",
       "      <td>0.0</td>\n",
       "      <td>4.0</td>\n",
       "      <td>0.0</td>\n",
       "      <td>0.0</td>\n",
       "      <td>69.0</td>\n",
       "      <td>1.0</td>\n",
       "      <td>14.0</td>\n",
       "    </tr>\n",
       "    <tr>\n",
       "      <th>2016-01-01 03:00:00</th>\n",
       "      <td>32.0</td>\n",
       "      <td>87.0</td>\n",
       "      <td>16.0</td>\n",
       "      <td>62.0</td>\n",
       "      <td>252.0</td>\n",
       "      <td>399.0</td>\n",
       "      <td>324.0</td>\n",
       "      <td>309.0</td>\n",
       "      <td>327.0</td>\n",
       "      <td>166.0</td>\n",
       "      <td>...</td>\n",
       "      <td>46.0</td>\n",
       "      <td>0.0</td>\n",
       "      <td>2.0</td>\n",
       "      <td>4.0</td>\n",
       "      <td>5.0</td>\n",
       "      <td>1.0</td>\n",
       "      <td>0.0</td>\n",
       "      <td>21.0</td>\n",
       "      <td>0.0</td>\n",
       "      <td>9.0</td>\n",
       "    </tr>\n",
       "    <tr>\n",
       "      <th>2016-01-01 04:00:00</th>\n",
       "      <td>24.0</td>\n",
       "      <td>43.0</td>\n",
       "      <td>10.0</td>\n",
       "      <td>53.0</td>\n",
       "      <td>145.0</td>\n",
       "      <td>254.0</td>\n",
       "      <td>264.0</td>\n",
       "      <td>333.0</td>\n",
       "      <td>318.0</td>\n",
       "      <td>145.0</td>\n",
       "      <td>...</td>\n",
       "      <td>43.0</td>\n",
       "      <td>0.0</td>\n",
       "      <td>0.0</td>\n",
       "      <td>1.0</td>\n",
       "      <td>1.0</td>\n",
       "      <td>0.0</td>\n",
       "      <td>0.0</td>\n",
       "      <td>26.0</td>\n",
       "      <td>1.0</td>\n",
       "      <td>6.0</td>\n",
       "    </tr>\n",
       "  </tbody>\n",
       "</table>\n",
       "<p>5 rows × 102 columns</p>\n",
       "</div>"
      ],
      "text/plain": [
       "                     1075   1076  1077   1125   1126   1127   1128   1129  \\\n",
       "2016-01-01 00:00:00  80.0  144.0  50.0   77.0  319.0  402.0  531.0  617.0   \n",
       "2016-01-01 01:00:00  91.0  211.0  49.0  134.0  404.0  420.0  370.0  453.0   \n",
       "2016-01-01 02:00:00  90.0  146.0  23.0  110.0  393.0  425.0  313.0  366.0   \n",
       "2016-01-01 03:00:00  32.0   87.0  16.0   62.0  252.0  399.0  324.0  309.0   \n",
       "2016-01-01 04:00:00  24.0   43.0  10.0   53.0  145.0  254.0  264.0  333.0   \n",
       "\n",
       "                      1130   1131  ...   1630  1684  1733  1734  1783  2068  \\\n",
       "2016-01-01 00:00:00  846.0  267.0  ...   12.0   0.0   2.0  44.0   5.0  41.0   \n",
       "2016-01-01 01:00:00  594.0  224.0  ...   29.0   0.0   5.0   2.0   2.0   4.0   \n",
       "2016-01-01 02:00:00  377.0  138.0  ...   47.0   0.0   3.0   0.0   4.0   0.0   \n",
       "2016-01-01 03:00:00  327.0  166.0  ...   46.0   0.0   2.0   4.0   5.0   1.0   \n",
       "2016-01-01 04:00:00  318.0  145.0  ...   43.0   0.0   0.0   1.0   1.0   0.0   \n",
       "\n",
       "                     2069  2118  2119  2168  \n",
       "2016-01-01 00:00:00   4.0  70.0   7.0  66.0  \n",
       "2016-01-01 01:00:00   0.0  47.0   1.0  29.0  \n",
       "2016-01-01 02:00:00   0.0  69.0   1.0  14.0  \n",
       "2016-01-01 03:00:00   0.0  21.0   0.0   9.0  \n",
       "2016-01-01 04:00:00   0.0  26.0   1.0   6.0  \n",
       "\n",
       "[5 rows x 102 columns]"
      ]
     },
     "execution_count": 3,
     "metadata": {},
     "output_type": "execute_result"
    }
   ],
   "source": [
    "train_df = pd.read_csv(os.path.join(PATH_TO_DATA, 'train.csv'), index_col=0, parse_dates=[0])\n",
    "\n",
    "print(train_df.shape)\n",
    "train_df.head()"
   ]
  },
  {
   "cell_type": "markdown",
   "metadata": {},
   "source": [
    "#### 2. Перед проведением кластеризации стандартизуйте столбцы (вычтите выборочное среднее и поделите на выборочную дисперсию). Это необходимо, поскольку при выборе модели ARIMA имеет значение только форма ряда, но не его средний уровень и размах колебаний."
   ]
  },
  {
   "cell_type": "code",
   "execution_count": 219,
   "metadata": {},
   "outputs": [
    {
     "data": {
      "text/html": [
       "<div>\n",
       "<style>\n",
       "    .dataframe thead tr:only-child th {\n",
       "        text-align: right;\n",
       "    }\n",
       "\n",
       "    .dataframe thead th {\n",
       "        text-align: left;\n",
       "    }\n",
       "\n",
       "    .dataframe tbody tr th {\n",
       "        vertical-align: top;\n",
       "    }\n",
       "</style>\n",
       "<table border=\"1\" class=\"dataframe\">\n",
       "  <thead>\n",
       "    <tr style=\"text-align: right;\">\n",
       "      <th></th>\n",
       "      <th>1075</th>\n",
       "      <th>1076</th>\n",
       "      <th>1077</th>\n",
       "      <th>1125</th>\n",
       "      <th>1126</th>\n",
       "      <th>1127</th>\n",
       "      <th>1128</th>\n",
       "      <th>1129</th>\n",
       "      <th>1130</th>\n",
       "      <th>1131</th>\n",
       "      <th>...</th>\n",
       "      <th>1630</th>\n",
       "      <th>1684</th>\n",
       "      <th>1733</th>\n",
       "      <th>1734</th>\n",
       "      <th>1783</th>\n",
       "      <th>2068</th>\n",
       "      <th>2069</th>\n",
       "      <th>2118</th>\n",
       "      <th>2119</th>\n",
       "      <th>2168</th>\n",
       "    </tr>\n",
       "  </thead>\n",
       "  <tbody>\n",
       "    <tr>\n",
       "      <th>2016-01-01 00:00:00</th>\n",
       "      <td>0.534241</td>\n",
       "      <td>0.178268</td>\n",
       "      <td>-0.565290</td>\n",
       "      <td>0.271008</td>\n",
       "      <td>1.423365</td>\n",
       "      <td>0.941171</td>\n",
       "      <td>1.327459</td>\n",
       "      <td>1.324730</td>\n",
       "      <td>1.906584</td>\n",
       "      <td>1.834661</td>\n",
       "      <td>...</td>\n",
       "      <td>1.550964</td>\n",
       "      <td>-0.883553</td>\n",
       "      <td>-0.571816</td>\n",
       "      <td>-1.047599</td>\n",
       "      <td>-1.251690</td>\n",
       "      <td>-0.786630</td>\n",
       "      <td>-0.681784</td>\n",
       "      <td>-0.821134</td>\n",
       "      <td>-0.855567</td>\n",
       "      <td>0.031375</td>\n",
       "    </tr>\n",
       "    <tr>\n",
       "      <th>2016-01-01 01:00:00</th>\n",
       "      <td>0.823251</td>\n",
       "      <td>1.005466</td>\n",
       "      <td>-0.582498</td>\n",
       "      <td>1.673565</td>\n",
       "      <td>2.292532</td>\n",
       "      <td>1.069110</td>\n",
       "      <td>0.407537</td>\n",
       "      <td>0.529737</td>\n",
       "      <td>0.846772</td>\n",
       "      <td>1.255014</td>\n",
       "      <td>...</td>\n",
       "      <td>5.252046</td>\n",
       "      <td>-0.883553</td>\n",
       "      <td>-0.069227</td>\n",
       "      <td>-1.325488</td>\n",
       "      <td>-1.275612</td>\n",
       "      <td>-1.423584</td>\n",
       "      <td>-1.171799</td>\n",
       "      <td>-1.125064</td>\n",
       "      <td>-1.089196</td>\n",
       "      <td>-0.930987</td>\n",
       "    </tr>\n",
       "    <tr>\n",
       "      <th>2016-01-01 02:00:00</th>\n",
       "      <td>0.796978</td>\n",
       "      <td>0.202960</td>\n",
       "      <td>-1.029900</td>\n",
       "      <td>1.083015</td>\n",
       "      <td>2.180052</td>\n",
       "      <td>1.104649</td>\n",
       "      <td>0.081851</td>\n",
       "      <td>0.108003</td>\n",
       "      <td>-0.065844</td>\n",
       "      <td>0.095721</td>\n",
       "      <td>...</td>\n",
       "      <td>9.170839</td>\n",
       "      <td>-0.883553</td>\n",
       "      <td>-0.404286</td>\n",
       "      <td>-1.338721</td>\n",
       "      <td>-1.259664</td>\n",
       "      <td>-1.492444</td>\n",
       "      <td>-1.171799</td>\n",
       "      <td>-0.834348</td>\n",
       "      <td>-1.089196</td>\n",
       "      <td>-1.321133</td>\n",
       "    </tr>\n",
       "    <tr>\n",
       "      <th>2016-01-01 03:00:00</th>\n",
       "      <td>-0.726896</td>\n",
       "      <td>-0.525467</td>\n",
       "      <td>-1.150354</td>\n",
       "      <td>-0.098086</td>\n",
       "      <td>0.738257</td>\n",
       "      <td>0.919848</td>\n",
       "      <td>0.144702</td>\n",
       "      <td>-0.168306</td>\n",
       "      <td>-0.276125</td>\n",
       "      <td>0.473165</td>\n",
       "      <td>...</td>\n",
       "      <td>8.953128</td>\n",
       "      <td>-0.883553</td>\n",
       "      <td>-0.571816</td>\n",
       "      <td>-1.312255</td>\n",
       "      <td>-1.251690</td>\n",
       "      <td>-1.475229</td>\n",
       "      <td>-1.171799</td>\n",
       "      <td>-1.468637</td>\n",
       "      <td>-1.128134</td>\n",
       "      <td>-1.451182</td>\n",
       "    </tr>\n",
       "    <tr>\n",
       "      <th>2016-01-01 04:00:00</th>\n",
       "      <td>-0.937086</td>\n",
       "      <td>-1.068702</td>\n",
       "      <td>-1.253601</td>\n",
       "      <td>-0.319543</td>\n",
       "      <td>-0.355871</td>\n",
       "      <td>-0.110772</td>\n",
       "      <td>-0.198126</td>\n",
       "      <td>-0.051966</td>\n",
       "      <td>-0.313975</td>\n",
       "      <td>0.190082</td>\n",
       "      <td>...</td>\n",
       "      <td>8.299996</td>\n",
       "      <td>-0.883553</td>\n",
       "      <td>-0.906875</td>\n",
       "      <td>-1.332105</td>\n",
       "      <td>-1.283586</td>\n",
       "      <td>-1.492444</td>\n",
       "      <td>-1.171799</td>\n",
       "      <td>-1.402566</td>\n",
       "      <td>-1.089196</td>\n",
       "      <td>-1.529211</td>\n",
       "    </tr>\n",
       "  </tbody>\n",
       "</table>\n",
       "<p>5 rows × 102 columns</p>\n",
       "</div>"
      ],
      "text/plain": [
       "                         1075      1076      1077      1125      1126  \\\n",
       "2016-01-01 00:00:00  0.534241  0.178268 -0.565290  0.271008  1.423365   \n",
       "2016-01-01 01:00:00  0.823251  1.005466 -0.582498  1.673565  2.292532   \n",
       "2016-01-01 02:00:00  0.796978  0.202960 -1.029900  1.083015  2.180052   \n",
       "2016-01-01 03:00:00 -0.726896 -0.525467 -1.150354 -0.098086  0.738257   \n",
       "2016-01-01 04:00:00 -0.937086 -1.068702 -1.253601 -0.319543 -0.355871   \n",
       "\n",
       "                         1127      1128      1129      1130      1131  \\\n",
       "2016-01-01 00:00:00  0.941171  1.327459  1.324730  1.906584  1.834661   \n",
       "2016-01-01 01:00:00  1.069110  0.407537  0.529737  0.846772  1.255014   \n",
       "2016-01-01 02:00:00  1.104649  0.081851  0.108003 -0.065844  0.095721   \n",
       "2016-01-01 03:00:00  0.919848  0.144702 -0.168306 -0.276125  0.473165   \n",
       "2016-01-01 04:00:00 -0.110772 -0.198126 -0.051966 -0.313975  0.190082   \n",
       "\n",
       "                       ...         1630      1684      1733      1734  \\\n",
       "2016-01-01 00:00:00    ...     1.550964 -0.883553 -0.571816 -1.047599   \n",
       "2016-01-01 01:00:00    ...     5.252046 -0.883553 -0.069227 -1.325488   \n",
       "2016-01-01 02:00:00    ...     9.170839 -0.883553 -0.404286 -1.338721   \n",
       "2016-01-01 03:00:00    ...     8.953128 -0.883553 -0.571816 -1.312255   \n",
       "2016-01-01 04:00:00    ...     8.299996 -0.883553 -0.906875 -1.332105   \n",
       "\n",
       "                         1783      2068      2069      2118      2119  \\\n",
       "2016-01-01 00:00:00 -1.251690 -0.786630 -0.681784 -0.821134 -0.855567   \n",
       "2016-01-01 01:00:00 -1.275612 -1.423584 -1.171799 -1.125064 -1.089196   \n",
       "2016-01-01 02:00:00 -1.259664 -1.492444 -1.171799 -0.834348 -1.089196   \n",
       "2016-01-01 03:00:00 -1.251690 -1.475229 -1.171799 -1.468637 -1.128134   \n",
       "2016-01-01 04:00:00 -1.283586 -1.492444 -1.171799 -1.402566 -1.089196   \n",
       "\n",
       "                         2168  \n",
       "2016-01-01 00:00:00  0.031375  \n",
       "2016-01-01 01:00:00 -0.930987  \n",
       "2016-01-01 02:00:00 -1.321133  \n",
       "2016-01-01 03:00:00 -1.451182  \n",
       "2016-01-01 04:00:00 -1.529211  \n",
       "\n",
       "[5 rows x 102 columns]"
      ]
     },
     "execution_count": 219,
     "metadata": {},
     "output_type": "execute_result"
    }
   ],
   "source": [
    "df = (train_df - train_df.mean()) / train_df.std()\n",
    "df.head()"
   ]
  },
  {
   "cell_type": "markdown",
   "metadata": {},
   "source": [
    "#### 3. Кластеризуйте географические зоны по значениям стандартизованных рядов. Подберите число кластеров так, чтобы оно было не слишком большим, но ряды внутри кластеров имели похожую форму. Постройте графики стандартизованных рядов каждого кластера, чтобы в этом убедиться."
   ]
  },
  {
   "cell_type": "code",
   "execution_count": 5,
   "metadata": {},
   "outputs": [
    {
     "name": "stdout",
     "output_type": "stream",
     "text": [
      "Wall time: 1.52 s\n"
     ]
    }
   ],
   "source": [
    "%%time\n",
    "pca = PCA(n_components=2).fit(df.T.values)\n",
    "result = pca.transform(df.T.values)"
   ]
  },
  {
   "cell_type": "code",
   "execution_count": 6,
   "metadata": {},
   "outputs": [],
   "source": [
    "x = result[:, :-1].flatten()\n",
    "y = result[:, -1:].flatten()"
   ]
  },
  {
   "cell_type": "code",
   "execution_count": 7,
   "metadata": {},
   "outputs": [
    {
     "name": "stdout",
     "output_type": "stream",
     "text": [
      "Wall time: 409 ms\n"
     ]
    }
   ],
   "source": [
    "%%time\n",
    "ac = AgglomerativeClustering(n_clusters=4)\n",
    "clusters = ac.fit_predict(df.T.values)"
   ]
  },
  {
   "cell_type": "code",
   "execution_count": 8,
   "metadata": {},
   "outputs": [
    {
     "data": {
      "image/png": "[encoded data removed]",
      "text/plain": [
       "<matplotlib.figure.Figure at 0x275013f1f28>"
      ]
     },
     "metadata": {},
     "output_type": "display_data"
    }
   ],
   "source": [
    "_ = plt.scatter(x, y, c=clusters)"
   ]
  },
  {
   "cell_type": "markdown",
   "metadata": {},
   "source": [
    "#### 4. В каждом кластере выберите наиболее типичный ряд (например, это может быть ряд, соответствующий центру кластера)."
   ]
  },
  {
   "cell_type": "code",
   "execution_count": 9,
   "metadata": {},
   "outputs": [
    {
     "data": {
      "text/html": [
       "<div>\n",
       "<style>\n",
       "    .dataframe thead tr:only-child th {\n",
       "        text-align: right;\n",
       "    }\n",
       "\n",
       "    .dataframe thead th {\n",
       "        text-align: left;\n",
       "    }\n",
       "\n",
       "    .dataframe tbody tr th {\n",
       "        vertical-align: top;\n",
       "    }\n",
       "</style>\n",
       "<table border=\"1\" class=\"dataframe\">\n",
       "  <thead>\n",
       "    <tr style=\"text-align: right;\">\n",
       "      <th></th>\n",
       "      <th>cluster</th>\n",
       "      <th>x</th>\n",
       "      <th>y</th>\n",
       "    </tr>\n",
       "  </thead>\n",
       "  <tbody>\n",
       "    <tr>\n",
       "      <th>0</th>\n",
       "      <td>3</td>\n",
       "      <td>-24.516313</td>\n",
       "      <td>-17.431448</td>\n",
       "    </tr>\n",
       "    <tr>\n",
       "      <th>1</th>\n",
       "      <td>3</td>\n",
       "      <td>-31.403477</td>\n",
       "      <td>-3.760618</td>\n",
       "    </tr>\n",
       "    <tr>\n",
       "      <th>2</th>\n",
       "      <td>3</td>\n",
       "      <td>-30.069664</td>\n",
       "      <td>2.830651</td>\n",
       "    </tr>\n",
       "    <tr>\n",
       "      <th>3</th>\n",
       "      <td>1</td>\n",
       "      <td>-19.320497</td>\n",
       "      <td>-16.837401</td>\n",
       "    </tr>\n",
       "    <tr>\n",
       "      <th>4</th>\n",
       "      <td>1</td>\n",
       "      <td>-18.176169</td>\n",
       "      <td>-18.141138</td>\n",
       "    </tr>\n",
       "  </tbody>\n",
       "</table>\n",
       "</div>"
      ],
      "text/plain": [
       "   cluster          x          y\n",
       "0        3 -24.516313 -17.431448\n",
       "1        3 -31.403477  -3.760618\n",
       "2        3 -30.069664   2.830651\n",
       "3        1 -19.320497 -16.837401\n",
       "4        1 -18.176169 -18.141138"
      ]
     },
     "execution_count": 9,
     "metadata": {},
     "output_type": "execute_result"
    }
   ],
   "source": [
    "cluster_df = pd.DataFrame({'x': x, 'y':y, 'cluster':clusters})\n",
    "cluster_df.head()"
   ]
  },
  {
   "cell_type": "code",
   "execution_count": 10,
   "metadata": {},
   "outputs": [],
   "source": [
    "gruped = cluster_df.groupby('cluster')\n",
    "\n",
    "group_dict = {}\n",
    "\n",
    "for g in gruped.groups.keys():\n",
    "    means = gruped.get_group(g).mean()\n",
    "    center = np.array([means['x'], means['y']])\n",
    "    \n",
    "    s = pd.Series()\n",
    "    \n",
    "    for row in gruped.get_group(g).iterrows():\n",
    "        s[str(row[0])] = np.linalg.norm(center - np.array([row[1]['x'], row[1]['y']]))\n",
    "        \n",
    "    group_dict[g] = int(s.sort_values().index[0])"
   ]
  },
  {
   "cell_type": "code",
   "execution_count": 11,
   "metadata": {},
   "outputs": [
    {
     "data": {
      "text/plain": [
       "{0: 11, 1: 18, 2: 38, 3: 54}"
      ]
     },
     "execution_count": 11,
     "metadata": {},
     "output_type": "execute_result"
    }
   ],
   "source": [
    "group_dict"
   ]
  },
  {
   "cell_type": "code",
   "execution_count": 12,
   "metadata": {},
   "outputs": [
    {
     "data": {
      "image/png": "[encoded data removed]",
      "text/plain": [
       "<matplotlib.figure.Figure at 0x27506cd02b0>"
      ]
     },
     "metadata": {},
     "output_type": "display_data"
    }
   ],
   "source": [
    "fig = plt.figure()\n",
    "ax = fig.add_subplot(111)\n",
    "\n",
    "scatter = ax.scatter(x, y, c=clusters)\n",
    "for k in group_dict:\n",
    "    i = x[group_dict[k]]\n",
    "    j = y[group_dict[k]]\n",
    "    ax.scatter(i,j, s=200, c='red',marker='+')\n",
    "    text = 'cl {} id {}'.format(k, group_dict[k])\n",
    "    ax.annotate(text, (i + 1, j + 1))"
   ]
  },
  {
   "cell_type": "markdown",
   "metadata": {},
   "source": [
    "По графику можем видеть что получилось достаточно неплохое разбиение на кластеры, так что думаю на этом можно остановиться."
   ]
  },
  {
   "cell_type": "markdown",
   "metadata": {},
   "source": [
    "#### 5. Для выбранных географических зон подберите на исходных рядах оптимальную структуру моделей — набор регрессионных признаков и значения гиперпараметров p,d,q,P,D,Q — так, как это делалось на прошлой неделе. Не используйте данные за последний имеющийся месяц — май и июнь 2016!"
   ]
  },
  {
   "cell_type": "code",
   "execution_count": 13,
   "metadata": {},
   "outputs": [
    {
     "data": {
      "text/html": [
       "<div>\n",
       "<style>\n",
       "    .dataframe thead tr:only-child th {\n",
       "        text-align: right;\n",
       "    }\n",
       "\n",
       "    .dataframe thead th {\n",
       "        text-align: left;\n",
       "    }\n",
       "\n",
       "    .dataframe tbody tr th {\n",
       "        vertical-align: top;\n",
       "    }\n",
       "</style>\n",
       "<table border=\"1\" class=\"dataframe\">\n",
       "  <thead>\n",
       "    <tr style=\"text-align: right;\">\n",
       "      <th></th>\n",
       "      <th>1172</th>\n",
       "      <th>1179</th>\n",
       "      <th>1272</th>\n",
       "      <th>1332</th>\n",
       "    </tr>\n",
       "  </thead>\n",
       "  <tbody>\n",
       "    <tr>\n",
       "      <th>2016-01-01 00:00:00</th>\n",
       "      <td>2.303934</td>\n",
       "      <td>0.975628</td>\n",
       "      <td>5.472612</td>\n",
       "      <td>1.201498</td>\n",
       "    </tr>\n",
       "    <tr>\n",
       "      <th>2016-01-01 01:00:00</th>\n",
       "      <td>6.826847</td>\n",
       "      <td>0.068775</td>\n",
       "      <td>10.780294</td>\n",
       "      <td>1.849727</td>\n",
       "    </tr>\n",
       "    <tr>\n",
       "      <th>2016-01-01 02:00:00</th>\n",
       "      <td>5.387738</td>\n",
       "      <td>-0.371482</td>\n",
       "      <td>11.664908</td>\n",
       "      <td>1.047411</td>\n",
       "    </tr>\n",
       "    <tr>\n",
       "      <th>2016-01-01 03:00:00</th>\n",
       "      <td>4.770977</td>\n",
       "      <td>-0.409110</td>\n",
       "      <td>5.598985</td>\n",
       "      <td>0.117574</td>\n",
       "    </tr>\n",
       "    <tr>\n",
       "      <th>2016-01-01 04:00:00</th>\n",
       "      <td>0.659238</td>\n",
       "      <td>-0.420399</td>\n",
       "      <td>2.313277</td>\n",
       "      <td>-0.780382</td>\n",
       "    </tr>\n",
       "  </tbody>\n",
       "</table>\n",
       "</div>"
      ],
      "text/plain": [
       "                         1172      1179       1272      1332\n",
       "2016-01-01 00:00:00  2.303934  0.975628   5.472612  1.201498\n",
       "2016-01-01 01:00:00  6.826847  0.068775  10.780294  1.849727\n",
       "2016-01-01 02:00:00  5.387738 -0.371482  11.664908  1.047411\n",
       "2016-01-01 03:00:00  4.770977 -0.409110   5.598985  0.117574\n",
       "2016-01-01 04:00:00  0.659238 -0.420399   2.313277 -0.780382"
      ]
     },
     "execution_count": 13,
     "metadata": {},
     "output_type": "execute_result"
    }
   ],
   "source": [
    "region_df = df.iloc[:, [11, 18, 38, 54]]\n",
    "region_df.head()"
   ]
  },
  {
   "cell_type": "code",
   "execution_count": 14,
   "metadata": {},
   "outputs": [
    {
     "data": {
      "image/png": "[encoded data removed]",
      "text/plain": [
       "<matplotlib.figure.Figure at 0x27506e349e8>"
      ]
     },
     "metadata": {},
     "output_type": "display_data"
    }
   ],
   "source": [
    "_, ax = plt.subplots(2, 1, sharex=True)\n",
    "sm.graphics.tsa.plot_acf(region_df['1172'].values.squeeze(), lags=48, ax=ax[0])\n",
    "sm.graphics.tsa.plot_pacf(region_df['1172'].values.squeeze(), lags=48, ax=ax[1])\n",
    "plt.show()"
   ]
  },
  {
   "cell_type": "code",
   "execution_count": 15,
   "metadata": {},
   "outputs": [
    {
     "data": {
      "text/plain": [
       "16"
      ]
     },
     "execution_count": 15,
     "metadata": {},
     "output_type": "execute_result"
    }
   ],
   "source": [
    "p = range(2)\n",
    "q = range(2)\n",
    "P = range(2)\n",
    "Q = range(2)\n",
    "\n",
    "d, D = 1, 1\n",
    "\n",
    "parameters = list(product(p, q, P, Q))\n",
    "len(parameters)"
   ]
  },
  {
   "cell_type": "code",
   "execution_count": 16,
   "metadata": {},
   "outputs": [],
   "source": [
    "train_dict = {0: '1172', 1: '1179', 2: '1272', 3: '1332'}\n",
    "params_dict = {}\n",
    "best_model_dict = {}"
   ]
  },
  {
   "cell_type": "code",
   "execution_count": 17,
   "metadata": {},
   "outputs": [
    {
     "name": "stderr",
     "output_type": "stream",
     "text": [
      "100%|████████████████████████████████████████████████████████████████████████████████████████████████████| 4/4 [31:02<00:00, 469.72s/it]\n"
     ]
    },
    {
     "name": "stdout",
     "output_type": "stream",
     "text": [
      "Wall time: 31min 2s\n"
     ]
    }
   ],
   "source": [
    "%%time\n",
    "for c in tqdm(np.unique(clusters)):\n",
    "    best_aic = float(\"inf\")\n",
    "\n",
    "    for param in parameters:\n",
    "        try:\n",
    "            model=sm.tsa.statespace.SARIMAX(region_df[train_dict[c]], order=(param[0], d, param[1]), \n",
    "                                            seasonal_order=(param[2], D, param[3], 24)).fit(disp=-1)\n",
    "        except LinAlgError:\n",
    "            continue\n",
    "        except ValueError:\n",
    "            continue\n",
    "\n",
    "        aic = model.aic\n",
    "        if aic < best_aic:\n",
    "            best_aic = aic\n",
    "            params_dict[c] = param"
   ]
  },
  {
   "cell_type": "code",
   "execution_count": 18,
   "metadata": {},
   "outputs": [
    {
     "data": {
      "text/plain": [
       "{0: (1, 1, 1, 1), 1: (1, 1, 1, 1), 2: (1, 1, 1, 1), 3: (0, 1, 1, 1)}"
      ]
     },
     "execution_count": 18,
     "metadata": {},
     "output_type": "execute_result"
    }
   ],
   "source": [
    "params_dict"
   ]
  },
  {
   "cell_type": "markdown",
   "metadata": {},
   "source": [
    "#### 6. Для каждой из R географических зон настройте на данных до апреля 2016 включительно модель ARIMA с гиперпараметрами, соответствующими кластеру этой зоны. Для каждого конца истории от 2016.04.30 23:00 до 2016.05.31 17:00 постройте прогноз на 6 часов вперёд и посчитайте в ноутбуке ошибку прогноза по следующему функционалу:\n",
    "\n",
    "$$Q_{june} = {1 \\over R * 715 * 6} +\\sum_{r=1}^{R} \\sum_{2016.04.30\\ 23:00}^{2016.05.31\\ 17:00}\\sum_{i=1}^{6} |\\hat{y}_{T|T+i} - y^r_{T+i}|$$"
   ]
  },
  {
   "cell_type": "code",
   "execution_count": 20,
   "metadata": {},
   "outputs": [],
   "source": [
    "hours_in_day = 24\n",
    "\n",
    "sin_day = np.sin(np.array(range(1, hours_in_day + 1)) * 2 * np.pi / (hours_in_day))\n",
    "sin_day = np.tile(sin_day, int(train_df.shape[0] / len(sin_day) + 1))\n",
    "\n",
    "hours_in_week = 7 * 24\n",
    "sin_week = np.sin(np.array(range(1, hours_in_week + 1)) * 2 * np.pi / (hours_in_week))\n",
    "sin_week = np.tile(sin_week, int(train_df.shape[0] / len(sin_week) + 2))\n",
    "\n",
    "days = {'sin_day_%d' % i: sin_day[i: train_df.shape[0] + i] for i in range(hours_in_day)}\n",
    "weeks = {'sin_week_%d' % i: sin_week[i: train_df.shape[0] + i] for i in range(hours_in_week)}\n",
    "\n",
    "sin_df = pd.DataFrame({**days, **weeks})"
   ]
  },
  {
   "cell_type": "code",
   "execution_count": 48,
   "metadata": {},
   "outputs": [],
   "source": [
    "test_05_df = pd.read_csv(os.path.join(PATH_TO_DATA, 'train_05.csv'), index_col=0)"
   ]
  },
  {
   "cell_type": "code",
   "execution_count": 191,
   "metadata": {},
   "outputs": [],
   "source": [
    "may_start_period = datetime(2016, 4, 30, 23, 0, 0)\n",
    "may_end_period = datetime(2016, 5, 31, 23, 0, 0)\n",
    "offset = pd.DateOffset(hours=5)\n",
    "\n",
    "X = sin_df.values"
   ]
  },
  {
   "cell_type": "code",
   "execution_count": 192,
   "metadata": {},
   "outputs": [
    {
     "name": "stderr",
     "output_type": "stream",
     "text": [
      "100%|███████████████████████████████████████████████████████████████████████████████████████████████| 102/102 [1:05:57<00:00, 34.72s/it]\n"
     ]
    },
    {
     "name": "stdout",
     "output_type": "stream",
     "text": [
      "Wall time: 1h 5min 57s\n"
     ]
    }
   ],
   "source": [
    "%%time\n",
    "\n",
    "linea_pred_df = pd.DataFrame()\n",
    "sarimax_pred_df = pd.DataFrame()\n",
    "\n",
    "for c in tqdm(train_df.columns):\n",
    "    \n",
    "    p, q, P, Q = params_dict[clusters[train_df.columns.values.tolist().index(c)]]\n",
    "    model = sm.tsa.statespace.SARIMAX(df[c], order=(p, d, q), seasonal_order=(P, D, Q, 24),\n",
    "                                     enforce_invertibility=False, enforce_stationarity=False).fit(disp=-1)\n",
    "        \n",
    "    lr = LinearRegression().fit(X, df[c].values - model.fittedvalues)\n",
    "    \n",
    "    linea_pred_df[c] = lr.predict(X[:745])\n",
    "    sarimax_pred_df[c] = model.predict(start=may_start_period, end=may_end_period).values"
   ]
  },
  {
   "cell_type": "code",
   "execution_count": 193,
   "metadata": {},
   "outputs": [],
   "source": [
    "linea_pred_df.to_csv('tmp/may_linea_pred.csv')\n",
    "sarimax_pred_df.to_csv('tmp/may_sarimax_pred.csv')"
   ]
  },
  {
   "cell_type": "code",
   "execution_count": 194,
   "metadata": {},
   "outputs": [],
   "source": [
    "tmp_train_df = pd.read_csv('train_2.csv', index_col=0, parse_dates=[0])\n",
    "tmp_df = ((tmp_train_df - tmp_train_df.mean()) / tmp_train_df.std()).fillna(0)"
   ]
  },
  {
   "cell_type": "code",
   "execution_count": 195,
   "metadata": {},
   "outputs": [],
   "source": [
    "hours_in_day = 24\n",
    "\n",
    "sin_day = np.sin(np.array(range(1, hours_in_day + 1)) * 2 * np.pi / (hours_in_day))\n",
    "sin_day = np.tile(sin_day, int(tmp_train_df.shape[0] / len(sin_day) + 1))\n",
    "\n",
    "hours_in_week = 7 * 24\n",
    "sin_week = np.sin(np.array(range(1, hours_in_week + 1)) * 2 * np.pi / (hours_in_week))\n",
    "sin_week = np.tile(sin_week, int(tmp_train_df.shape[0] / len(sin_week) + 2))\n",
    "\n",
    "days = {'sin_day_%d' % i: sin_day[i: tmp_train_df.shape[0] + i] for i in range(hours_in_day)}\n",
    "weeks = {'sin_week_%d' % i: sin_week[i: tmp_train_df.shape[0] + i] for i in range(hours_in_week)}\n",
    "\n",
    "tmp_sin_df = pd.DataFrame({**days, **weeks})"
   ]
  },
  {
   "cell_type": "code",
   "execution_count": 196,
   "metadata": {},
   "outputs": [
    {
     "name": "stderr",
     "output_type": "stream",
     "text": [
      "100%|███████████████████████████████████████████████████████████████████████████████████████████████| 102/102 [1:27:58<00:00, 42.89s/it]\n"
     ]
    },
    {
     "name": "stdout",
     "output_type": "stream",
     "text": [
      "Wall time: 1h 27min 58s\n"
     ]
    }
   ],
   "source": [
    "%%time\n",
    "\n",
    "june_start_period = datetime(2016, 5, 31, 23, 0, 0)\n",
    "june_end_period = datetime(2016, 6, 30, 23, 0, 0)\n",
    "\n",
    "X = tmp_sin_df.values\n",
    "\n",
    "linea_pred_df = pd.DataFrame()\n",
    "sarimax_pred_df = pd.DataFrame()\n",
    "\n",
    "for c in tqdm(tmp_train_df.columns):\n",
    "    \n",
    "    p, q, P, Q = params_dict[clusters[tmp_train_df.columns.values.tolist().index(c)]]\n",
    "    model = sm.tsa.statespace.SARIMAX(tmp_df[c], order=(p, d, q), seasonal_order=(P, D, Q, 24),\n",
    "                                     enforce_invertibility=False, enforce_stationarity=False).fit(disp=-1)\n",
    "        \n",
    "    lr = LinearRegression().fit(X, tmp_df[c].values - model.fittedvalues)\n",
    "    \n",
    "    linea_pred_df[c] = lr.predict(X[:721])\n",
    "    sarimax_pred_df[c] = model.predict(start=june_start_period, end=june_end_period).values"
   ]
  },
  {
   "cell_type": "code",
   "execution_count": 197,
   "metadata": {},
   "outputs": [],
   "source": [
    "linea_pred_df.to_csv('tmp/june_linea_pred.csv')\n",
    "sarimax_pred_df.to_csv('tmp/june_sarimax_pred.csv')"
   ]
  },
  {
   "cell_type": "code",
   "execution_count": 238,
   "metadata": {},
   "outputs": [],
   "source": [
    "linea_pred_df = pd.read_csv('tmp/may_linea_pred.csv', index_col=0).loc[1:]\n",
    "sarimax_pred_df = pd.read_csv('tmp/may_sarimax_pred.csv', index_col=0).loc[1:]"
   ]
  },
  {
   "cell_type": "code",
   "execution_count": 243,
   "metadata": {},
   "outputs": [],
   "source": [
    "prediction_df = (sarimax_pred_df + linea_pred_df) * train_df.std() + train_df.mean()"
   ]
  },
  {
   "cell_type": "code",
   "execution_count": 321,
   "metadata": {},
   "outputs": [],
   "source": [
    "def rolling_window(a, window):\n",
    "    shape = a.shape[:-1] + (a.shape[-1] - window + 1, window)\n",
    "    strides = a.strides + (a.strides[-1],)\n",
    "    return np.lib.stride_tricks.as_strided(a, shape=shape, strides=strides)"
   ]
  },
  {
   "cell_type": "code",
   "execution_count": 246,
   "metadata": {},
   "outputs": [
    {
     "name": "stderr",
     "output_type": "stream",
     "text": [
      "100%|████████████████████████████████████████████████████████████████████████████████████████████████| 102/102 [00:00<00:00, 930.78it/s]\n"
     ]
    }
   ],
   "source": [
    "error = 0\n",
    "for c in tqdm(prediction_df.columns):\n",
    "    error += sum(sum(abs(rolling_window(prediction_df[c], 6) - rolling_window(test_05_df[c], 6)))) / (6 * 739 * prediction_df.shape[1])"
   ]
  },
  {
   "cell_type": "code",
   "execution_count": 247,
   "metadata": {},
   "outputs": [
    {
     "data": {
      "text/plain": [
       "121.80709183566249"
      ]
     },
     "execution_count": 247,
     "metadata": {},
     "output_type": "execute_result"
    }
   ],
   "source": [
    "error"
   ]
  },
  {
   "cell_type": "markdown",
   "metadata": {},
   "source": [
    "#### 7. Для каждой из R географических зон настройте на данных до мая 2016 включительно модель ARIMA с гиперпараметрами, соответствующими кластеру этой зоны. Для каждого конца истории от 2016.05.31 23:00 до 2016.06.30 17:00 постройте прогноз на 6 часов вперёд и запишите все прогнозы в файл в формате id,y, где столбец id состоит из склеенных через подчёркивание идентификатора географической зоны, даты конца истории, часа конца истории и номера отсчёта, на который делается предсказание (1-6); столбец y — ваш прогноз."
   ]
  },
  {
   "cell_type": "code",
   "execution_count": 399,
   "metadata": {},
   "outputs": [],
   "source": [
    "start_period = june_start_period - pd.DateOffset(hours=5)\n",
    "dates = [start_period + pd.DateOffset(hours=i) for i in range(721)]"
   ]
  },
  {
   "cell_type": "code",
   "execution_count": 394,
   "metadata": {},
   "outputs": [],
   "source": [
    "linea_pred_df = pd.read_csv('tmp/june_linea_pred.csv', index_col=0).iloc[:-7]\n",
    "sarimax_pred_df = pd.read_csv('tmp/june_sarimax_pred.csv', index_col=0).iloc[:-7]"
   ]
  },
  {
   "cell_type": "code",
   "execution_count": 395,
   "metadata": {},
   "outputs": [],
   "source": [
    "prediction_df = (sarimax_pred_df + linea_pred_df) * train_df.std() + train_df.mean()"
   ]
  },
  {
   "cell_type": "code",
   "execution_count": 401,
   "metadata": {},
   "outputs": [],
   "source": [
    "index = []\n",
    "values = []"
   ]
  },
  {
   "cell_type": "code",
   "execution_count": 402,
   "metadata": {},
   "outputs": [
    {
     "name": "stderr",
     "output_type": "stream",
     "text": [
      "100%|█████████████████████████████████████████████████████████████████████████████████████████████████| 102/102 [00:01<00:00, 74.09it/s]\n"
     ]
    }
   ],
   "source": [
    "for c in tqdm(prediction_df.columns):\n",
    "    t = rolling_window(prediction_df[c], 6)\n",
    "    for idx, x in enumerate(t):\n",
    "        for off, i in enumerate(x):\n",
    "            tm = dates[idx + off]\n",
    "            index.append('{}_2016-{:02}-{:02}_{}_{}'.format(c, tm.month, tm.day, tm.hour, 6 - off))\n",
    "            values.append(int(i))"
   ]
  },
  {
   "cell_type": "markdown",
   "metadata": {},
   "source": [
    "#### 8. Загрузите полученный файл на kaggle: https://inclass.kaggle.com/c/yellowtaxi. Добавьте в ноутбук ссылку на сабмишн."
   ]
  },
  {
   "cell_type": "code",
   "execution_count": 403,
   "metadata": {},
   "outputs": [],
   "source": [
    "result_df = pd.DataFrame(values, index=index)\n",
    "result_df.columns = ['y']\n",
    "result_df.index.name = 'id'\n",
    "result_df.to_csv('result.csv')"
   ]
  }
 ],
 "metadata": {
  "kernelspec": {
   "display_name": "Python 3",
   "language": "python",
   "name": "python3"
  },
  "language_info": {
   "codemirror_mode": {
    "name": "ipython",
    "version": 3
   },
   "file_extension": ".py",
   "mimetype": "text/x-python",
   "name": "python",
   "nbconvert_exporter": "python",
   "pygments_lexer": "ipython3",
   "version": "3.6.0"
  }
 },
 "nbformat": 4,
 "nbformat_minor": 2
}
