{
 "cells": [
  {
   "cell_type": "code",
   "execution_count": 1,
   "metadata": {},
   "outputs": [],
   "source": [
    "import warnings\n",
    "import os\n",
    "\n",
    "import pandas as pd\n",
    "import numpy as np\n",
    "\n",
    "from scipy.stats import binned_statistic_2d\n",
    "from tqdm import tqdm\n",
    "\n",
    "warnings.filterwarnings('ignore')\n",
    "PATH_TO_DATA = '../data'"
   ]
  },
  {
   "cell_type": "code",
   "execution_count": 11,
   "metadata": {},
   "outputs": [],
   "source": [
    "# bottom x left     and    top x right\n",
    "longitude_bottom = -74.25559\n",
    "longitude_top = -73.70001\n",
    "\n",
    "latitude_left = 40.49612\n",
    "latitude_right = 40.91553\n",
    "\n",
    "def clean_data(df):\n",
    "    pred = (df['passenger_count'] != 0) & (df['trip_distance'] != 0) & \\\n",
    "    (df['tpep_pickup_datetime'] != df['tpep_dropoff_datetime'])  & (df['pickup_longitude'] >= longitude_bottom) & \\\n",
    "    (df['pickup_longitude'] <= longitude_top)  & (df['pickup_latitude'] >= latitude_left) & \\\n",
    "    (df['pickup_latitude'] <= latitude_right)\n",
    "    \n",
    "    df = df[pred]\n",
    "    df['tpep_pickup_datetime'] = df['tpep_pickup_datetime'].apply(lambda x: x.replace(minute=0, second=0))\n",
    "    \n",
    "    return df"
   ]
  },
  {
   "cell_type": "code",
   "execution_count": 16,
   "metadata": {},
   "outputs": [],
   "source": [
    "def aggregate_df(df):\n",
    "    binx=np.sort(regions.west.unique())[1:]\n",
    "    biny=np.sort(regions.south.unique())[1:]\n",
    "\n",
    "    x = df.pickup_longitude.values\n",
    "    y = df.pickup_latitude.values\n",
    "\n",
    "    _, _, _, regions_ids = binned_statistic_2d(x, y, regions, 'count', bins=[binx, biny])\n",
    "\n",
    "    regions_ids = regions_ids + 1\n",
    "    \n",
    "    df['region'] = regions_ids\n",
    "    \n",
    "    all_times = df['tpep_pickup_datetime'].view('int64')\n",
    "\n",
    "    binx = regions.index.values.tolist() + [2501]\n",
    "    biny = np.sort(all_times.unique()).tolist() + [np.datetime64('2016-07-01T00:00:00.000000000').view('int64')]\n",
    "\n",
    "    x = df.region.values\n",
    "    y = all_times\n",
    "\n",
    "    matrix, _, _, _ = binned_statistic_2d(x, y, None, 'count', bins=[binx, biny])\n",
    "    \n",
    "    aggregated_df = pd.DataFrame(matrix, index=regions.index.values, columns= np.sort(df['tpep_pickup_datetime'].unique()))\n",
    "    \n",
    "    return aggregated_df"
   ]
  },
  {
   "cell_type": "code",
   "execution_count": 13,
   "metadata": {},
   "outputs": [],
   "source": [
    "regions = pd.read_csv(os.path.join(PATH_TO_DATA, 'regions.csv'), index_col=0, delimiter=';')"
   ]
  },
  {
   "cell_type": "code",
   "execution_count": 17,
   "metadata": {},
   "outputs": [
    {
     "name": "stderr",
     "output_type": "stream",
     "text": [
      "\n",
      "  0%|                                                                                                           | 0/1 [00:00<?, ?it/s]\n",
      "100%|██████████████████████████████████████████████████████████████████████████████████████████████████| 1/1 [02:50<00:00, 170.31s/it]\n"
     ]
    }
   ],
   "source": [
    "dates = ['tpep_pickup_datetime', 'tpep_dropoff_datetime']\n",
    "columns = ['passenger_count', 'trip_distance', 'pickup_longitude', 'pickup_latitude'] + dates\n",
    "monthes = [1, 2, 3, 4, 6]\n",
    "for i in tqdm(monthes):\n",
    "    file = 'yellow_tripdata_2016-0%d.csv' % i\n",
    "    data = pd.read_csv(os.path.join(PATH_TO_DATA, file), parse_dates=dates, usecols=columns)\n",
    "    data = clean_data(data)\n",
    "    data = aggregate_df(data)\n",
    "    data.to_csv(os.path.join(PATH_TO_DATA, 'aggregated_'+ file))"
   ]
  },
  {
   "cell_type": "code",
   "execution_count": 26,
   "metadata": {},
   "outputs": [
    {
     "name": "stderr",
     "output_type": "stream",
     "text": [
      "100%|███████████████████████████████████████████████████████████████████████████████████████████████████| 5/5 [00:02<00:00,  1.67it/s]\n"
     ]
    }
   ],
   "source": [
    "data = pd.read_csv(os.path.join(PATH_TO_DATA, 'aggregated_yellow_tripdata_2016-01.csv'), index_col=0)\n",
    "\n",
    "for i in tqdm(range(1, 6)):\n",
    "    file = 'aggregated_yellow_tripdata_2016-0%d.csv' % i\n",
    "    df = pd.read_csv(os.path.join(PATH_TO_DATA, file), index_col=0)\n",
    "    data = pd.concat([data, df], axis=1)\n",
    "    \n",
    "data.to_csv(os.path.join(PATH_TO_DATA, 'train.csv'))"
   ]
  },
  {
   "cell_type": "code",
   "execution_count": 50,
   "metadata": {},
   "outputs": [],
   "source": [
    "data = pd.read_csv(os.path.join(PATH_TO_DATA, 'train.csv'), index_col=0)\n",
    "region = data.mean(axis=1).sort_values(ascending=False).index[0]\n",
    "train_df = data.loc[[region]].T\n",
    "train_df.to_csv(os.path.join(PATH_TO_DATA, 'train_%d.csv' % region))\n",
    "\n",
    "data = pd.read_csv(os.path.join(PATH_TO_DATA, 'test.csv'), index_col=0)\n",
    "test_df = data.loc[[region]].T\n",
    "test_df.to_csv(os.path.join(PATH_TO_DATA, 'test_%d.csv' % region))"
   ]
  }
 ],
 "metadata": {
  "kernelspec": {
   "display_name": "Python 3",
   "language": "python",
   "name": "python3"
  },
  "language_info": {
   "codemirror_mode": {
    "name": "ipython",
    "version": 3
   },
   "file_extension": ".py",
   "mimetype": "text/x-python",
   "name": "python",
   "nbconvert_exporter": "python",
   "pygments_lexer": "ipython3",
   "version": "3.6.0"
  }
 },
 "nbformat": 4,
 "nbformat_minor": 2
}
