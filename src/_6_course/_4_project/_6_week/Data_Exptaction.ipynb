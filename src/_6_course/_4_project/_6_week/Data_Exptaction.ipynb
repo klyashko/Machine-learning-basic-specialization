{
 "cells": [
  {
   "cell_type": "code",
   "execution_count": 28,
   "metadata": {
    "collapsed": true
   },
   "outputs": [],
   "source": [
    "import pandas as pd\n",
    "import requests\n",
    "import bs4\n",
    "\n",
    "from random import randint\n",
    "from time import sleep"
   ]
  },
  {
   "cell_type": "code",
   "execution_count": 154,
   "metadata": {},
   "outputs": [],
   "source": [
    "headers = {\n",
    "    'Host': 'market.yandex.ru',\n",
    "    'Connection': 'keep-alive',\n",
    "    'Cache-Control': 'max-age=0',\n",
    "    'Upgrade-Insecure-Requests': '1',\n",
    "    'User-Agent': 'Mozilla/5.0 (Windows NT 10.0; Win64; x64) AppleWebKit/537.36 (KHTML, like Gecko) Chrome/60.0.3112.90 Safari/537.36',\n",
    "    'Accept': 'text/html,application/xhtml+xml,application/xml;q=0.9,image/webp,image/apng,*/*;q=0.8',\n",
    "    'Accept-Encoding': 'gzip, deflate, br',\n",
    "    'Accept-Language': 'ru-RU,ru;q=0.8,en-US;q=0.6,en;q=0.4'\n",
    "}"
   ]
  },
  {
   "cell_type": "code",
   "execution_count": null,
   "metadata": {
    "collapsed": true
   },
   "outputs": [],
   "source": [
    "hids = [7023082, 7835734, 8473449, 10495456, 11028554, 1716316475, 1720465387, 11028534, 12466715, 13485518, 13934959, \n",
    "        12259333, 12340881, 11028576, 12847672, 13579073, 12089499, 10724875, 12750156, 12923930, 13934961, 11001944, \n",
    "        9323459, 5115280, 13188751, 12772728, 10725078, 6258760, 8440056, 13485515, 13340782, 12748971, 10546687, \n",
    "        10404627, 12672696, 9383775, 10967066, 13188749, 7752791, 10725082, 14124403, 12206544, 13471372, 12840987]"
   ]
  },
  {
   "cell_type": "code",
   "execution_count": 231,
   "metadata": {},
   "outputs": [
    {
     "name": "stdout",
     "output_type": "stream",
     "text": [
      "Grade = 2\n",
      "Lenght of ids 10\n",
      "Page 1\n",
      "Lenght of ids 7\n",
      "Page 2\n",
      "data/reviews_12206544_2.csv is finished. Lenght 17\n",
      "Grade = 2\n",
      "Lenght of ids 10\n",
      "Page 1\n",
      "Lenght of ids 10\n",
      "Page 2\n",
      "Lenght of ids 1\n",
      "Page 3\n",
      "data/reviews_13471372_2.csv is finished. Lenght 21\n",
      "Grade = 2\n",
      "Lenght of ids 10\n",
      "Page 1\n",
      "Lenght of ids 8\n",
      "Page 2\n",
      "data/reviews_12840987_2.csv is finished. Lenght 18\n"
     ]
    }
   ],
   "source": [
    "for hid in hids:\n",
    "    for grade in range(1, 6): \n",
    "        page = 1\n",
    "        visited = False\n",
    "        text = []\n",
    "        ids = set()\n",
    "\n",
    "        print('Grade = {}'.format(grade))\n",
    "\n",
    "        while not visited:\n",
    "            url = 'https://market.yandex.ru/product/{}/reviews?grade_value={}&page={}'.format(hid, grade, page)\n",
    "            request = requests.get(url, headers=headers)\n",
    "            soup = bs4.BeautifulSoup(request.text, 'lxml')\n",
    "\n",
    "            items = soup.find_all('div', attrs={'class': 'n-product-review-item'})\n",
    "\n",
    "            print('Lenght of ids {}'.format(len(items)))\n",
    "\n",
    "            if len(items) == 0:\n",
    "                print('Maybe I\\'m blocked')\n",
    "                visited = True\n",
    "                break\n",
    "\n",
    "            for t in items:\n",
    "                if 'data-review-id' in t.attrs:\n",
    "                    id = t.attrs['data-review-id']\n",
    "                    if id in ids:\n",
    "                        visited = True\n",
    "                        break\n",
    "\n",
    "                    ids.add(id)\n",
    "\n",
    "            if visited:\n",
    "                break\n",
    "                \n",
    "            \n",
    "            if len(items) < 10:\n",
    "                visited = True\n",
    "                \n",
    "\n",
    "            for t in soup.find_all('meta', attrs={'itemprop': 'description'}):\n",
    "                if 'content' in t.attrs:\n",
    "                    text.append(t.attrs['content'])\n",
    "\n",
    "\n",
    "            print('Page {}'.format(page))\n",
    "            page+=1\n",
    "            sleep(randint(10, 20))\n",
    "\n",
    "\n",
    "        filename = 'data/reviews_{}_{}.csv'.format(hid, grade) \n",
    "        df = pd.DataFrame({'text':text, 'class': [grade] * len(text)})\n",
    "        df.to_csv(filename)\n",
    "\n",
    "        print('{} is finished. Lenght {}'.format(filename, df.shape[0]))"
   ]
  },
  {
   "cell_type": "code",
   "execution_count": 232,
   "metadata": {},
   "outputs": [
    {
     "name": "stdout",
     "output_type": "stream",
     "text": [
      "(5833, 2)\n",
      "3.0    1216\n",
      "4.0    1194\n",
      "2.0    1171\n",
      "1.0    1129\n",
      "5.0    1123\n",
      "Name: class, dtype: int64\n"
     ]
    }
   ],
   "source": [
    "df = pd.DataFrame({'text':[], 'class': []})\n",
    "\n",
    "for id in hids:\n",
    "    for g in range(2, 3):\n",
    "        filename = 'data/reviews_{}_{}.csv'.format(id, g)\n",
    "        temp = pd.read_csv(filename, usecols=['class', 'text'], encoding=\"windows-1254\")\n",
    "        df = df.append(temp[['class', 'text']])\n",
    "        \n",
    "df[['class', 'text']].to_csv('data/train_data_raw.csv', encoding=\"windows-1254\")\n",
    "\n",
    "print(df.shape)\n",
    "print(df['class'].value_counts())"
   ]
  },
  {
   "cell_type": "code",
   "execution_count": 265,
   "metadata": {},
   "outputs": [
    {
     "name": "stdout",
     "output_type": "stream",
     "text": [
      "pos    2317\n",
      "neg    2300\n",
      "Name: class, dtype: int64\n"
     ]
    },
    {
     "name": "stderr",
     "output_type": "stream",
     "text": [
      "C:\\Users\\Public\\PythonProjects\\Anaconda3\\lib\\site-packages\\ipykernel\\__main__.py:3: SettingWithCopyWarning: \n",
      "A value is trying to be set on a copy of a slice from a DataFrame\n",
      "\n",
      "See the caveats in the documentation: http://pandas.pydata.org/pandas-docs/stable/indexing.html#indexing-view-versus-copy\n",
      "  app.launch_new_instance()\n",
      "C:\\Users\\Public\\PythonProjects\\Anaconda3\\lib\\site-packages\\ipykernel\\__main__.py:4: SettingWithCopyWarning: \n",
      "A value is trying to be set on a copy of a slice from a DataFrame\n",
      "\n",
      "See the caveats in the documentation: http://pandas.pydata.org/pandas-docs/stable/indexing.html#indexing-view-versus-copy\n"
     ]
    }
   ],
   "source": [
    "df = df[df['class'] != 3]\n",
    "\n",
    "df['class'] = df['class'].apply(pd.to_numeric)\n",
    "\n",
    "df['new_class'] = [''] * df.shape[0] \n",
    "\n",
    "df['new_class'][df['class'] < 3] = 'neg'\n",
    "df['new_class'][df['class'] > 3] = 'pos'\n",
    "\n",
    "df['class'] = df['new_class']\n",
    "\n",
    "print(df['class'].value_counts())\n",
    "\n",
    "df[['class', 'text']].to_csv('data/train_data.csv')"
   ]
  }
 ],
 "metadata": {
  "kernelspec": {
   "display_name": "Python 3",
   "language": "python",
   "name": "python3"
  },
  "language_info": {
   "codemirror_mode": {
    "name": "ipython",
    "version": 3
   },
   "file_extension": ".py",
   "mimetype": "text/x-python",
   "name": "python",
   "nbconvert_exporter": "python",
   "pygments_lexer": "ipython3",
   "version": "3.6.0"
  }
 },
 "nbformat": 4,
 "nbformat_minor": 1
}
