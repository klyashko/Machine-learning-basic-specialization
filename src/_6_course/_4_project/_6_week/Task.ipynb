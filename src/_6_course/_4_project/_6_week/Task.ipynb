{
 "cells": [
  {
   "cell_type": "markdown",
   "metadata": {},
   "source": [
    "В процессе выполнения этого задания использовалось несколько ноутбуков для одновременной работы с несколькими моделями. По окончанию работы все было собрано в один файл по этой причине некоторые ячейки отмечены как не запущеные.\n",
    "\n",
    "### Данные\n",
    "\n",
    "Для обучения использовались отзывы пользователей о мобильных телефонах взятых с одного достаточно известного сайта  \n",
    "С учетом того что в сыром виде тренировочные дванные имеют 5 классов была произведена предобратотка \n",
    " - 1 и 2 были маркированы как негативные\n",
    " - 4 и 5 были маркированы как позитавные\n",
    " - 3 был отброшен\n",
    " \n",
    "И того получилося примерно по 2к записей в каждом из 2 финальных классов.\n",
    "\n",
    "### Результаты\n",
    "\n",
    " * LinearSVC       - 0.98 и 30 место в рейтинговой таблице\n",
    " * RidgeClassifier - 1.00 и 11 место в рейтисноговой таблице"
   ]
  },
  {
   "cell_type": "code",
   "execution_count": 1,
   "metadata": {},
   "outputs": [
    {
     "name": "stdout",
     "output_type": "stream",
     "text": [
      "Populating the interactive namespace from numpy and matplotlib\n"
     ]
    }
   ],
   "source": [
    "%pylab inline\n",
    "\n",
    "import warnings\n",
    "\n",
    "import pandas as pd\n",
    "import numpy as np\n",
    "\n",
    "from sklearn.feature_extraction.text import CountVectorizer, TfidfTransformer\n",
    "from sklearn.model_selection import cross_val_score, GridSearchCV, KFold\n",
    "from nltk import WordNetLemmatizer, word_tokenize\n",
    "from sklearn.linear_model import RidgeClassifier\n",
    "from nltk.stem.snowball import RussianStemmer\n",
    "from sklearn.pipeline import Pipeline\n",
    "\n",
    "import matplotlib.pyplot as plt\n",
    "\n",
    "warnings.simplefilter(\"ignore\")"
   ]
  },
  {
   "cell_type": "code",
   "execution_count": 2,
   "metadata": {
    "collapsed": true
   },
   "outputs": [],
   "source": [
    "def convert_y_to_number(y):\n",
    "    return [0 if c == 'neg' else 1 for c in y]"
   ]
  },
  {
   "cell_type": "code",
   "execution_count": 3,
   "metadata": {
    "collapsed": true
   },
   "outputs": [],
   "source": [
    "def convert_predictions_to_str(predictions):\n",
    "    return ['neg' if p == 0 else 'pos' for p in predictions]"
   ]
  },
  {
   "cell_type": "code",
   "execution_count": null,
   "metadata": {
    "collapsed": true
   },
   "outputs": [],
   "source": [
    "rs = RussianStemmer()\n",
    "\n",
    "def stem_data(data):\n",
    "    tokens_list = [word_tokenize(raw) for raw in data]\n",
    "    tokens_list = [[rs.stem(t) for t in tokens] for tokens in tokens_list]\n",
    "    \n",
    "    return [' '.join(x) for x in tokens_list]"
   ]
  },
  {
   "cell_type": "code",
   "execution_count": 53,
   "metadata": {
    "collapsed": true
   },
   "outputs": [],
   "source": [
    "def submission_fit(model, X, y):\n",
    "    \n",
    "    kf = KFold(n_splits=5, shuffle=True, random_state=42)\n",
    "    score = cross_val_score(model, X, y, cv=kf)\n",
    "    \n",
    "    print(score)\n",
    "    print(score.mean())\n",
    "    print(score.std())\n",
    "    \n",
    "    model.fit(X, y)\n",
    "    \n",
    "    competition_data = pd.read_csv('data/temp.csv', delimiter='\\t', header=None)\n",
    "    competition_data.columns = ['text']\n",
    "    predictions = model.predict(stem_data(competition_data.text))\n",
    "    \n",
    "    df = pd.DataFrame({'y': convert_predictions_to_str(predictions)})\n",
    "    df.index.name = 'Id'\n",
    "    df.to_csv('data/results.csv')"
   ]
  },
  {
   "cell_type": "code",
   "execution_count": 5,
   "metadata": {
    "collapsed": true
   },
   "outputs": [],
   "source": [
    "def get_train_data():\n",
    "    train_data = pd.read_csv('data/train_data.csv', usecols=['class', 'text'])\n",
    "\n",
    "    return train_data.text.values, convert_y_to_number(train_data['class'].values)"
   ]
  },
  {
   "cell_type": "code",
   "execution_count": 6,
   "metadata": {
    "collapsed": true
   },
   "outputs": [],
   "source": [
    "models = [LogisticRegression, SGDClassifier, Perceptron, PassiveAggressiveClassifier, RidgeClassifier, LinearSVC, SVC, MultinomialNB, KNeighborsClassifier, NearestCentroid, RandomForestClassifier]"
   ]
  },
  {
   "cell_type": "code",
   "execution_count": 7,
   "metadata": {},
   "outputs": [],
   "source": [
    "X, y = get_train_data()\n",
    "stop_words = ['Достоинства', 'Недостатки', 'Комментарий']\n",
    "X_stemed = stem_data(X)"
   ]
  },
  {
   "cell_type": "code",
   "execution_count": 55,
   "metadata": {},
   "outputs": [],
   "source": [
    "pipe = Pipeline([\n",
    "    ('vectorizer', CountVectorizer(stop_words=stop_words, analyzer='word', ngram_range=(1, 3), max_features=20000, max_df=0.5)), \n",
    "    ('tfidf', TfidfTransformer(norm='l2', use_idf=True)),\n",
    "    ('classifier', RidgeClassifier(alpha=1, random_state=42))\n",
    "])\n",
    "\n",
    "param_grid = [\n",
    "    {\n",
    "        'vectorizer__min_df': [0.1, 0.2, 0.3]\n",
    "        'vectorizer__max_df': [0.5, 0.6, 0.7]\n",
    "        'vectorizer__max_features': [10000, 15000, 20000, 25000],\n",
    "        'vectorizer__ngram_range': [(1, 2), (1, 3), (1, 4), (1, 5)],\n",
    "        'vectorizer__analyzer': ['word', 'char', 'char_wb']\n",
    "        'tfidf__norm': ['l1', 'l2'],\n",
    "        'tfidf__use_idf': [True, False]\n",
    "        'classifier__alpha': [0.0001, 0.001, 0.01, 0.1, 1, 10, 100, 1000]\n",
    "    }\n",
    "]\n",
    "\n",
    "kf = KFold(n_splits=5, shuffle=True)\n",
    "\n",
    "grid = GridSearchCV(pipe, cv=kf, n_jobs=1, param_grid=param_grid, scoring='accuracy')\n",
    "grid.fit(X_stemed, y)\n",
    "\n",
    "print(grid.best_score_)\n",
    "print()\n",
    "for k in grid.best_params_:\n",
    "    print(k, \" : \", grid.best_params_[k])"
   ]
  },
  {
   "cell_type": "code",
   "execution_count": 54,
   "metadata": {},
   "outputs": [
    {
     "name": "stdout",
     "output_type": "stream",
     "text": [
      "[ 0.88636364  0.87987013  0.88732394  0.88190683  0.8992416 ]\n",
      "0.886941227786\n",
      "0.00673980647505\n"
     ]
    }
   ],
   "source": [
    "submission_fit(pipe, X_stemed, y)"
   ]
  }
 ],
 "metadata": {
  "kernelspec": {
   "display_name": "Python 3",
   "language": "python",
   "name": "python3"
  },
  "language_info": {
   "codemirror_mode": {
    "name": "ipython",
    "version": 3
   },
   "file_extension": ".py",
   "mimetype": "text/x-python",
   "name": "python",
   "nbconvert_exporter": "python",
   "pygments_lexer": "ipython3",
   "version": "3.6.0"
  }
 },
 "nbformat": 4,
 "nbformat_minor": 2
}
