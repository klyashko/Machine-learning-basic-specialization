{
 "cells": [
  {
   "cell_type": "code",
   "execution_count": 1,
   "metadata": {
    "collapsed": true
   },
   "outputs": [],
   "source": [
    "import sys\n",
    "\n",
    "from sklearn.feature_extraction.text import CountVectorizer \n",
    "from sklearn.linear_model import LogisticRegression\n",
    "from sklearn.model_selection import cross_val_score\n",
    "from sklearn.pipeline import Pipeline\n",
    "from nltk.corpus import movie_reviews\n",
    "\n",
    "sys.path.append('.\\\\..\\\\..\\\\..\\\\..')\n",
    "\n",
    "from src.utils.Utils import save_answer"
   ]
  },
  {
   "cell_type": "code",
   "execution_count": 2,
   "metadata": {},
   "outputs": [
    {
     "name": "stdout",
     "output_type": "stream",
     "text": [
      "\n",
      "Task №1 answer 2000\n",
      "\n"
     ]
    }
   ],
   "source": [
    "negids = movie_reviews.fileids('neg')\n",
    "posids = movie_reviews.fileids('pos')\n",
    "\n",
    "negfeats = [movie_reviews.raw(fileids=[f]) for f in negids]\n",
    "posfeats = [movie_reviews.raw(fileids=[f]) for f in posids]\n",
    "\n",
    "feats = negfeats + posfeats\n",
    "classes = [0] * len(negids) + [1] * len(posids)\n",
    "\n",
    "ans1 = len(feats)\n",
    "save_answer(1, ans1)"
   ]
  },
  {
   "cell_type": "code",
   "execution_count": 3,
   "metadata": {},
   "outputs": [
    {
     "name": "stdout",
     "output_type": "stream",
     "text": [
      "\n",
      "Task №2 answer 0.5\n",
      "\n"
     ]
    }
   ],
   "source": [
    "ans2 = len(posids) / len(classes)\n",
    "save_answer(2, ans2)"
   ]
  },
  {
   "cell_type": "code",
   "execution_count": 4,
   "metadata": {},
   "outputs": [
    {
     "name": "stdout",
     "output_type": "stream",
     "text": [
      "\n",
      "Task №3 answer 39659\n",
      "\n"
     ]
    }
   ],
   "source": [
    "v = CountVectorizer()\n",
    "_ = v.fit_transform(feats)\n",
    "\n",
    "ans3 = len(v.vocabulary_)\n",
    "save_answer(3, ans3)"
   ]
  },
  {
   "cell_type": "code",
   "execution_count": 5,
   "metadata": {},
   "outputs": [
    {
     "name": "stdout",
     "output_type": "stream",
     "text": [
      "\n",
      "Task №4 answer 0.836021650393\n",
      "\n"
     ]
    }
   ],
   "source": [
    "pipeline = Pipeline([('vectorizer', CountVectorizer()), ('classifier', LogisticRegression())])\n",
    "\n",
    "ans4 = cross_val_score(pipeline, feats, classes).mean()\n",
    "save_answer(4, ans4)"
   ]
  },
  {
   "cell_type": "code",
   "execution_count": 6,
   "metadata": {},
   "outputs": [
    {
     "name": "stdout",
     "output_type": "stream",
     "text": [
      "\n",
      "Task №5 answer 0.910776493783\n",
      "\n"
     ]
    }
   ],
   "source": [
    "clf = pipeline.fit(feats, classes)\n",
    "predictions = clf.predict_proba(feats)\n",
    "\n",
    "ans5 = cross_val_score(pipeline, feats, classes, scoring=\"roc_auc\").mean()\n",
    "save_answer(5, ans5)"
   ]
  },
  {
   "cell_type": "code",
   "execution_count": 7,
   "metadata": {},
   "outputs": [
    {
     "name": "stdout",
     "output_type": "stream",
     "text": [
      "\n",
      "Task №6 answer ['bad', 'unfortunately']\n",
      "\n"
     ]
    }
   ],
   "source": [
    "weights = [abs(w) for w in clf.named_steps['classifier'].coef_[0]]\n",
    "\n",
    "words = clf.named_steps['vectorizer'].get_feature_names()\n",
    "\n",
    "ans6 = [words[weights.index(idx)] for idx in sorted(weights, reverse=True)[:2]]\n",
    "save_answer(6, ans6, space=True)"
   ]
  }
 ],
 "metadata": {
  "kernelspec": {
   "display_name": "Python 3",
   "language": "python",
   "name": "python3"
  },
  "language_info": {
   "codemirror_mode": {
    "name": "ipython",
    "version": 3
   },
   "file_extension": ".py",
   "mimetype": "text/x-python",
   "name": "python",
   "nbconvert_exporter": "python",
   "pygments_lexer": "ipython3",
   "version": "3.6.0"
  }
 },
 "nbformat": 4,
 "nbformat_minor": 1
}
