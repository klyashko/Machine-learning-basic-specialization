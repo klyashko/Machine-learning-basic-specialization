{
 "cells": [
  {
   "cell_type": "markdown",
   "metadata": {},
   "source": [
    "# Peer-graded Assignment: Эксперименты с моделью\n",
    "\n",
    "На прошлой неделе вы поучаствовали в соревновании на kaggle и, наверняка, большинство успешно справилось с прохождением baseline, а значит пора двигаться дальше - заняться оптимизацией модели, провести серию экспериментов и построить сильное финальное решения.\n",
    "\n",
    "В этом задании вам нужно провести ряд эскпериментов, оценить качество полученных в процессе экспериментирования моделей и выбрать лучшее решение. "
   ]
  },
  {
   "cell_type": "markdown",
   "metadata": {},
   "source": [
    "Задание будет оцениваться на основании загруженного jupyther notebook и развернутых ответов на поставленные вопросы."
   ]
  },
  {
   "cell_type": "code",
   "execution_count": 1,
   "metadata": {
    "collapsed": true
   },
   "outputs": [],
   "source": [
    "%matplotlib inline\n",
    "\n",
    "import warnings\n",
    "import os\n",
    "\n",
    "import pandas as pd\n",
    "import numpy as np\n",
    "\n",
    "from sklearn.model_selection import cross_val_score, StratifiedKFold, learning_curve, GridSearchCV\n",
    "from sklearn.linear_model import SGDClassifier, PassiveAggressiveClassifier\n",
    "from sklearn.feature_selection import SelectFromModel\n",
    "from sklearn.metrics import roc_auc_score\n",
    "from sklearn.pipeline import Pipeline\n",
    "from scipy.sparse import csr_matrix\n",
    "from sklearn.svm import LinearSVC\n",
    "\n",
    "from matplotlib import pyplot as plt\n",
    "\n",
    "warnings.simplefilter(\"ignore\")\n",
    "PATH_TO_DATA = '../data'"
   ]
  },
  {
   "cell_type": "code",
   "execution_count": 3,
   "metadata": {},
   "outputs": [
    {
     "data": {
      "text/html": [
       "<div>\n",
       "<style>\n",
       "    .dataframe thead tr:only-child th {\n",
       "        text-align: right;\n",
       "    }\n",
       "\n",
       "    .dataframe thead th {\n",
       "        text-align: left;\n",
       "    }\n",
       "\n",
       "    .dataframe tbody tr th {\n",
       "        vertical-align: top;\n",
       "    }\n",
       "</style>\n",
       "<table border=\"1\" class=\"dataframe\">\n",
       "  <thead>\n",
       "    <tr style=\"text-align: right;\">\n",
       "      <th></th>\n",
       "      <th>Var1</th>\n",
       "      <th>Var2</th>\n",
       "      <th>Var3</th>\n",
       "      <th>Var4</th>\n",
       "      <th>Var5</th>\n",
       "      <th>Var6</th>\n",
       "      <th>Var7</th>\n",
       "      <th>Var8</th>\n",
       "      <th>Var9</th>\n",
       "      <th>Var10</th>\n",
       "      <th>...</th>\n",
       "      <th>Var218_cJvF</th>\n",
       "      <th>Var201_6dX3</th>\n",
       "      <th>Var201_smXZ</th>\n",
       "      <th>Var208_kIsH</th>\n",
       "      <th>Var208_sBgB</th>\n",
       "      <th>New_Var191</th>\n",
       "      <th>New_Var224</th>\n",
       "      <th>New_Var215</th>\n",
       "      <th>New_Var213</th>\n",
       "      <th>target</th>\n",
       "    </tr>\n",
       "  </thead>\n",
       "  <tbody>\n",
       "    <tr>\n",
       "      <th>0</th>\n",
       "      <td>NaN</td>\n",
       "      <td>NaN</td>\n",
       "      <td>NaN</td>\n",
       "      <td>NaN</td>\n",
       "      <td>NaN</td>\n",
       "      <td>3052.0</td>\n",
       "      <td>NaN</td>\n",
       "      <td>NaN</td>\n",
       "      <td>NaN</td>\n",
       "      <td>NaN</td>\n",
       "      <td>...</td>\n",
       "      <td>1</td>\n",
       "      <td>0</td>\n",
       "      <td>0</td>\n",
       "      <td>1</td>\n",
       "      <td>0</td>\n",
       "      <td>0</td>\n",
       "      <td>0</td>\n",
       "      <td>0</td>\n",
       "      <td>0</td>\n",
       "      <td>-1</td>\n",
       "    </tr>\n",
       "    <tr>\n",
       "      <th>1</th>\n",
       "      <td>NaN</td>\n",
       "      <td>NaN</td>\n",
       "      <td>NaN</td>\n",
       "      <td>NaN</td>\n",
       "      <td>NaN</td>\n",
       "      <td>1813.0</td>\n",
       "      <td>7.0</td>\n",
       "      <td>NaN</td>\n",
       "      <td>NaN</td>\n",
       "      <td>NaN</td>\n",
       "      <td>...</td>\n",
       "      <td>1</td>\n",
       "      <td>0</td>\n",
       "      <td>0</td>\n",
       "      <td>1</td>\n",
       "      <td>0</td>\n",
       "      <td>0</td>\n",
       "      <td>0</td>\n",
       "      <td>0</td>\n",
       "      <td>0</td>\n",
       "      <td>-1</td>\n",
       "    </tr>\n",
       "    <tr>\n",
       "      <th>2</th>\n",
       "      <td>NaN</td>\n",
       "      <td>NaN</td>\n",
       "      <td>NaN</td>\n",
       "      <td>NaN</td>\n",
       "      <td>NaN</td>\n",
       "      <td>1953.0</td>\n",
       "      <td>7.0</td>\n",
       "      <td>NaN</td>\n",
       "      <td>NaN</td>\n",
       "      <td>NaN</td>\n",
       "      <td>...</td>\n",
       "      <td>0</td>\n",
       "      <td>0</td>\n",
       "      <td>0</td>\n",
       "      <td>1</td>\n",
       "      <td>0</td>\n",
       "      <td>0</td>\n",
       "      <td>0</td>\n",
       "      <td>0</td>\n",
       "      <td>0</td>\n",
       "      <td>-1</td>\n",
       "    </tr>\n",
       "    <tr>\n",
       "      <th>3</th>\n",
       "      <td>NaN</td>\n",
       "      <td>NaN</td>\n",
       "      <td>NaN</td>\n",
       "      <td>NaN</td>\n",
       "      <td>NaN</td>\n",
       "      <td>1533.0</td>\n",
       "      <td>7.0</td>\n",
       "      <td>NaN</td>\n",
       "      <td>NaN</td>\n",
       "      <td>NaN</td>\n",
       "      <td>...</td>\n",
       "      <td>1</td>\n",
       "      <td>0</td>\n",
       "      <td>0</td>\n",
       "      <td>1</td>\n",
       "      <td>0</td>\n",
       "      <td>0</td>\n",
       "      <td>0</td>\n",
       "      <td>0</td>\n",
       "      <td>0</td>\n",
       "      <td>1</td>\n",
       "    </tr>\n",
       "    <tr>\n",
       "      <th>4</th>\n",
       "      <td>NaN</td>\n",
       "      <td>NaN</td>\n",
       "      <td>NaN</td>\n",
       "      <td>NaN</td>\n",
       "      <td>NaN</td>\n",
       "      <td>686.0</td>\n",
       "      <td>7.0</td>\n",
       "      <td>NaN</td>\n",
       "      <td>NaN</td>\n",
       "      <td>NaN</td>\n",
       "      <td>...</td>\n",
       "      <td>1</td>\n",
       "      <td>0</td>\n",
       "      <td>0</td>\n",
       "      <td>1</td>\n",
       "      <td>0</td>\n",
       "      <td>0</td>\n",
       "      <td>0</td>\n",
       "      <td>0</td>\n",
       "      <td>0</td>\n",
       "      <td>-1</td>\n",
       "    </tr>\n",
       "  </tbody>\n",
       "</table>\n",
       "<p>5 rows × 348 columns</p>\n",
       "</div>"
      ],
      "text/plain": [
       "   Var1  Var2  Var3  Var4  Var5    Var6  Var7  Var8  Var9  Var10   ...    \\\n",
       "0   NaN   NaN   NaN   NaN   NaN  3052.0   NaN   NaN   NaN    NaN   ...     \n",
       "1   NaN   NaN   NaN   NaN   NaN  1813.0   7.0   NaN   NaN    NaN   ...     \n",
       "2   NaN   NaN   NaN   NaN   NaN  1953.0   7.0   NaN   NaN    NaN   ...     \n",
       "3   NaN   NaN   NaN   NaN   NaN  1533.0   7.0   NaN   NaN    NaN   ...     \n",
       "4   NaN   NaN   NaN   NaN   NaN   686.0   7.0   NaN   NaN    NaN   ...     \n",
       "\n",
       "   Var218_cJvF  Var201_6dX3  Var201_smXZ  Var208_kIsH  Var208_sBgB  \\\n",
       "0            1            0            0            1            0   \n",
       "1            1            0            0            1            0   \n",
       "2            0            0            0            1            0   \n",
       "3            1            0            0            1            0   \n",
       "4            1            0            0            1            0   \n",
       "\n",
       "   New_Var191  New_Var224  New_Var215  New_Var213  target  \n",
       "0           0           0           0           0      -1  \n",
       "1           0           0           0           0      -1  \n",
       "2           0           0           0           0      -1  \n",
       "3           0           0           0           0       1  \n",
       "4           0           0           0           0      -1  \n",
       "\n",
       "[5 rows x 348 columns]"
      ]
     },
     "execution_count": 3,
     "metadata": {},
     "output_type": "execute_result"
    }
   ],
   "source": [
    "df = pd.read_csv(os.path.join(PATH_TO_DATA, 'new_df_all.train'), index_col=0)\n",
    "df.head()"
   ]
  },
  {
   "cell_type": "code",
   "execution_count": 4,
   "metadata": {
    "collapsed": true
   },
   "outputs": [],
   "source": [
    "skf = StratifiedKFold(n_splits=5, shuffle=True, random_state=17)\n",
    "\n",
    "X = df.iloc[:, :-1].fillna(0).values\n",
    "y = df.target.values"
   ]
  },
  {
   "cell_type": "markdown",
   "metadata": {},
   "source": [
    "## Инструкции"
   ]
  },
  {
   "cell_type": "markdown",
   "metadata": {},
   "source": [
    "1\\. Начнем с простого. Давайте оценим как много объектов действительно нужно для построения качественной модели. Для обучения доступна достаточно большая выборка и может так оказаться, что начиная с некоторого момента рост размера обучающей выборки перестает влиять на качество модели. Постройте кривые обучения, обучая модель на выборках разного размера начиная с небольшого количество объектов в обучающей выборке и постепенно наращивая её размер с некоторым шагом. Обратите внимание на `sklearn.model_selection.learning_curve`"
   ]
  },
  {
   "cell_type": "code",
   "execution_count": 5,
   "metadata": {},
   "outputs": [
    {
     "data": {
      "image/png": "[encoded data removed]",
      "text/plain": [
       "<matplotlib.figure.Figure at 0x180f48140f0>"
      ]
     },
     "metadata": {},
     "output_type": "display_data"
    }
   ],
   "source": [
    "estimator = SGDClassifier(random_state=42)\n",
    "train_sizes = np.linspace(.1, 1.0, 5)\n",
    "\n",
    "train_sizes, train_scores, test_scores = learning_curve(estimator, X, y, cv=skf, n_jobs=-1, \n",
    "                                                        train_sizes=train_sizes, scoring='roc_auc')\n",
    "\n",
    "train_scores_mean = np.mean(train_scores, axis=1)\n",
    "train_scores_std = np.std(train_scores, axis=1)\n",
    "test_scores_mean = np.mean(test_scores, axis=1)\n",
    "test_scores_std = np.std(test_scores, axis=1)\n",
    "\n",
    "plt.figure()\n",
    "plt.title('Learning Curves (SGDClassifier)')\n",
    "plt.xlabel(\"Training examples\")\n",
    "plt.ylabel(\"Score\")\n",
    "plt.grid()\n",
    "plt.fill_between(train_sizes, train_scores_mean - train_scores_std, train_scores_mean + train_scores_std, alpha=0.1, color=\"r\")\n",
    "plt.fill_between(train_sizes, test_scores_mean - test_scores_std, test_scores_mean + test_scores_std, alpha=0.1, color=\"g\")\n",
    "plt.plot(train_sizes, train_scores_mean, 'o-', color=\"r\", label=\"Training score\")\n",
    "plt.plot(train_sizes, test_scores_mean, 'o-', color=\"g\", label=\"Cross-validation score\")\n",
    "_ = plt.legend(loc=\"best\")"
   ]
  },
  {
   "cell_type": "markdown",
   "metadata": {},
   "source": [
    "2\\. Часто несбалансированные по классам выборки приводят к различным проблемам при обучении моделей. Давайте попробуем по-разному обработать выборку, поиграть с распределением объектов по классам и сделать выводы о том, как соотношение классов влияет на качество модели."
   ]
  },
  {
   "cell_type": "markdown",
   "metadata": {},
   "source": [
    "2.1\\. Задайте веса объектам так, чтобы соотношение классов с учетом весов объектов изменилось. Попробуйте не менее трёх различных вариантов весов. Меняются ли результаты классификации? Как это сказывается на качестве модели? Какой вариант выглядит наиболее оптимальным с точки зрения качества?"
   ]
  },
  {
   "cell_type": "code",
   "execution_count": 6,
   "metadata": {},
   "outputs": [],
   "source": [
    "scores_mean = []\n",
    "scores_std = []\n",
    "\n",
    "for out_weight in np.linspace(.1, 0.9, 10):\n",
    "    class_weight = {1:out_weight, -1:1 - out_weight}\n",
    "    estimator = SGDClassifier(random_state=42, class_weight=class_weight)\n",
    "    score = cross_val_score(estimator=estimator, cv=skf, X=X, y=y, scoring='roc_auc')\n",
    "    scores_mean.append(score.mean())\n",
    "    scores_std.append(score.std())"
   ]
  },
  {
   "cell_type": "code",
   "execution_count": 7,
   "metadata": {
    "collapsed": true
   },
   "outputs": [],
   "source": [
    "scores_mean = np.array(scores_mean)\n",
    "scores_std = np.array(scores_std)"
   ]
  },
  {
   "cell_type": "code",
   "execution_count": 8,
   "metadata": {},
   "outputs": [
    {
     "data": {
      "image/png": "[encoded data removed]",
      "text/plain": [
       "<matplotlib.figure.Figure at 0x180f4783d68>"
      ]
     },
     "metadata": {},
     "output_type": "display_data"
    }
   ],
   "source": [
    "class_weights = np.linspace(.1, 0.9, 10)\n",
    "\n",
    "plt.figure()\n",
    "plt.title('Class weight curve (SGDClassifier)')\n",
    "plt.xlabel('Outflow class weight')\n",
    "plt.ylabel('Score')\n",
    "plt.grid()\n",
    "plt.fill_between(class_weights, scores_mean - scores_std, scores_mean + scores_std, alpha=0.1, color='g')\n",
    "plt.plot(class_weights, scores_mean, 'o-', color='g', label='Roc-auc score')\n",
    "_ = plt.legend(loc='best')"
   ]
  },
  {
   "cell_type": "markdown",
   "metadata": {},
   "source": [
    "2.2\\. Примените к выборке технологию undersampling: для этого нужно убрать из обучения некоторое количество объектов большего класса таким образом, чтобы соотношение классов изменилось. Попробуйте не менее трёх различных вариантов undersampling (варианты могут отличаться как по количество отфильтрованных объектов, так и по принципу выборка объектов для отсеивания из выборки). Меняются ли результаты классификации? Как это сказывается на качестве модели? Какой вариант выглядит наиболее оптимальным с точки зрения качества?"
   ]
  },
  {
   "cell_type": "code",
   "execution_count": 9,
   "metadata": {},
   "outputs": [],
   "source": [
    "goups = df.groupby(by='target')\n",
    "out_df = goups.get_group(1).fillna(0)\n",
    "not_out_df = goups.get_group(-1).fillna(0)"
   ]
  },
  {
   "cell_type": "code",
   "execution_count": 10,
   "metadata": {},
   "outputs": [],
   "source": [
    "scores_mean = []\n",
    "scores_std = []\n",
    "\n",
    "for size in np.linspace(.1, 1, 10):\n",
    "    n_samples = int(not_out_df.shape[0] * size)\n",
    "    train_df = pd.concat([out_df, not_out_df.sample(n_samples)])\n",
    "    X = train_df.iloc[:, :-1].values\n",
    "    y = train_df.target.values\n",
    "    \n",
    "    estimator = SGDClassifier(random_state=42)\n",
    "    score = cross_val_score(estimator=estimator, cv=skf, X=X, y=y, scoring='roc_auc')\n",
    "    scores_mean.append(score.mean())\n",
    "    scores_std.append(score.std())"
   ]
  },
  {
   "cell_type": "code",
   "execution_count": 11,
   "metadata": {
    "collapsed": true
   },
   "outputs": [],
   "source": [
    "scores_mean = np.array(scores_mean)\n",
    "scores_std = np.array(scores_std)"
   ]
  },
  {
   "cell_type": "code",
   "execution_count": 12,
   "metadata": {},
   "outputs": [
    {
     "data": {
      "image/png": "[encoded data removed]",
      "text/plain": [
       "<matplotlib.figure.Figure at 0x180efc07ac8>"
      ]
     },
     "metadata": {},
     "output_type": "display_data"
    }
   ],
   "source": [
    "sanple_sizes = np.linspace(.1, 1, 10)\n",
    "\n",
    "plt.figure()\n",
    "plt.title('Sample size curve (SGDClassifier)')\n",
    "plt.xlabel('Not outflow class size')\n",
    "plt.ylabel('Score')\n",
    "plt.grid()\n",
    "plt.fill_between(sanple_sizes, scores_mean - scores_std, scores_mean + scores_std, alpha=0.1, color='g')\n",
    "plt.plot(sanple_sizes, scores_mean, 'o-', color='g', label='Roc-auc score')\n",
    "_ = plt.legend(loc='best')"
   ]
  },
  {
   "cell_type": "markdown",
   "metadata": {},
   "source": [
    "3\\. Теперь перейдем к работе с признаками. Ранее вы реализовали несколько стратегий для обработки пропущенных значений. Сравните эти стратегии между собой с помощью оценки качества моделей кросс-валидации, построенных на датасетах с использованием различных стратегий. Как обработка пропущенных значений сказывается на качестве модели? Какой вариант выглядит наиболее оптимальным с точки зрения качества?"
   ]
  },
  {
   "cell_type": "code",
   "execution_count": 13,
   "metadata": {},
   "outputs": [],
   "source": [
    "numeric_cols = ['Var%d' % i for i in range(1, 191)]\n",
    "cat_cols = [c for c in df.columns if c not in numeric_cols + ['target']]\n",
    "empty_cols = [c for c in df.columns if df[c].dropna().shape[0] == 0]\n",
    "numeric_cols = [c for c in numeric_cols if c not in empty_cols]"
   ]
  },
  {
   "cell_type": "code",
   "execution_count": 14,
   "metadata": {},
   "outputs": [],
   "source": [
    "values = [pd.Series([0] * len(numeric_cols), index=numeric_cols), \n",
    "          df[numeric_cols].median(), \n",
    "          df[numeric_cols].mean(),\n",
    "          df[numeric_cols].min(),\n",
    "          df[numeric_cols].max()]"
   ]
  },
  {
   "cell_type": "code",
   "execution_count": 15,
   "metadata": {},
   "outputs": [
    {
     "name": "stdout",
     "output_type": "stream",
     "text": [
      "Wall time: 49.6 s\n"
     ]
    }
   ],
   "source": [
    "%%time\n",
    "scores_mean = []\n",
    "scores_std = []\n",
    "\n",
    "y = df.target.values\n",
    "\n",
    "for val in values:\n",
    "    \n",
    "    temp_df = df[numeric_cols]\n",
    "    \n",
    "    for c in temp_df.columns:\n",
    "        temp_df[c].fillna(val[c], inplace=True)\n",
    "        \n",
    "    X = pd.concat([temp_df, df[cat_cols]], axis=1).values\n",
    "    estimator = SGDClassifier(random_state=42, class_weight=class_weight)\n",
    "    score = cross_val_score(estimator=estimator, cv=skf, X=X, y=y, scoring='roc_auc')\n",
    "    scores_mean.append(score.mean())\n",
    "    scores_std.append(score.std())"
   ]
  },
  {
   "cell_type": "code",
   "execution_count": 16,
   "metadata": {},
   "outputs": [],
   "source": [
    "grouped = df[numeric_cols].groupby(df['target'])\n",
    "values = [(grouped.get_group(-1).median(), grouped.get_group(1).median()),\n",
    "         (grouped.get_group(-1).mean(), grouped.get_group(1).mean()),\n",
    "         (grouped.get_group(-1).min(), grouped.get_group(1).min()),\n",
    "         (grouped.get_group(-1).max(), grouped.get_group(1).max())]"
   ]
  },
  {
   "cell_type": "code",
   "execution_count": 17,
   "metadata": {},
   "outputs": [],
   "source": [
    "grouped = df.groupby(by = 'target')\n",
    "\n",
    "for val in values:\n",
    "    \n",
    "    churn_df = grouped.get_group(1)\n",
    "    no_churn_df = grouped.get_group(-1)\n",
    "    \n",
    "    for c in numeric_cols:\n",
    "        no_churn_df[c].fillna(val[0][c], inplace=True)\n",
    "        churn_df[c].fillna(val[1][c], inplace=True)\n",
    "    \n",
    "    temp_df = pd.concat([churn_df, no_churn_df])[numeric_cols + cat_cols + ['target']]\n",
    "    \n",
    "    X = temp_df.iloc[:, :-1].values\n",
    "    y = temp_df.target.values\n",
    "    estimator = SGDClassifier(random_state=42, class_weight=class_weight)\n",
    "    score = cross_val_score(estimator=estimator, cv=skf, X=X, y=y, scoring='roc_auc')\n",
    "    scores_mean.append(score.mean())\n",
    "    scores_std.append(score.std())"
   ]
  },
  {
   "cell_type": "code",
   "execution_count": 18,
   "metadata": {
    "collapsed": true
   },
   "outputs": [],
   "source": [
    "scores_mean = np.array(scores_mean)\n",
    "scores_std = np.array(scores_std)"
   ]
  },
  {
   "cell_type": "code",
   "execution_count": 19,
   "metadata": {},
   "outputs": [
    {
     "data": {
      "image/png": "[encoded data removed]",
      "text/plain": [
       "<matplotlib.figure.Figure at 0x1808d8d11d0>"
      ]
     },
     "metadata": {},
     "output_type": "display_data"
    }
   ],
   "source": [
    "labels = ['zero', 'median', 'mean', 'min', 'max', 'class median', 'class mean', 'class min', 'class max']\n",
    "temp = np.linspace(1, 9, 9)\n",
    "\n",
    "plt.figure(figsize=(15, 5))\n",
    "plt.title('Fill nan strategy curve (SGDClassifier)')\n",
    "plt.xlabel('Filling nan strategy')\n",
    "plt.ylabel('Score')\n",
    "plt.grid()\n",
    "plt.fill_between(temp, scores_mean - scores_std, scores_mean + scores_std, alpha=0.1, color='g')\n",
    "plt.plot(temp, scores_mean, 'o-', color='g', label='Roc-auc score')\n",
    "plt.legend(loc='best')\n",
    "_ = plt.xticks(temp, labels, rotation='horizontal')"
   ]
  },
  {
   "cell_type": "markdown",
   "metadata": {},
   "source": [
    "4\\. Также вы уже реализовали несколько стратегий для обработки категориальных признаков. Сравните эти стратегии между собой с помощью оценки качества моделей по кросс-валидации, построенных на датасетах с использованием различных стратегий. Как обработка категориальных признаков сказывается на качестве модели? Какой вариант выглядит наиболее оптимальным с точки зрения качества?"
   ]
  },
  {
   "cell_type": "code",
   "execution_count": 20,
   "metadata": {
    "collapsed": true
   },
   "outputs": [],
   "source": [
    "raw_df = pd.read_csv(os.path.join(PATH_TO_DATA, 'orange_small_churn_data.train'))\n",
    "labels = pd.read_csv(os.path.join(PATH_TO_DATA, 'orange_small_churn_labels.train'), header=None)\n",
    "labels.columns = ['lbl']"
   ]
  },
  {
   "cell_type": "code",
   "execution_count": 21,
   "metadata": {},
   "outputs": [
    {
     "name": "stdout",
     "output_type": "stream",
     "text": [
      "Wall time: 2.56 s\n"
     ]
    }
   ],
   "source": [
    "%%time\n",
    "grouped = raw_df.iloc[:, -40:].groupby(labels.lbl)\n",
    "outflow = grouped.get_group(1)\n",
    "not_outflow = grouped.get_group(-1)\n",
    "\n",
    "replace_dict = {}\n",
    "\n",
    "for c in outflow.columns:\n",
    "    unique_outflow = outflow[c].dropna().unique()\n",
    "    unique_not_outflow = not_outflow[c].dropna().unique()\n",
    "    \n",
    "    intersect = np.intersect1d(unique_outflow, unique_not_outflow)\n",
    "    to_replase = [v for v in unique_not_outflow if v not in intersect]\n",
    "    cat = c + '_not_outflow'\n",
    "    \n",
    "    temp_dict = {v: cat for v in to_replase}\n",
    "    replace_dict[c] = temp_dict"
   ]
  },
  {
   "cell_type": "code",
   "execution_count": 22,
   "metadata": {},
   "outputs": [],
   "source": [
    "dummies_raw_df = pd.get_dummies(raw_df.replace(replace_dict), columns=raw_df.columns[-40:])"
   ]
  },
  {
   "cell_type": "code",
   "execution_count": 23,
   "metadata": {},
   "outputs": [],
   "source": [
    "scores = pd.Series()"
   ]
  },
  {
   "cell_type": "code",
   "execution_count": 24,
   "metadata": {},
   "outputs": [
    {
     "name": "stdout",
     "output_type": "stream",
     "text": [
      "[ 0.49311321  0.48182026  0.47156373  0.46479792  0.51032783]\n",
      "Wall time: 17min 22s\n"
     ]
    }
   ],
   "source": [
    "%%time\n",
    "X = dummies_raw_df.fillna(0).values\n",
    "y = labels.lbl.values\n",
    "\n",
    "estimator = SGDClassifier(random_state=42)\n",
    "score = cross_val_score(estimator=estimator, cv=skf, X=X, y=y, scoring='roc_auc')\n",
    "print(score)\n",
    "scores['ohe'] = score.mean()"
   ]
  },
  {
   "cell_type": "code",
   "execution_count": 25,
   "metadata": {},
   "outputs": [
    {
     "data": {
      "text/html": [
       "<div>\n",
       "<style>\n",
       "    .dataframe thead tr:only-child th {\n",
       "        text-align: right;\n",
       "    }\n",
       "\n",
       "    .dataframe thead th {\n",
       "        text-align: left;\n",
       "    }\n",
       "\n",
       "    .dataframe tbody tr th {\n",
       "        vertical-align: top;\n",
       "    }\n",
       "</style>\n",
       "<table border=\"1\" class=\"dataframe\">\n",
       "  <thead>\n",
       "    <tr style=\"text-align: right;\">\n",
       "      <th></th>\n",
       "      <th>Var1</th>\n",
       "      <th>Var2</th>\n",
       "      <th>Var3</th>\n",
       "      <th>Var4</th>\n",
       "      <th>Var5</th>\n",
       "      <th>Var6</th>\n",
       "      <th>Var7</th>\n",
       "      <th>Var8</th>\n",
       "      <th>Var9</th>\n",
       "      <th>Var10</th>\n",
       "      <th>...</th>\n",
       "      <th>Var221</th>\n",
       "      <th>Var222</th>\n",
       "      <th>Var223</th>\n",
       "      <th>Var224</th>\n",
       "      <th>Var225</th>\n",
       "      <th>Var226</th>\n",
       "      <th>Var227</th>\n",
       "      <th>Var228</th>\n",
       "      <th>Var229</th>\n",
       "      <th>Var230</th>\n",
       "    </tr>\n",
       "  </thead>\n",
       "  <tbody>\n",
       "    <tr>\n",
       "      <th>0</th>\n",
       "      <td>NaN</td>\n",
       "      <td>NaN</td>\n",
       "      <td>NaN</td>\n",
       "      <td>NaN</td>\n",
       "      <td>NaN</td>\n",
       "      <td>3052.0</td>\n",
       "      <td>NaN</td>\n",
       "      <td>NaN</td>\n",
       "      <td>NaN</td>\n",
       "      <td>NaN</td>\n",
       "      <td>...</td>\n",
       "      <td>0</td>\n",
       "      <td>3696</td>\n",
       "      <td>0</td>\n",
       "      <td>-1</td>\n",
       "      <td>-1</td>\n",
       "      <td>14</td>\n",
       "      <td>0</td>\n",
       "      <td>29</td>\n",
       "      <td>-1</td>\n",
       "      <td>-1</td>\n",
       "    </tr>\n",
       "    <tr>\n",
       "      <th>1</th>\n",
       "      <td>NaN</td>\n",
       "      <td>NaN</td>\n",
       "      <td>NaN</td>\n",
       "      <td>NaN</td>\n",
       "      <td>NaN</td>\n",
       "      <td>1813.0</td>\n",
       "      <td>7.0</td>\n",
       "      <td>NaN</td>\n",
       "      <td>NaN</td>\n",
       "      <td>NaN</td>\n",
       "      <td>...</td>\n",
       "      <td>4</td>\n",
       "      <td>347</td>\n",
       "      <td>0</td>\n",
       "      <td>-1</td>\n",
       "      <td>0</td>\n",
       "      <td>22</td>\n",
       "      <td>2</td>\n",
       "      <td>2</td>\n",
       "      <td>1</td>\n",
       "      <td>-1</td>\n",
       "    </tr>\n",
       "    <tr>\n",
       "      <th>2</th>\n",
       "      <td>NaN</td>\n",
       "      <td>NaN</td>\n",
       "      <td>NaN</td>\n",
       "      <td>NaN</td>\n",
       "      <td>NaN</td>\n",
       "      <td>1953.0</td>\n",
       "      <td>7.0</td>\n",
       "      <td>NaN</td>\n",
       "      <td>NaN</td>\n",
       "      <td>NaN</td>\n",
       "      <td>...</td>\n",
       "      <td>6</td>\n",
       "      <td>2498</td>\n",
       "      <td>0</td>\n",
       "      <td>-1</td>\n",
       "      <td>-1</td>\n",
       "      <td>7</td>\n",
       "      <td>3</td>\n",
       "      <td>25</td>\n",
       "      <td>1</td>\n",
       "      <td>-1</td>\n",
       "    </tr>\n",
       "    <tr>\n",
       "      <th>3</th>\n",
       "      <td>NaN</td>\n",
       "      <td>NaN</td>\n",
       "      <td>NaN</td>\n",
       "      <td>NaN</td>\n",
       "      <td>NaN</td>\n",
       "      <td>1533.0</td>\n",
       "      <td>7.0</td>\n",
       "      <td>NaN</td>\n",
       "      <td>NaN</td>\n",
       "      <td>NaN</td>\n",
       "      <td>...</td>\n",
       "      <td>4</td>\n",
       "      <td>2602</td>\n",
       "      <td>0</td>\n",
       "      <td>-1</td>\n",
       "      <td>-1</td>\n",
       "      <td>22</td>\n",
       "      <td>2</td>\n",
       "      <td>8</td>\n",
       "      <td>-1</td>\n",
       "      <td>-1</td>\n",
       "    </tr>\n",
       "    <tr>\n",
       "      <th>4</th>\n",
       "      <td>NaN</td>\n",
       "      <td>NaN</td>\n",
       "      <td>NaN</td>\n",
       "      <td>NaN</td>\n",
       "      <td>NaN</td>\n",
       "      <td>686.0</td>\n",
       "      <td>7.0</td>\n",
       "      <td>NaN</td>\n",
       "      <td>NaN</td>\n",
       "      <td>NaN</td>\n",
       "      <td>...</td>\n",
       "      <td>4</td>\n",
       "      <td>1375</td>\n",
       "      <td>0</td>\n",
       "      <td>-1</td>\n",
       "      <td>-1</td>\n",
       "      <td>12</td>\n",
       "      <td>2</td>\n",
       "      <td>8</td>\n",
       "      <td>-1</td>\n",
       "      <td>-1</td>\n",
       "    </tr>\n",
       "  </tbody>\n",
       "</table>\n",
       "<p>5 rows × 230 columns</p>\n",
       "</div>"
      ],
      "text/plain": [
       "   Var1  Var2  Var3  Var4  Var5    Var6  Var7  Var8  Var9  Var10   ...    \\\n",
       "0   NaN   NaN   NaN   NaN   NaN  3052.0   NaN   NaN   NaN    NaN   ...     \n",
       "1   NaN   NaN   NaN   NaN   NaN  1813.0   7.0   NaN   NaN    NaN   ...     \n",
       "2   NaN   NaN   NaN   NaN   NaN  1953.0   7.0   NaN   NaN    NaN   ...     \n",
       "3   NaN   NaN   NaN   NaN   NaN  1533.0   7.0   NaN   NaN    NaN   ...     \n",
       "4   NaN   NaN   NaN   NaN   NaN   686.0   7.0   NaN   NaN    NaN   ...     \n",
       "\n",
       "   Var221  Var222  Var223  Var224  Var225  Var226  Var227  Var228  Var229  \\\n",
       "0       0    3696       0      -1      -1      14       0      29      -1   \n",
       "1       4     347       0      -1       0      22       2       2       1   \n",
       "2       6    2498       0      -1      -1       7       3      25       1   \n",
       "3       4    2602       0      -1      -1      22       2       8      -1   \n",
       "4       4    1375       0      -1      -1      12       2       8      -1   \n",
       "\n",
       "   Var230  \n",
       "0      -1  \n",
       "1      -1  \n",
       "2      -1  \n",
       "3      -1  \n",
       "4      -1  \n",
       "\n",
       "[5 rows x 230 columns]"
      ]
     },
     "execution_count": 25,
     "metadata": {},
     "output_type": "execute_result"
    }
   ],
   "source": [
    "label_raw_df = raw_df\n",
    "\n",
    "for c in label_raw_df.columns[-40:]:\n",
    "    label_raw_df[c] = label_raw_df[c].astype('category').cat.codes\n",
    "\n",
    "label_raw_df.head()"
   ]
  },
  {
   "cell_type": "code",
   "execution_count": 26,
   "metadata": {},
   "outputs": [
    {
     "name": "stdout",
     "output_type": "stream",
     "text": [
      "[ 0.49610525  0.48167273  0.47356079  0.46909027  0.50976011]\n",
      "Wall time: 1.88 s\n"
     ]
    }
   ],
   "source": [
    "%%time\n",
    "X = label_raw_df.fillna(0).values\n",
    "y = labels.lbl.values\n",
    "\n",
    "estimator = SGDClassifier(random_state=42)\n",
    "score = cross_val_score(estimator=estimator, cv=skf, X=X, y=y, scoring='roc_auc')\n",
    "print(score)\n",
    "scores['le'] = score.mean()"
   ]
  },
  {
   "cell_type": "code",
   "execution_count": 27,
   "metadata": {},
   "outputs": [
    {
     "data": {
      "image/png": "[encoded data removed]",
      "text/plain": [
       "<matplotlib.figure.Figure at 0x180f478a5c0>"
      ]
     },
     "metadata": {},
     "output_type": "display_data"
    }
   ],
   "source": [
    "plt.title('Categorial features strategy (SGDClassifier)')\n",
    "plt.xlabel('Strategy')\n",
    "plt.ylabel('Score')\n",
    "plt.plot([1, 2], scores.values, 'ro')\n",
    "plt.margins(0.8)\n",
    "_ = plt.xticks([1, 2], scores.index, rotation='horizontal')"
   ]
  },
  {
   "cell_type": "markdown",
   "metadata": {},
   "source": [
    "Ну что тут можно сказать, качество в обоих случаях одинаково ужасное......."
   ]
  },
  {
   "cell_type": "markdown",
   "metadata": {},
   "source": [
    "5\\. Все ли признаки оказались полезными для построения моделей? Проведите процедуру отбора признаков, попробуйте разные варианты отбора (обратите внимание на модуль `sklearn.feature_selection`). Например, можно выбрасывать случайные признаки или строить отбор на основе l1-регуляризации - отфильтровать из обучения признаки, которые получат нулевой вес при построении регрессии с l1-регуляризацией (`sklearn.linear_model.Lasso`). И всегда можно придумать что-то своё=) Попробуйте как минимум 2 различные стратегии, сравните результаты. Помог ли отбор признаков улучшить качество модели? Поясните свой ответ."
   ]
  },
  {
   "cell_type": "code",
   "execution_count": 28,
   "metadata": {},
   "outputs": [],
   "source": [
    "scores = pd.Series()\n",
    "\n",
    "X = df.iloc[:, :-1].fillna(0).values\n",
    "y = df.target.values\n",
    "\n",
    "for penalty in ['l1', 'l2']:\n",
    "    lsvc = LinearSVC(penalty=penalty, dual=False).fit(X, y)\n",
    "    model = SelectFromModel(lsvc, prefit=True)\n",
    "    X_new = model.transform(X)\n",
    "    \n",
    "    estimator = SGDClassifier(random_state=42)\n",
    "    score = cross_val_score(estimator=estimator, cv=skf, X=X_new, y=y, scoring='roc_auc')\n",
    "    scores[penalty] = score.mean()"
   ]
  },
  {
   "cell_type": "code",
   "execution_count": 29,
   "metadata": {},
   "outputs": [
    {
     "data": {
      "image/png": "[encoded data removed]",
      "text/plain": [
       "<matplotlib.figure.Figure at 0x180f47c74a8>"
      ]
     },
     "metadata": {},
     "output_type": "display_data"
    }
   ],
   "source": [
    "plt.title('Feature selection (SGDClassifier)')\n",
    "plt.xlabel('Feature selection strategy')\n",
    "plt.ylabel('Score')\n",
    "plt.plot([1, 2], scores.values, 'ro')\n",
    "plt.margins(0.8)\n",
    "_ = plt.xticks([1, 2], scores.index, rotation='horizontal')"
   ]
  },
  {
   "cell_type": "markdown",
   "metadata": {},
   "source": [
    "6\\. Подберите оптимальные параметры модели. Обратите внимание, что в зависимости от того, как вы обработали исходные данные, сделали ли балансировку классов, сколько объектов оставили в обучающей выборке и др. оптимальные значения параметров могут меняться. Возьмите наилучшее из ваших решений на текущий момент и проведите процедуру подбора параметров модели (обратите внимание на `sklearn.model_selection.GridSearchCV`) Как подбор параметров повлиял на качество модели?"
   ]
  },
  {
   "cell_type": "code",
   "execution_count": 30,
   "metadata": {},
   "outputs": [
    {
     "name": "stdout",
     "output_type": "stream",
     "text": [
      "0.505697440746\n",
      "{'classifier__alpha': 0.0001, 'classifier__loss': 'hinge'}\n"
     ]
    }
   ],
   "source": [
    "pipe = Pipeline([(\"classifier\", SGDClassifier())])\n",
    "\n",
    "param_grid = [\n",
    "    {\n",
    "    \"classifier__alpha\": [0.0001, 0.01, 0.1, 1],\n",
    "    \"classifier__loss\": [ \"hinge\", \"log\"]\n",
    "    }\n",
    "]\n",
    "\n",
    "grid = GridSearchCV(pipe, cv=skf, n_jobs=-1, param_grid=param_grid, scoring='roc_auc')\n",
    "grid.fit(X, y)\n",
    "\n",
    "print(grid.best_score_)\n",
    "print(grid.best_params_)"
   ]
  },
  {
   "cell_type": "code",
   "execution_count": 31,
   "metadata": {},
   "outputs": [
    {
     "data": {
      "text/plain": [
       "[mean: 0.50570, std: 0.02175, params: {'classifier__alpha': 0.0001, 'classifier__loss': 'hinge'},\n",
       " mean: 0.49870, std: 0.01514, params: {'classifier__alpha': 0.0001, 'classifier__loss': 'log'},\n",
       " mean: 0.49633, std: 0.01614, params: {'classifier__alpha': 0.01, 'classifier__loss': 'hinge'},\n",
       " mean: 0.48507, std: 0.00950, params: {'classifier__alpha': 0.01, 'classifier__loss': 'log'},\n",
       " mean: 0.48167, std: 0.01177, params: {'classifier__alpha': 0.1, 'classifier__loss': 'hinge'},\n",
       " mean: 0.49229, std: 0.01451, params: {'classifier__alpha': 0.1, 'classifier__loss': 'log'},\n",
       " mean: 0.48977, std: 0.01895, params: {'classifier__alpha': 1, 'classifier__loss': 'hinge'},\n",
       " mean: 0.48821, std: 0.01607, params: {'classifier__alpha': 1, 'classifier__loss': 'log'}]"
      ]
     },
     "execution_count": 31,
     "metadata": {},
     "output_type": "execute_result"
    }
   ],
   "source": [
    "grid.grid_scores_"
   ]
  },
  {
   "cell_type": "markdown",
   "metadata": {},
   "source": [
    "7\\. Предложите методику оценки того, какие признаки внесли наибольший вклад в модель (например, это могут быть веса в случае регрессии, а также большое количество моделей реализуют метод `feature_importances_` - оценка важности признаков). На основе предложенной методики проанализируйте, какие признаки внесли больший вклад в модель, а какие меньший?"
   ]
  },
  {
   "cell_type": "code",
   "execution_count": 32,
   "metadata": {},
   "outputs": [
    {
     "data": {
      "text/plain": [
       "Var131                        4.072416e+06\n",
       "Var180                        1.621823e+06\n",
       "Var154                        1.153768e+06\n",
       "Var94                         5.969971e+05\n",
       "Var133                        5.611598e+05\n",
       "Var139                        5.234451e+05\n",
       "Var108                        5.033701e+05\n",
       "Var125                        4.498155e+05\n",
       "Var5                          4.062003e+05\n",
       "Var33                         4.001362e+05\n",
       "Var76                         3.970452e+05\n",
       "Var162                        3.623727e+05\n",
       "Var53                         3.609891e+05\n",
       "Var51                         3.249786e+05\n",
       "Var149                        2.911722e+05\n",
       "Var136                        2.729239e+05\n",
       "Var13                         2.688618e+05\n",
       "Var124                        2.630859e+05\n",
       "Var59                         2.355668e+05\n",
       "Var177                        2.285041e+05\n",
       "Var182                        1.939642e+05\n",
       "Var69                         1.839667e+05\n",
       "Var153                        1.816477e+05\n",
       "Var140                        1.739061e+05\n",
       "Var10                         1.602935e+05\n",
       "Var163                        1.441625e+05\n",
       "Var106                        1.404476e+05\n",
       "Var95                         1.391279e+05\n",
       "Var80                         1.245346e+05\n",
       "Var113                        1.223359e+05\n",
       "                                  ...     \n",
       "Var207_wXfldy7                4.975149e-02\n",
       "Var219_AU8OvAe                4.975149e-02\n",
       "Var229_oJmt                   7.857634e-16\n",
       "Var141                        0.000000e+00\n",
       "Var138                        0.000000e+00\n",
       "Var185                        0.000000e+00\n",
       "Var8                          0.000000e+00\n",
       "Var195_BNjsq81k1tWAYigY       0.000000e+00\n",
       "Var175                        0.000000e+00\n",
       "Var195_I9xt3Gi01UK7p          0.000000e+00\n",
       "Var195_V10_0kx3ZF2we          0.000000e+00\n",
       "Var169                        0.000000e+00\n",
       "Var195_XMIgoIlPqx             0.000000e+00\n",
       "Var2                          0.000000e+00\n",
       "Var39                         0.000000e+00\n",
       "Var219_AU8KzzF                0.000000e+00\n",
       "Var15                         0.000000e+00\n",
       "Var196_mKeq                   0.000000e+00\n",
       "Var42                         0.000000e+00\n",
       "Var20                         0.000000e+00\n",
       "Var219_HEoH                   0.000000e+00\n",
       "Var79                         0.000000e+00\n",
       "Var55                         0.000000e+00\n",
       "Var207_tMBVJkA0xJMEATvl4ht    0.000000e+00\n",
       "Var52                         0.000000e+00\n",
       "Var203_pybr                   0.000000e+00\n",
       "Var31                         0.000000e+00\n",
       "Var32                         0.000000e+00\n",
       "Var48                         0.000000e+00\n",
       "Var167                        0.000000e+00\n",
       "Length: 347, dtype: float64"
      ]
     },
     "execution_count": 32,
     "metadata": {},
     "output_type": "execute_result"
    }
   ],
   "source": [
    "estimator = SGDClassifier(random_state=42).fit(X, y)\n",
    "pd.Series(abs(estimator.coef_[0]), index=df.columns[:-1]).sort_values(ascending=False)"
   ]
  },
  {
   "cell_type": "markdown",
   "metadata": {},
   "source": [
    "8\\. Напоследок давайте посмотрим на объекты. На каких объектах достигается наибольшая ошибка классификации? Есть ли межу этими объектами что-то общее? Видны ли какие-либо закономерности? Предположите, почему наибольшая ошибка достигается именно на этих объектах. В данном случае \"наибольшую\" ошибку можно понимать как отнесение объекта с чужому классу с большой долей уверенности (с высокой вероятностью)."
   ]
  },
  {
   "cell_type": "code",
   "execution_count": 33,
   "metadata": {
    "collapsed": true
   },
   "outputs": [],
   "source": [
    "estimator = SGDClassifier(random_state=42).fit(X, y)"
   ]
  },
  {
   "cell_type": "code",
   "execution_count": 34,
   "metadata": {},
   "outputs": [],
   "source": [
    "proba = estimator.predict(X)\n",
    "idxs = [idx for idx, v in enumerate(proba) if v != y[idx]]\n",
    "err_df = df.iloc[idxs]"
   ]
  },
  {
   "cell_type": "code",
   "execution_count": 35,
   "metadata": {},
   "outputs": [
    {
     "name": "stdout",
     "output_type": "stream",
     "text": [
      " 1    2902\n",
      "-1     548\n",
      "Name: target, dtype: int64\n",
      "-1    37024\n",
      " 1     2976\n",
      "Name: target, dtype: int64\n"
     ]
    }
   ],
   "source": [
    "print(err_df.target.value_counts())\n",
    "print(df.target.value_counts())"
   ]
  },
  {
   "cell_type": "markdown",
   "metadata": {},
   "source": [
    "Здесь вынужден признать что пока не особо представляю на что надо смотреть."
   ]
  },
  {
   "cell_type": "markdown",
   "metadata": {},
   "source": [
    "9\\. По итогам проведенных экспериментов постройте финальную решение - модель с наилучшим качеством. Укажите, какие преобразования данных, параметры и пр. вы выбрали для построения финальной модели."
   ]
  },
  {
   "cell_type": "code",
   "execution_count": 37,
   "metadata": {},
   "outputs": [],
   "source": [
    "class_weight = {1:0.9, -1:0.1}\n",
    "\n",
    "values_to_fill = df[numeric_cols].max()\n",
    "\n",
    "train_df = df[numeric_cols]\n",
    "    \n",
    "for c in train_df.columns:\n",
    "    train_df[c].fillna(values_to_fill[c], inplace=True)\n",
    "\n",
    "train_df = pd.concat([train_df, df[cat_cols + ['target']]], axis=1)\n",
    "    \n",
    "goups = train_df.groupby(by='target')\n",
    "out_df = goups.get_group(1).fillna(0)\n",
    "not_out_df = goups.get_group(-1).fillna(0)\n",
    "\n",
    "n_samples = int(not_out_df.shape[0] * 0.6)\n",
    "train_df = pd.concat([out_df, not_out_df.sample(n_samples)])\n",
    "X = train_df.iloc[:, :-1].values\n",
    "y = train_df.target.values"
   ]
  },
  {
   "cell_type": "code",
   "execution_count": 38,
   "metadata": {},
   "outputs": [
    {
     "data": {
      "text/plain": [
       "array([ 0.65885028,  0.653101  ,  0.64064443,  0.65394871,  0.68446948])"
      ]
     },
     "execution_count": 38,
     "metadata": {},
     "output_type": "execute_result"
    }
   ],
   "source": [
    "lsvc = LinearSVC(penalty='l1', dual=False).fit(X, y)\n",
    "model = SelectFromModel(lsvc, prefit=True)\n",
    "X_new = model.transform(X)\n",
    "\n",
    "estimator = SGDClassifier(alpha=0.0001, random_state=42)\n",
    "cross_val_score(estimator=estimator, cv=skf, X=X_new, y=y, scoring='roc_auc')"
   ]
  },
  {
   "cell_type": "markdown",
   "metadata": {},
   "source": [
    "10\\. Подумайте, можно ли еще улучшить модель? Что для этого можно сделать? "
   ]
  },
  {
   "cell_type": "markdown",
   "metadata": {
    "collapsed": true
   },
   "source": [
    "Для улучшении модели можно:\n",
    " * Рассмотреть другие стратегии заполнения пустых значений.\n",
    " * Рассмотреть новые стратегии отбора признаков, например на основе кореляции с целевой переменной\n",
    " * И конечно же посмотреть в сторону новых моделей таких как LogisticRegression например."
   ]
  }
 ],
 "metadata": {
  "kernelspec": {
   "display_name": "Python 3",
   "language": "python",
   "name": "python3"
  },
  "language_info": {
   "codemirror_mode": {
    "name": "ipython",
    "version": 3
   },
   "file_extension": ".py",
   "mimetype": "text/x-python",
   "name": "python",
   "nbconvert_exporter": "python",
   "pygments_lexer": "ipython3",
   "version": "3.6.0"
  }
 },
 "nbformat": 4,
 "nbformat_minor": 1
}
