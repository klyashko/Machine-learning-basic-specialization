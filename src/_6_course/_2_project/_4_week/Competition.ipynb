{
 "cells": [
  {
   "cell_type": "markdown",
   "metadata": {},
   "source": [
    "Соревнование https://inclass.kaggle.com/c/telecom-clients-churn-prediction"
   ]
  },
  {
   "cell_type": "code",
   "execution_count": 1,
   "metadata": {},
   "outputs": [],
   "source": [
    "import warnings\n",
    "import os\n",
    "\n",
    "import pandas as pd\n",
    "import numpy as np\n",
    "\n",
    "from sklearn.preprocessing import FunctionTransformer, StandardScaler, OneHotEncoder, LabelEncoder\n",
    "from sklearn.pipeline import FeatureUnion, make_pipeline\n",
    "from xgboost import XGBClassifier\n",
    "\n",
    "warnings.simplefilter(\"ignore\")\n",
    "\n",
    "PATH_TO_DATA = '../data'"
   ]
  },
  {
   "cell_type": "code",
   "execution_count": 2,
   "metadata": {
    "collapsed": true
   },
   "outputs": [],
   "source": [
    "train_df = pd.read_csv(os.path.join(PATH_TO_DATA, 'orange_small_churn_train_data.csv'))\n",
    "test_df = pd.read_csv(os.path.join(PATH_TO_DATA, 'orange_small_churn_test_data.csv'))\n",
    "\n",
    "train_df.drop(\"ID\", axis=1, inplace=True)\n",
    "test_df.drop(\"ID\", axis=1, inplace=True)"
   ]
  },
  {
   "cell_type": "markdown",
   "metadata": {},
   "source": [
    "### Удаление пустых столбцов"
   ]
  },
  {
   "cell_type": "code",
   "execution_count": 3,
   "metadata": {},
   "outputs": [
    {
     "name": "stdout",
     "output_type": "stream",
     "text": [
      "18\n",
      "(40000, 231)\n",
      "(40000, 213)\n",
      "(10000, 230)\n",
      "(10000, 212)\n"
     ]
    }
   ],
   "source": [
    "empty_cols = [c for c in train_df.columns if train_df[c].dropna().shape[0] == 0]\n",
    "print(len(empty_cols))\n",
    "print(train_df.shape)\n",
    "train_df.drop(empty_cols, axis=1, inplace=True)\n",
    "print(train_df.shape)\n",
    "\n",
    "print(test_df.shape)\n",
    "test_df.drop(empty_cols, axis=1, inplace=True)\n",
    "print(test_df.shape)"
   ]
  },
  {
   "cell_type": "code",
   "execution_count": 4,
   "metadata": {},
   "outputs": [],
   "source": [
    "num_cols = train_df.columns[:-39]\n",
    "cat_cols = train_df.columns[ -39:-1]"
   ]
  },
  {
   "cell_type": "code",
   "execution_count": 5,
   "metadata": {},
   "outputs": [],
   "source": [
    "train_df[num_cols] = train_df[num_cols].fillna(train_df[num_cols].mean(axis=0), axis=0)\n",
    "train_df[cat_cols] = train_df[cat_cols].fillna('N\\A')\n",
    "\n",
    "test_df[num_cols] = test_df[num_cols].fillna(test_df[num_cols].mean(axis=0), axis=0)\n",
    "test_df[cat_cols] = test_df[cat_cols].fillna('N\\A')"
   ]
  },
  {
   "cell_type": "markdown",
   "metadata": {},
   "source": [
    "### Подготовка категориальных фичей к OHE"
   ]
  },
  {
   "cell_type": "code",
   "execution_count": 6,
   "metadata": {},
   "outputs": [
    {
     "name": "stdout",
     "output_type": "stream",
     "text": [
      "Wall time: 5.3 s\n"
     ]
    }
   ],
   "source": [
    "%%time\n",
    "all_cats = pd.concat([train_df[cat_cols], test_df[cat_cols]], axis=0)\n",
    "le_dict = {c:LabelEncoder().fit(all_cats[c].values) for c in cat_cols}\n",
    "\n",
    "train_df[cat_cols] = train_df[cat_cols].apply(lambda x: le_dict[x.name].transform(x))\n",
    "test_df[cat_cols] = test_df[cat_cols].apply(lambda x: le_dict[x.name].transform(x))"
   ]
  },
  {
   "cell_type": "code",
   "execution_count": 7,
   "metadata": {},
   "outputs": [],
   "source": [
    "num_ids = np.array([(c in num_cols) for c in train_df.columns], dtype = bool)\n",
    "cat_ids = np.array([(c in cat_cols) for c in train_df.columns], dtype = bool)"
   ]
  },
  {
   "cell_type": "markdown",
   "metadata": {},
   "source": [
    "### Разбиение на траин и тест"
   ]
  },
  {
   "cell_type": "code",
   "execution_count": 8,
   "metadata": {
    "collapsed": true
   },
   "outputs": [],
   "source": [
    "X_train = train_df.values\n",
    "y_train = train_df['labels'].values\n",
    "\n",
    "X_test = test_df.values"
   ]
  },
  {
   "cell_type": "markdown",
   "metadata": {},
   "source": [
    "### Построение и обучение модели"
   ]
  },
  {
   "cell_type": "code",
   "execution_count": 9,
   "metadata": {
    "collapsed": true
   },
   "outputs": [],
   "source": [
    "model = XGBClassifier(max_depth=7, learning_rate=0.05, n_estimators=250, silent=True, objective='binary:logistic', \n",
    "                        nthread=-1, gamma=0, min_child_weight=2,subsample=0.6, colsample_bytree = 0.6, reg_alpha=0, reg_lambda=1,\n",
    "                        scale_pos_weight=0.04, base_score=0.5, seed=0, missing=None)\n",
    "\n",
    "numeric_pipe = make_pipeline(FunctionTransformer(lambda x: x[:, num_ids]), StandardScaler(with_mean=0))\n",
    "cat_pipe = make_pipeline(FunctionTransformer(lambda x: x[:, cat_ids]), OneHotEncoder(handle_unknown = 'ignore'))\n",
    "\n",
    "pipe = make_pipeline(FeatureUnion([('numbers', numeric_pipe), ('categories', cat_pipe)]), model)"
   ]
  },
  {
   "cell_type": "code",
   "execution_count": 10,
   "metadata": {},
   "outputs": [
    {
     "name": "stdout",
     "output_type": "stream",
     "text": [
      "Wall time: 1min 43s\n"
     ]
    }
   ],
   "source": [
    "%%time\n",
    "_ = pipe.fit(X_train, y_train)"
   ]
  },
  {
   "cell_type": "markdown",
   "metadata": {},
   "source": [
    "### Формирование результата"
   ]
  },
  {
   "cell_type": "code",
   "execution_count": 11,
   "metadata": {
    "collapsed": true
   },
   "outputs": [],
   "source": [
    "result_df = pd.DataFrame()\n",
    "result_df['result'] = pipe.predict_proba(X_test)[:, 1]\n",
    "result_df.to_csv('result.csv', index_label = 'Id')"
   ]
  }
 ],
 "metadata": {
  "kernelspec": {
   "display_name": "Python 3",
   "language": "python",
   "name": "python3"
  },
  "language_info": {
   "codemirror_mode": {
    "name": "ipython",
    "version": 3
   },
   "file_extension": ".py",
   "mimetype": "text/x-python",
   "name": "python",
   "nbconvert_exporter": "python",
   "pygments_lexer": "ipython3",
   "version": "3.6.0"
  }
 },
 "nbformat": 4,
 "nbformat_minor": 2
}
