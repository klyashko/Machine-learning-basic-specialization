{
 "cells": [
  {
   "cell_type": "markdown",
   "metadata": {},
   "source": [
    "Поздравляю, вы добрались до финальной недели работы над проектом! На этой неделе нужно собрать воедино всё то, над чем вы работали в рамках проекта и подвести итоги вашей работы.\n",
    "\n",
    "Отчет должен быть интересным, хорошо иллюстрированным и структурированным, его должно “хотеться читать”. Избегайте чересчур объемных отчетов, старайтесь лаконично формулировать мысли и выводы. Отчет можно подготовить как в виде документа, так и в виде презентации, красивого jupyther notebook или даже реализовать небольшое демо.\n",
    "\n",
    "Отчет нужно сформулировать в таком виде, в котором вы могли бы это делать при работе над аналогичном проектом в компании. Содержание отчета и порядок изложения являются свободными - сделайте так, чтобы ваш отчет выглядел убедительно и демонстрировал вашу работу в лучшем свете. При том, что порядок и стиль изложения не фиксируются, ниже вы найдете рекомендации относительно содержания отчета - перечисленные пункты должны присутствовать, по ним в частности проводится оценка работы. Рекомендуем отразить эти пункты в работе явно, чтобы ваши сокурсники могли легко убедиться в том, что они присутствуют:\n",
    "\n",
    "1 Цели и задачи проекта. Сформулируйте постановку задачи в терминах машинного обучения, опишите, каким образом ваше решение может быть применено на практике.\n",
    "\n",
    "2 Методика измерения качества и критерий успеха. Опишите, каким образом, на основании каких метрик вы будете оценивать качество, как будет устроен процесс тестирования модели? Каков критерий успешности?\n",
    "\n",
    "3 Техническое описание решения. Опишите, как строится модель, какой pipline обработки данных. Здесь отлично будут смотреться схематические иллюстрации!\n",
    "\n",
    "4 Сделайте выводы о качестве модели, скажите несколько слов об ожидаемом экономическом эффекте от использования модели. Приведите оценки качества, постройте графики, кривые обучения, перечислите лучшие признаки - проявите фантазию. Ваша задача - убедить читателя, что решение хорошее.\n",
    "\n",
    "5 Подведите итог вашей работы.\n",
    "\n",
    "Дополнительно можно сформулировать и предложить дизайн онлайн эксперимента, на основании которого можно будет оценить качество работы модели в продакшн. Может быть стоит провести А/Б-тестирование? Каким в этом случае будет дизайн эксперимента? Может быть вы захотите сформулировать предложения по процессу эксплуатации модели, мониторинга за качеством и дообучения модели? Проявите фантазию=)"
   ]
  },
  {
   "cell_type": "code",
   "execution_count": 44,
   "metadata": {
    "collapsed": true
   },
   "outputs": [],
   "source": [
    "%matplotlib inline\n",
    "\n",
    "import warnings\n",
    "import os\n",
    "\n",
    "import pandas as pd\n",
    "import numpy as np\n",
    "\n",
    "from sklearn.model_selection import cross_val_score, StratifiedKFold, learning_curve\n",
    "from sklearn.linear_model import PassiveAggressiveClassifier\n",
    "from sklearn.pipeline import Pipeline, make_pipeline\n",
    "from sklearn.preprocessing import StandardScaler\n",
    "\n",
    "from matplotlib import pyplot as plt\n",
    "\n",
    "warnings.simplefilter(\"ignore\")\n",
    "PATH_TO_DATA = '../data'"
   ]
  },
  {
   "cell_type": "markdown",
   "metadata": {},
   "source": [
    "### 1\\. Цели и задачи проекта. Сформулируйте постановку задачи в терминах машинного обучения, опишите, каким образом ваше решение может быть применено на практике."
   ]
  },
  {
   "cell_type": "markdown",
   "metadata": {},
   "source": [
    "На этом проекте постановка задачи звучит следующим образом:\n",
    "\n",
    "    \"Необходимо по имеющимся сырым данным предсказать отток пользователей (т.е.) прекратит ли пользователь в ближайшее время пользоваться услугами компании.\"\n",
    "    \n",
    "Это достаточно часто применимая на практике задача, так как во многих отраслях (например сотовая связь) стало достаточно сложно привлекать новых клиентов и компании стали более заинтересованы в том что бы удержать тех которые уже имеются.\n",
    "\n",
    "На практике эта задача может быть решена с помощью математической модели которая будет вычислять пользователей которые в ближайшее время могут потенциально прекратить пользоваться услугами компании и каким-либо бонусным предложением (спец тарифами, скидками и т.д.) которое будет предложено этим пользователям.\n",
    "\n",
    "Так же стоит отметить что чем раньше будет выявлено что пользователь планирует прекратить пользоваться услугами, тем лучше, т.к. к примеру вернуть пользователя который уже ушел на практике далеко не всегда выполнимая задача, однако если пользователь сомневается, то при получении предложения которое может его заинтересовать он достаточно часто может изменить свое мнение.\n",
    "\n",
    "Тут так же стоит отметить что есть группа пользователей которая изначально является склонной к оттоку, например если человек покупает сим карту находясь в отпуске и не планирует пользоваться ею по возвращению. Вернуть таких пользователей в большинстве случаев не возможно. Так же для улучшения качества модели необходимо по возможности исключить таких пользователей из обучающей выборки."
   ]
  },
  {
   "cell_type": "markdown",
   "metadata": {},
   "source": [
    "### 2. Методика измерения качества и критерий успеха. Опишите, каким образом, на основании каких метрик вы будете оценивать качество, как будет устроен процесс тестирования модели? Каков критерий успешности?"
   ]
  },
  {
   "cell_type": "markdown",
   "metadata": {},
   "source": [
    "Критерии успеха с точки зрения бизнеса:\n",
    " * то что отток пользователей снизился или вообще прекратился\n",
    " * то что сокращения оттока удалось добиться с наименьшими финансовыми затратами\n",
    " \n",
    "Критерии с технической точки зрения:\n",
    " * то что удалось построить модель которая с высокой точностью определяет пользователей потенциально входящих в группу оттока\n",
    " \n",
    "К сожалению технический критерий на практике не ксегда оценим. Разумеется мы может провести cross-validation подход к построению модели, провести A/B тестирование перед внедрением модели в продакшен, однако дают нам информацию о целесообразности внедрения модели в продакшен, и не дают увериности что при изменении к примеру экономический ситуации на рынке наша модель будет продолжать работать с изначальной точностью. О ток как с этим жить предлагаю поговорить несколько позднее.\n",
    "\n",
    "#### Метрики по которм будет оцениваться качество модели:\n",
    "\n",
    "Перед выбором метрики стоит отметить что обучающие выборки оттока как правило не сбалансированые, т.к. мы будет наболюдать сильный перевес объектов с классом \"не отток\", который иногда может превышать отметку в 10 и более раз. Соответственно такая метрика как accuracy для нас будет абсолютно бессполездной при решении этой задачи.\n",
    "\n",
    "Основной метрикой будет являться *roc auc curve*, которая позволяет оценивать качество классификатора на несбалансированных выборках.\n",
    "В качестве дополнительных метрик подходошли бы:\n",
    " * $Precision = \\frac{TP}{TP+FP}$\n",
    " * $Recall=\\frac{TP}{TP+FN}$\n",
    " \n",
    "Но для упрощения простоты оптимизации предлагаю использовать F-меру которая является объединением этих метрик:\n",
    "  \n",
    "  \n",
    "<center>$F=2\\frac{Precision×Recall}{Precision+Recall}$</center>"
   ]
  },
  {
   "cell_type": "markdown",
   "metadata": {},
   "source": [
    "### 3 Техническое описание решения. Опишите, как строится модель, какой pipline обработки данных. Здесь отлично будут смотреться схематические иллюстрации!"
   ]
  },
  {
   "cell_type": "markdown",
   "metadata": {},
   "source": [
    "Заргузим предобработанные данные и посмотрим на первые пару строк"
   ]
  },
  {
   "cell_type": "code",
   "execution_count": 27,
   "metadata": {},
   "outputs": [
    {
     "data": {
      "text/html": [
       "<div>\n",
       "<style>\n",
       "    .dataframe thead tr:only-child th {\n",
       "        text-align: right;\n",
       "    }\n",
       "\n",
       "    .dataframe thead th {\n",
       "        text-align: left;\n",
       "    }\n",
       "\n",
       "    .dataframe tbody tr th {\n",
       "        vertical-align: top;\n",
       "    }\n",
       "</style>\n",
       "<table border=\"1\" class=\"dataframe\">\n",
       "  <thead>\n",
       "    <tr style=\"text-align: right;\">\n",
       "      <th></th>\n",
       "      <th>Var1</th>\n",
       "      <th>Var2</th>\n",
       "      <th>Var3</th>\n",
       "      <th>Var4</th>\n",
       "      <th>Var5</th>\n",
       "      <th>Var6</th>\n",
       "      <th>Var7</th>\n",
       "      <th>Var8</th>\n",
       "      <th>Var9</th>\n",
       "      <th>Var10</th>\n",
       "      <th>...</th>\n",
       "      <th>Var218_cJvF</th>\n",
       "      <th>Var201_6dX3</th>\n",
       "      <th>Var201_smXZ</th>\n",
       "      <th>Var208_kIsH</th>\n",
       "      <th>Var208_sBgB</th>\n",
       "      <th>New_Var191</th>\n",
       "      <th>New_Var224</th>\n",
       "      <th>New_Var215</th>\n",
       "      <th>New_Var213</th>\n",
       "      <th>target</th>\n",
       "    </tr>\n",
       "  </thead>\n",
       "  <tbody>\n",
       "    <tr>\n",
       "      <th>0</th>\n",
       "      <td>NaN</td>\n",
       "      <td>NaN</td>\n",
       "      <td>NaN</td>\n",
       "      <td>NaN</td>\n",
       "      <td>NaN</td>\n",
       "      <td>3052.0</td>\n",
       "      <td>NaN</td>\n",
       "      <td>NaN</td>\n",
       "      <td>NaN</td>\n",
       "      <td>NaN</td>\n",
       "      <td>...</td>\n",
       "      <td>1</td>\n",
       "      <td>0</td>\n",
       "      <td>0</td>\n",
       "      <td>1</td>\n",
       "      <td>0</td>\n",
       "      <td>0</td>\n",
       "      <td>0</td>\n",
       "      <td>0</td>\n",
       "      <td>0</td>\n",
       "      <td>-1</td>\n",
       "    </tr>\n",
       "    <tr>\n",
       "      <th>1</th>\n",
       "      <td>NaN</td>\n",
       "      <td>NaN</td>\n",
       "      <td>NaN</td>\n",
       "      <td>NaN</td>\n",
       "      <td>NaN</td>\n",
       "      <td>1813.0</td>\n",
       "      <td>7.0</td>\n",
       "      <td>NaN</td>\n",
       "      <td>NaN</td>\n",
       "      <td>NaN</td>\n",
       "      <td>...</td>\n",
       "      <td>1</td>\n",
       "      <td>0</td>\n",
       "      <td>0</td>\n",
       "      <td>1</td>\n",
       "      <td>0</td>\n",
       "      <td>0</td>\n",
       "      <td>0</td>\n",
       "      <td>0</td>\n",
       "      <td>0</td>\n",
       "      <td>-1</td>\n",
       "    </tr>\n",
       "    <tr>\n",
       "      <th>2</th>\n",
       "      <td>NaN</td>\n",
       "      <td>NaN</td>\n",
       "      <td>NaN</td>\n",
       "      <td>NaN</td>\n",
       "      <td>NaN</td>\n",
       "      <td>1953.0</td>\n",
       "      <td>7.0</td>\n",
       "      <td>NaN</td>\n",
       "      <td>NaN</td>\n",
       "      <td>NaN</td>\n",
       "      <td>...</td>\n",
       "      <td>0</td>\n",
       "      <td>0</td>\n",
       "      <td>0</td>\n",
       "      <td>1</td>\n",
       "      <td>0</td>\n",
       "      <td>0</td>\n",
       "      <td>0</td>\n",
       "      <td>0</td>\n",
       "      <td>0</td>\n",
       "      <td>-1</td>\n",
       "    </tr>\n",
       "    <tr>\n",
       "      <th>3</th>\n",
       "      <td>NaN</td>\n",
       "      <td>NaN</td>\n",
       "      <td>NaN</td>\n",
       "      <td>NaN</td>\n",
       "      <td>NaN</td>\n",
       "      <td>1533.0</td>\n",
       "      <td>7.0</td>\n",
       "      <td>NaN</td>\n",
       "      <td>NaN</td>\n",
       "      <td>NaN</td>\n",
       "      <td>...</td>\n",
       "      <td>1</td>\n",
       "      <td>0</td>\n",
       "      <td>0</td>\n",
       "      <td>1</td>\n",
       "      <td>0</td>\n",
       "      <td>0</td>\n",
       "      <td>0</td>\n",
       "      <td>0</td>\n",
       "      <td>0</td>\n",
       "      <td>1</td>\n",
       "    </tr>\n",
       "    <tr>\n",
       "      <th>4</th>\n",
       "      <td>NaN</td>\n",
       "      <td>NaN</td>\n",
       "      <td>NaN</td>\n",
       "      <td>NaN</td>\n",
       "      <td>NaN</td>\n",
       "      <td>686.0</td>\n",
       "      <td>7.0</td>\n",
       "      <td>NaN</td>\n",
       "      <td>NaN</td>\n",
       "      <td>NaN</td>\n",
       "      <td>...</td>\n",
       "      <td>1</td>\n",
       "      <td>0</td>\n",
       "      <td>0</td>\n",
       "      <td>1</td>\n",
       "      <td>0</td>\n",
       "      <td>0</td>\n",
       "      <td>0</td>\n",
       "      <td>0</td>\n",
       "      <td>0</td>\n",
       "      <td>-1</td>\n",
       "    </tr>\n",
       "  </tbody>\n",
       "</table>\n",
       "<p>5 rows × 348 columns</p>\n",
       "</div>"
      ],
      "text/plain": [
       "   Var1  Var2  Var3  Var4  Var5    Var6  Var7  Var8  Var9  Var10   ...    \\\n",
       "0   NaN   NaN   NaN   NaN   NaN  3052.0   NaN   NaN   NaN    NaN   ...     \n",
       "1   NaN   NaN   NaN   NaN   NaN  1813.0   7.0   NaN   NaN    NaN   ...     \n",
       "2   NaN   NaN   NaN   NaN   NaN  1953.0   7.0   NaN   NaN    NaN   ...     \n",
       "3   NaN   NaN   NaN   NaN   NaN  1533.0   7.0   NaN   NaN    NaN   ...     \n",
       "4   NaN   NaN   NaN   NaN   NaN   686.0   7.0   NaN   NaN    NaN   ...     \n",
       "\n",
       "   Var218_cJvF  Var201_6dX3  Var201_smXZ  Var208_kIsH  Var208_sBgB  \\\n",
       "0            1            0            0            1            0   \n",
       "1            1            0            0            1            0   \n",
       "2            0            0            0            1            0   \n",
       "3            1            0            0            1            0   \n",
       "4            1            0            0            1            0   \n",
       "\n",
       "   New_Var191  New_Var224  New_Var215  New_Var213  target  \n",
       "0           0           0           0           0      -1  \n",
       "1           0           0           0           0      -1  \n",
       "2           0           0           0           0      -1  \n",
       "3           0           0           0           0       1  \n",
       "4           0           0           0           0      -1  \n",
       "\n",
       "[5 rows x 348 columns]"
      ]
     },
     "execution_count": 27,
     "metadata": {},
     "output_type": "execute_result"
    }
   ],
   "source": [
    "df = pd.read_csv(os.path.join(PATH_TO_DATA, 'new_df_all.train'), index_col=0)\n",
    "df.head()"
   ]
  },
  {
   "cell_type": "markdown",
   "metadata": {},
   "source": [
    "Как можно заметить в данных много пропусков, так же есть пустые признаки, все это необходимо обработать."
   ]
  },
  {
   "cell_type": "code",
   "execution_count": 5,
   "metadata": {
    "collapsed": true
   },
   "outputs": [],
   "source": [
    "numeric_cols = ['Var%d' % i for i in range(1, 191)]\n",
    "cat_cols = [c for c in df.columns if c not in numeric_cols + ['target']]\n",
    "empty_cols = [c for c in df.columns if df[c].dropna().shape[0] == 0]\n",
    "numeric_cols = [c for c in numeric_cols if c not in empty_cols]"
   ]
  },
  {
   "cell_type": "code",
   "execution_count": 28,
   "metadata": {},
   "outputs": [],
   "source": [
    "df = df.fillna(df[numeric_cols].max())\n",
    "\n",
    "X = df[numeric_cols + cat_cols].values\n",
    "y = df.target.values"
   ]
  },
  {
   "cell_type": "code",
   "execution_count": 35,
   "metadata": {},
   "outputs": [
    {
     "data": {
      "text/plain": [
       "-1    37024\n",
       " 1     2976\n",
       "Name: target, dtype: int64"
      ]
     },
     "execution_count": 35,
     "metadata": {},
     "output_type": "execute_result"
    }
   ],
   "source": [
    "df.target.value_counts()"
   ]
  },
  {
   "cell_type": "code",
   "execution_count": 30,
   "metadata": {},
   "outputs": [
    {
     "data": {
      "text/plain": [
       "-1    0.9256\n",
       " 1    0.0744\n",
       "Name: target, dtype: float64"
      ]
     },
     "execution_count": 30,
     "metadata": {},
     "output_type": "execute_result"
    }
   ],
   "source": [
    "df.target.value_counts(normalize=True)"
   ]
  },
  {
   "cell_type": "markdown",
   "metadata": {},
   "source": [
    "Как и говорилось ранее у нас сильный дисбаланс классов в сторону класса \"не отток\", значит обычный **KFold** нам не подходит, будем использовать **StratifiedKFold** который умеет решать такие проблемы."
   ]
  },
  {
   "cell_type": "code",
   "execution_count": 36,
   "metadata": {
    "collapsed": true
   },
   "outputs": [],
   "source": [
    "skf = StratifiedKFold(n_splits=5, shuffle=True, random_state=17)"
   ]
  },
  {
   "cell_type": "markdown",
   "metadata": {},
   "source": [
    "Используется достаточно приметивный pipeline который состоит из **StandardScaler**, для улучшения качества градиентного спуска и **PassiveAggressiveClassifier** для обучения."
   ]
  },
  {
   "cell_type": "code",
   "execution_count": 45,
   "metadata": {},
   "outputs": [
    {
     "name": "stdout",
     "output_type": "stream",
     "text": [
      "[ 0.62431515  0.55703153  0.66146812  0.62635013  0.62389306]\n",
      "Wall time: 4.95 s\n"
     ]
    }
   ],
   "source": [
    "%%time\n",
    "estimator = make_pipeline(StandardScaler(), PassiveAggressiveClassifier(C=0.001, random_state=42))\n",
    "print(cross_val_score(estimator=estimator, cv=skf, X=X, y=y, scoring='roc_auc'))"
   ]
  },
  {
   "cell_type": "markdown",
   "metadata": {},
   "source": [
    "Как можно заметить качество не очень высокое, скорее на уровне baseline, но для текущей демонстрации этого достаточно."
   ]
  },
  {
   "cell_type": "markdown",
   "metadata": {},
   "source": [
    "### 4 Сделайте выводы о качестве модели, скажите несколько слов об ожидаемом экономическом эффекте от использования модели. Приведите оценки качества, постройте графики, кривые обучения, перечислите лучшие признаки - проявите фантазию. Ваша задача - убедить читателя, что решение хорошее."
   ]
  },
  {
   "cell_type": "markdown",
   "metadata": {},
   "source": [
    "#### Кривые обучения"
   ]
  },
  {
   "cell_type": "code",
   "execution_count": 42,
   "metadata": {},
   "outputs": [
    {
     "data": {
      "image/png": "[encoded data removed]",
      "text/plain": [
       "<matplotlib.figure.Figure at 0x2b36d618898>"
      ]
     },
     "metadata": {},
     "output_type": "display_data"
    }
   ],
   "source": [
    "train_sizes = np.linspace(.1, 1.0, 5)\n",
    "\n",
    "train_sizes, train_scores, test_scores = learning_curve(estimator, X, y, cv=skf, n_jobs=-1, \n",
    "                                                        train_sizes=train_sizes, scoring='roc_auc')\n",
    "\n",
    "train_scores_mean = np.mean(train_scores, axis=1)\n",
    "train_scores_std = np.std(train_scores, axis=1)\n",
    "test_scores_mean = np.mean(test_scores, axis=1)\n",
    "test_scores_std = np.std(test_scores, axis=1)\n",
    "\n",
    "plt.figure()\n",
    "plt.title('Learning Curves (PassiveAggressiveClassifier)')\n",
    "plt.xlabel(\"Training examples\")\n",
    "plt.ylabel(\"Score\")\n",
    "plt.grid()\n",
    "plt.fill_between(train_sizes, train_scores_mean - train_scores_std, train_scores_mean + train_scores_std, alpha=0.1, color=\"r\")\n",
    "plt.fill_between(train_sizes, test_scores_mean - test_scores_std, test_scores_mean + test_scores_std, alpha=0.1, color=\"g\")\n",
    "plt.plot(train_sizes, train_scores_mean, 'o-', color=\"r\", label=\"Training score\")\n",
    "plt.plot(train_sizes, test_scores_mean, 'o-', color=\"g\", label=\"Cross-validation score\")\n",
    "_ = plt.legend(loc=\"best\")"
   ]
  },
  {
   "cell_type": "markdown",
   "metadata": {},
   "source": [
    "Как можно заметить что после 10 - 15 тысяч сильного именения в качестве модели не наблюдается, этого говорит о том что нет никакой необходимости обучаться на все выборке, для получения результата и успорение процесса достаточно обучиться на ее части."
   ]
  },
  {
   "cell_type": "markdown",
   "metadata": {},
   "source": [
    "#### Важнае признаки"
   ]
  },
  {
   "cell_type": "code",
   "execution_count": 60,
   "metadata": {},
   "outputs": [
    {
     "name": "stdout",
     "output_type": "stream",
     "text": [
      "Top 10 the most important features\n",
      "Var168                  0.059400\n",
      "Var139                  0.050026\n",
      "Var19                   0.048826\n",
      "Var218_cJvF             0.042547\n",
      "Var135                  0.041718\n",
      "Var126                  0.040569\n",
      "Var195_I9xt3GMcxUnBZ    0.039123\n",
      "Var111                  0.037478\n",
      "Var219_FqMWi1g          0.036379\n",
      "Var218_UYBR             0.035159\n",
      "dtype: float64\n",
      "Top 10 the most important features\n"
     ]
    },
    {
     "data": {
      "text/plain": [
       "Var201_6dX3                   0.000108\n",
       "Var229_am7c                   0.000107\n",
       "Var33                         0.000088\n",
       "Var219_kgEg                   0.000086\n",
       "Var229_oJmt                   0.000063\n",
       "Var195_I9xt3Gi01UK7p          0.000049\n",
       "Var207_tMBVJkA0xJMEATvl4ht    0.000032\n",
       "Var195_lSbpiq1                0.000019\n",
       "New_Var191                    0.000018\n",
       "Var118                        0.000000\n",
       "dtype: float64"
      ]
     },
     "execution_count": 60,
     "metadata": {},
     "output_type": "execute_result"
    }
   ],
   "source": [
    "estimator = make_pipeline(StandardScaler(), PassiveAggressiveClassifier(C=0.001, random_state=42)).fit(X, y)\n",
    "\n",
    "sorted_features = pd.Series(abs(estimator.named_steps['passiveaggressiveclassifier'].coef_[0]), index=numeric_cols + cat_cols)\\\n",
    ".sort_values(ascending=False)\n",
    "\n",
    "print('Top 10 the most important features')\n",
    "print(sorted_features.head(10))\n",
    "print()\n",
    "print('Top 10 the lest important features')\n",
    "print(sorted_features.tail(10))"
   ]
  },
  {
   "cell_type": "markdown",
   "metadata": {},
   "source": [
    "К сожалению логическое значение признаков так и осталось за кадром, что несколько усложняет работу по построению модели."
   ]
  },
  {
   "cell_type": "markdown",
   "metadata": {},
   "source": [
    "### 5 Подведите итог вашей работы."
   ]
  },
  {
   "cell_type": "markdown",
   "metadata": {},
   "source": [
    "По результатам проекта было проделано:\n",
    " \n",
    " 1. Проведен первичный анализ данних в процессе которого были выявлены пустые, разряженные признаки и линейно зависимые признаки.\n",
    " 2. Была проведена первичная обработка пропусков, испробованы несколько стратегий обработки категориальных признаков.\n",
    " 3. Были испробованы модели из различных групп (линейные, деревья, методы опорных векторов).\n",
    " 4. Бали применены различные методики улучшения качества обучения, например undersampling, class weights.\n",
    " 5. Были испробованы несколько разных стратегий отбора признаков."
   ]
  },
  {
   "cell_type": "markdown",
   "metadata": {},
   "source": [
    "### P.S."
   ]
  },
  {
   "cell_type": "markdown",
   "metadata": {},
   "source": [
    "Перед внедрением в продакшен неободимо провести серию A/B эксперементов во время которых можно выяснить на сколько сильно можно уменьшить отток пользователей в случае использования модели. Так же во время этих эксперементов необходимо убедиться что те бонусы которые предлагаются пользователям им подходят. Т.к. в случае если модель будет обладать высокой точностью, но предложение не бодут принято пользователями это так же может привести к недостижению основных бизнес целей описаных выше, а в худшем случае к убыткам компании.\n",
    "\n",
    "Второй важный момент который необходимо иметь в виду, это то что ситуация на рынке может измениться и необходим постоянный мониторинг того что модель все еще актуальна. Сделать это можно достаточно простым способом, просто отслеживая текущее состояние оттока и в случае если он значительно возрастет протестировать модель на актуальность и при необходимости изменить ее."
   ]
  }
 ],
 "metadata": {
  "kernelspec": {
   "display_name": "Python 3",
   "language": "python",
   "name": "python3"
  },
  "language_info": {
   "codemirror_mode": {
    "name": "ipython",
    "version": 3
   },
   "file_extension": ".py",
   "mimetype": "text/x-python",
   "name": "python",
   "nbconvert_exporter": "python",
   "pygments_lexer": "ipython3",
   "version": "3.6.0"
  }
 },
 "nbformat": 4,
 "nbformat_minor": 2
}
