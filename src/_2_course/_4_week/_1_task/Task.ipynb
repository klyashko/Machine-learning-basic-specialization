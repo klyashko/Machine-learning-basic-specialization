{
 "cells": [
  {
   "cell_type": "code",
   "execution_count": 1,
   "metadata": {
    "collapsed": false
   },
   "outputs": [],
   "source": [
    "from sklearn.datasets import load_digits\n",
    "from sklearn.model_selection import cross_val_score\n",
    "from sklearn.tree import DecisionTreeClassifier\n",
    "import sys\n",
    "\n",
    "sys.path.append('.\\\\..\\\\..\\\\..\\\\..')\n",
    "\n",
    "from src.utils.Utils import save_answer"
   ]
  },
  {
   "cell_type": "code",
   "execution_count": 4,
   "metadata": {
    "collapsed": false
   },
   "outputs": [
    {
     "data": {
      "text/plain": [
       "dict_keys(['data', 'target', 'target_names', 'images', 'DESCR'])"
      ]
     },
     "execution_count": 4,
     "metadata": {},
     "output_type": "execute_result"
    }
   ],
   "source": [
    "data = load_digits()\n",
    "# cv=10\n",
    "# k=10\n",
    "data.keys()"
   ]
  },
  {
   "cell_type": "code",
   "execution_count": 5,
   "metadata": {
    "collapsed": false
   },
   "outputs": [
    {
     "name": "stdout",
     "output_type": "stream",
     "text": [
      "[[  0.   0.   5. ...,   0.   0.   0.]\n",
      " [  0.   0.   0. ...,  10.   0.   0.]\n",
      " [  0.   0.   0. ...,  16.   9.   0.]\n",
      " ..., \n",
      " [  0.   0.   1. ...,   6.   0.   0.]\n",
      " [  0.   0.   2. ...,  12.   0.   0.]\n",
      " [  0.   0.  10. ...,  12.   1.   0.]]\n"
     ]
    }
   ],
   "source": [
    "X = data['data']\n",
    "y = data['target']"
   ]
  },
  {
   "cell_type": "code",
   "execution_count": 9,
   "metadata": {
    "collapsed": false
   },
   "outputs": [
    {
     "name": "stdout",
     "output_type": "stream",
     "text": [
      "\n",
      "Task №1 answer 0.820829474728\n",
      "\n"
     ]
    }
   ],
   "source": [
    "clf = DecisionTreeClassifier()\n",
    "score = cross_val_score(clf, X, y, cv=10).mean()\n",
    "\n",
    "save_answer(1, score)"
   ]
  },
  {
   "cell_type": "code",
   "execution_count": 11,
   "metadata": {
    "collapsed": false
   },
   "outputs": [
    {
     "name": "stdout",
     "output_type": "stream",
     "text": [
      "\n",
      "Task №2 answer 0.926088073788\n",
      "\n"
     ]
    }
   ],
   "source": [
    "from sklearn.ensemble import BaggingClassifier\n",
    "\n",
    "classifier = DecisionTreeClassifier()\n",
    "clf = BaggingClassifier(classifier, n_estimators=100)\n",
    "\n",
    "score = cross_val_score(clf, X, y, cv=10).mean()\n",
    "\n",
    "save_answer(2, score)"
   ]
  },
  {
   "cell_type": "code",
   "execution_count": 20,
   "metadata": {
    "collapsed": false
   },
   "outputs": [
    {
     "name": "stdout",
     "output_type": "stream",
     "text": [
      "64\n",
      "8.0\n",
      "0.125\n",
      "(1797, 64)\n",
      "12.5\n"
     ]
    }
   ],
   "source": [
    "import numpy as np\n",
    "\n",
    "print(X.shape[1])\n",
    "print(np.sqrt(X.shape[1]))\n",
    "print(np.sqrt(X.shape[1]) / X.shape[1])\n",
    "\n",
    "print(X.shape)\n",
    "\n",
    "print(np.sqrt(X.shape[1]) / (X.shape[1] / 100))"
   ]
  },
  {
   "cell_type": "code",
   "execution_count": 23,
   "metadata": {
    "collapsed": false
   },
   "outputs": [
    {
     "name": "stdout",
     "output_type": "stream",
     "text": [
      "\n",
      "Task №3 answer 0.935431689721\n",
      "\n"
     ]
    }
   ],
   "source": [
    "import numpy as np\n",
    "\n",
    "classifier = DecisionTreeClassifier()\n",
    "clf = BaggingClassifier(classifier, n_estimators=100, max_features=np.sqrt(X.shape[1]) / X.shape[1])\n",
    "\n",
    "score = cross_val_score(clf, X, y, cv=10).mean()\n",
    "\n",
    "save_answer(3, score)"
   ]
  },
  {
   "cell_type": "code",
   "execution_count": 24,
   "metadata": {
    "collapsed": false
   },
   "outputs": [
    {
     "name": "stdout",
     "output_type": "stream",
     "text": [
      "\n",
      "Task №4 answer 0.948887590987\n",
      "\n"
     ]
    }
   ],
   "source": [
    "classifier = DecisionTreeClassifier(max_features='sqrt')\n",
    "clf = BaggingClassifier(classifier, n_estimators=100)\n",
    "\n",
    "score = cross_val_score(clf, X, y, cv=10).mean()\n",
    "\n",
    "save_answer(4, score)"
   ]
  },
  {
   "cell_type": "code",
   "execution_count": 63,
   "metadata": {
    "collapsed": false
   },
   "outputs": [
    {
     "data": {
      "image/png": "[encoded data removed]",
      "text/plain": [
       "<matplotlib.figure.Figure at 0x200d897deb8>"
      ]
     },
     "metadata": {},
     "output_type": "display_data"
    },
    {
     "data": {
      "image/png": "[encoded data removed]",
      "text/plain": [
       "<matplotlib.figure.Figure at 0x200d85f3e80>"
      ]
     },
     "metadata": {},
     "output_type": "display_data"
    },
    {
     "data": {
      "image/png": "[encoded data removed]",
      "text/plain": [
       "<matplotlib.figure.Figure at 0x200d41920f0>"
      ]
     },
     "metadata": {},
     "output_type": "display_data"
    },
    {
     "name": "stdout",
     "output_type": "stream",
     "text": [
      "\n",
      "Task №5 answer [2, 3, 4, 7]\n",
      "\n",
      "0.91544923352\n"
     ]
    }
   ],
   "source": [
    "from sklearn.ensemble import RandomForestClassifier\n",
    "from sklearn.grid_search import GridSearchCV\n",
    "import matplotlib.pyplot as plt\n",
    "\n",
    "parameters_grid = {\n",
    "    'max_features' : [0.1, 0.25, 0.5, 0.75, 1]\n",
    "}\n",
    "\n",
    "clf = RandomForestClassifier()\n",
    "\n",
    "grid = GridSearchCV(clf, parameters_grid)\n",
    "grid.fit(X, y)\n",
    "\n",
    "means = [gs[1] for gs in grid.grid_scores_]\n",
    "max_features = [gs[0]['max_features'] for gs in grid.grid_scores_]\n",
    "\n",
    "plt.plot(means, max_features)\n",
    "plt.xlabel('means')\n",
    "plt.ylabel('max features')\n",
    "plt.show()\n",
    "\n",
    "\n",
    "parameters_grid = {\n",
    "    'n_estimators' : [10, 20, 30, 50, 100, 250]\n",
    "}\n",
    "\n",
    "clf = RandomForestClassifier()\n",
    "\n",
    "grid = GridSearchCV(clf, parameters_grid)\n",
    "grid.fit(X, y)\n",
    "\n",
    "means = [gs[1] for gs in grid.grid_scores_]\n",
    "n_estimators = [gs[0]['n_estimators'] for gs in grid.grid_scores_]\n",
    "\n",
    "plt.plot(means, n_estimators)\n",
    "plt.xlabel('means')\n",
    "plt.ylabel('n estimators')\n",
    "plt.show()\n",
    "\n",
    "parameters_grid = {\n",
    "    'max_depth' : [2, 5, 10, 20]\n",
    "}\n",
    "\n",
    "clf = RandomForestClassifier()\n",
    "\n",
    "grid = GridSearchCV(clf, parameters_grid)\n",
    "grid.fit(X, y)\n",
    "\n",
    "means = [gs[1] for gs in grid.grid_scores_]\n",
    "max_depth = [gs[0]['max_depth'] for gs in grid.grid_scores_]\n",
    "\n",
    "plt.plot(means, max_depth)\n",
    "plt.xlabel('means')\n",
    "plt.ylabel('max depth')\n",
    "plt.show()\n",
    "\n",
    "save_answer(5, [2, 3, 4, 7], space=True)\n",
    "\n",
    "clf = RandomForestClassifier()\n",
    "score = cross_val_score(clf, X, y, cv=10).mean()\n",
    "\n",
    "print(score)"
   ]
  },
  {
   "cell_type": "code",
   "execution_count": null,
   "metadata": {
    "collapsed": true
   },
   "outputs": [],
   "source": []
  }
 ],
 "metadata": {
  "kernelspec": {
   "display_name": "Python 3",
   "language": "python",
   "name": "python3"
  },
  "language_info": {
   "codemirror_mode": {
    "name": "ipython",
    "version": 3
   },
   "file_extension": ".py",
   "mimetype": "text/x-python",
   "name": "python",
   "nbconvert_exporter": "python",
   "pygments_lexer": "ipython3",
   "version": "3.6.0"
  }
 },
 "nbformat": 4,
 "nbformat_minor": 2
}
