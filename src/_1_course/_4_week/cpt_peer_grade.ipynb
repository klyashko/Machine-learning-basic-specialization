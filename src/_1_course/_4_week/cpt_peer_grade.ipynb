{
 "cells": [
  {
   "cell_type": "markdown",
   "metadata": {},
   "source": [
    "# Распределение Парето\n",
    "[wiki-link](https://ru.wikipedia.org/wiki/%D0%A0%D0%B0%D1%81%D0%BF%D1%80%D0%B5%D0%B4%D0%B5%D0%BB%D0%B5%D0%BD%D0%B8%D0%B5_%D0%9F%D0%B0%D1%80%D0%B5%D1%82%D0%BE)"
   ]
  },
  {
   "cell_type": "code",
   "execution_count": 1,
   "metadata": {
    "collapsed": true
   },
   "outputs": [],
   "source": [
    "import numpy as np\n",
    "import matplotlib.pyplot as plt\n",
    "import scipy.stats as sts\n",
    "import math as math\n",
    "%matplotlib inline"
   ]
  },
  {
   "cell_type": "markdown",
   "metadata": {},
   "source": [
    "создаем распределене Парето с параметрами К=6 Хm=1"
   ]
  },
  {
   "cell_type": "code",
   "execution_count": 2,
   "metadata": {
    "collapsed": true
   },
   "outputs": [],
   "source": [
    "K = 6.\n",
    "Xm = 1.\n",
    "par = sts.pareto(K,scale=Xm)"
   ]
  },
  {
   "cell_type": "code",
   "execution_count": 3,
   "metadata": {
    "collapsed": false
   },
   "outputs": [
    {
     "data": {
      "text/plain": [
       "(1.0000361801566726, 3.5438794942973124, 1000)"
      ]
     },
     "execution_count": 3,
     "metadata": {},
     "output_type": "execute_result"
    }
   ],
   "source": [
    "sample_1000 = par.rvs(1000)\n",
    "min(sample_1000), max(sample_1000), len(sample_1000)"
   ]
  },
  {
   "cell_type": "code",
   "execution_count": 4,
   "metadata": {
    "collapsed": false,
    "scrolled": true
   },
   "outputs": [
    {
     "name": "stdout",
     "output_type": "stream",
     "text": [
      "Гистограмма выборки и теоретическая плотность вероятности распределения\n"
     ]
    },
    {
     "data": {
      "text/plain": [
       "<matplotlib.legend.Legend at 0x115f4ef90>"
      ]
     },
     "execution_count": 4,
     "metadata": {},
     "output_type": "execute_result"
    },
    {
     "data": {
      "image/png": "[encoded data removed]",
      "text/plain": [
       "<matplotlib.figure.Figure at 0x103d06d50>"
      ]
     },
     "metadata": {},
     "output_type": "display_data"
    }
   ],
   "source": [
    "print(\"Гистограмма выборки и теоретическая плотность вероятности распределения\")\n",
    "x = np.linspace(1,3,1000)\n",
    "pdf = par.pdf(x)\n",
    "plt.plot(x, pdf, lw=5, label='theor probability density')\n",
    "plt.hist(sample_1000, bins=20, normed=True)\n",
    "plt.xlabel('$x$')\n",
    "plt.ylabel('$f(x)$')\n",
    "plt.legend(loc='best')"
   ]
  },
  {
   "cell_type": "markdown",
   "metadata": {},
   "source": [
    "### среднее и дисперсия исходного распределения (из википедии)\n",
    " $$EX = (K * Xm)/(K-1)$$\n",
    " $$DX = ((Xm)/(k-1))^2*(k/(k-2))$$"
   ]
  },
  {
   "cell_type": "code",
   "execution_count": 5,
   "metadata": {
    "collapsed": false
   },
   "outputs": [
    {
     "name": "stdout",
     "output_type": "stream",
     "text": [
      "('EX: ', 1.2, ' DX: ', 0.06000000000000001)\n"
     ]
    }
   ],
   "source": [
    "EX = (K*Xm)/(K-1)\n",
    "DX = ((Xm)/(K-1))*((Xm)/(K-1))*(K/(K-2))\n",
    "print(\"EX: \", EX, \" DX: \", DX)"
   ]
  },
  {
   "cell_type": "markdown",
   "metadata": {},
   "source": [
    "Генерируем по 1000 выборок длиной 5, 10, 50 элементов"
   ]
  },
  {
   "cell_type": "code",
   "execution_count": 6,
   "metadata": {
    "collapsed": false
   },
   "outputs": [],
   "source": [
    "samples_5 = []\n",
    "samples_10 = []\n",
    "samples_50 = []\n",
    "for i in range(0,1001):\n",
    "    samples_5.append(par.rvs(5))\n",
    "    samples_10.append(par.rvs(10))\n",
    "    samples_50.append(par.rvs(50))"
   ]
  },
  {
   "cell_type": "markdown",
   "metadata": {},
   "source": [
    "Считаем среднее выборочное для сгенерированных выборок"
   ]
  },
  {
   "cell_type": "code",
   "execution_count": 7,
   "metadata": {
    "collapsed": false
   },
   "outputs": [],
   "source": [
    "mean_5 = []\n",
    "mean_10 = []\n",
    "mean_50 = []\n",
    "for i in range(0, 1001):\n",
    "    mean_5.append(np.mean(samples_5[i]))\n",
    "    mean_10.append(np.mean(samples_10[i]))\n",
    "    mean_50.append(np.mean(samples_50[i]))"
   ]
  },
  {
   "cell_type": "markdown",
   "metadata": {},
   "source": [
    "Строим гистограммы для средних при разной длине выборки"
   ]
  },
  {
   "cell_type": "code",
   "execution_count": 8,
   "metadata": {
    "collapsed": false
   },
   "outputs": [
    {
     "data": {
      "text/plain": [
       "<matplotlib.legend.Legend at 0x115e7d790>"
      ]
     },
     "execution_count": 8,
     "metadata": {},
     "output_type": "execute_result"
    },
    {
     "data": {
      "image/png": "[encoded data removed]",
      "text/plain": [
       "<matplotlib.figure.Figure at 0x118b52c50>"
      ]
     },
     "metadata": {},
     "output_type": "display_data"
    }
   ],
   "source": [
    "plt.hist(mean_5, bins=20, normed=True, label=\"Gist N=5\")\n",
    "plt.xlabel('$MEAN(Xn) N=5$')\n",
    "plt.ylabel('$fraction of samples$')\n",
    "plt.legend(loc='best')"
   ]
  },
  {
   "cell_type": "code",
   "execution_count": 9,
   "metadata": {
    "collapsed": false
   },
   "outputs": [
    {
     "data": {
      "text/plain": [
       "<matplotlib.legend.Legend at 0x119619f50>"
      ]
     },
     "execution_count": 9,
     "metadata": {},
     "output_type": "execute_result"
    },
    {
     "data": {
      "image/png": "[encoded data removed]",
      "text/plain": [
       "<matplotlib.figure.Figure at 0x115e7d190>"
      ]
     },
     "metadata": {},
     "output_type": "display_data"
    }
   ],
   "source": [
    "plt.hist(mean_10, bins=20, normed=True, label=\"Gist N=10\")\n",
    "plt.xlabel('$MEAN(Xn) N=10$')\n",
    "plt.ylabel('$fraction of samples$')\n",
    "plt.legend(loc='best')"
   ]
  },
  {
   "cell_type": "code",
   "execution_count": 10,
   "metadata": {
    "collapsed": false
   },
   "outputs": [
    {
     "data": {
      "text/plain": [
       "<matplotlib.legend.Legend at 0x11975cf10>"
      ]
     },
     "execution_count": 10,
     "metadata": {},
     "output_type": "execute_result"
    },
    {
     "data": {
      "image/png": "[encoded data removed]",
      "text/plain": [
       "<matplotlib.figure.Figure at 0x115e7d490>"
      ]
     },
     "metadata": {},
     "output_type": "display_data"
    }
   ],
   "source": [
    "plt.hist(mean_50, bins=20, normed=True, label=\"Gist N=50\")\n",
    "plt.xlabel('$MEAN(Xn) N=50$')\n",
    "plt.ylabel('$fraction of samples$')\n",
    "plt.legend(loc='best')"
   ]
  },
  {
   "cell_type": "markdown",
   "metadata": {},
   "source": [
    "Вычислим параметры нормального распределения которое апроксимирует выборочное среднее. Согласно ЦПТ\n",
    "$$Xn=~N(EX, DX/n)$$\n",
    "ЕХ берем из расчитанного по теории, DX расчитываем в зависимости от длины выборки."
   ]
  },
  {
   "cell_type": "code",
   "execution_count": 11,
   "metadata": {
    "collapsed": false
   },
   "outputs": [
    {
     "name": "stdout",
     "output_type": "stream",
     "text": [
      "('DX(N=5):', 0.012000000000000002, 'DX(N=10):', 0.006000000000000001, 'DX(N=50):', 0.0012000000000000003)\n"
     ]
    }
   ],
   "source": [
    "DX_5 = DX/5\n",
    "DX_10 = DX/10\n",
    "DX_50 = DX/50\n",
    "print(\"DX(N=5):\", DX_5, \"DX(N=10):\", DX_10, \"DX(N=50):\", DX_50)"
   ]
  },
  {
   "cell_type": "code",
   "execution_count": 12,
   "metadata": {
    "collapsed": true
   },
   "outputs": [],
   "source": [
    "x = np.linspace(0,2,1000)"
   ]
  },
  {
   "cell_type": "markdown",
   "metadata": {},
   "source": [
    "Строим гистограмму выборочного среднего и апроксимирующее нормальное распределение с параметрами EX, sqrt(DX/N) для N=5"
   ]
  },
  {
   "cell_type": "code",
   "execution_count": 13,
   "metadata": {
    "collapsed": false
   },
   "outputs": [
    {
     "data": {
      "text/plain": [
       "<matplotlib.legend.Legend at 0x119d0ef10>"
      ]
     },
     "execution_count": 13,
     "metadata": {},
     "output_type": "execute_result"
    },
    {
     "data": {
      "image/png": "[encoded data removed]",
      "text/plain": [
       "<matplotlib.figure.Figure at 0x119860c50>"
      ]
     },
     "metadata": {},
     "output_type": "display_data"
    }
   ],
   "source": [
    "norm = sts.norm(loc=EX, scale=math.sqrt(DX_5))\n",
    "pdf = norm.pdf(x)\n",
    "plt.hist(mean_5, bins=20, normed=True, label=\"Gist N=5\")\n",
    "plt.xlabel('$MEAN(Xn) N=5$')\n",
    "plt.ylabel('$f(x)$')\n",
    "plt.plot(x, pdf, lw=5,label=\"Norm\")\n",
    "plt.legend(loc=\"upper right\")"
   ]
  },
  {
   "cell_type": "markdown",
   "metadata": {},
   "source": [
    "Строим гистограмму выборочного среднего и апроксимирующее нормальное распределение с параметрами EX, sqrt(DX/N) для N=10"
   ]
  },
  {
   "cell_type": "code",
   "execution_count": 14,
   "metadata": {
    "collapsed": false
   },
   "outputs": [
    {
     "data": {
      "text/plain": [
       "<matplotlib.legend.Legend at 0x119ec2cd0>"
      ]
     },
     "execution_count": 14,
     "metadata": {},
     "output_type": "execute_result"
    },
    {
     "data": {
      "image/png": "[encoded data removed]",
      "text/plain": [
       "<matplotlib.figure.Figure at 0x115e7d250>"
      ]
     },
     "metadata": {},
     "output_type": "display_data"
    }
   ],
   "source": [
    "norm = sts.norm(loc=np.mean(mean_10), scale=math.sqrt(DX_10))\n",
    "pdf = norm.pdf(x)\n",
    "plt.hist(mean_10, bins=20, normed=True, label=\"Gist N=10\")\n",
    "plt.xlabel('$MEAN(Xn) N=5$')\n",
    "plt.ylabel('$f(x)$')\n",
    "plt.plot(x, pdf, lw=5,label=\"Norm\")\n",
    "plt.legend(loc=\"upper right\")"
   ]
  },
  {
   "cell_type": "markdown",
   "metadata": {},
   "source": [
    "Строим гистограмму выборочного среднего и апроксимирующее нормальное распределение с параметрами EX, sqrt(DX/N) для N=50"
   ]
  },
  {
   "cell_type": "code",
   "execution_count": 15,
   "metadata": {
    "collapsed": false
   },
   "outputs": [
    {
     "data": {
      "text/plain": [
       "<matplotlib.legend.Legend at 0x11a056750>"
      ]
     },
     "execution_count": 15,
     "metadata": {},
     "output_type": "execute_result"
    },
    {
     "data": {
      "image/png": "[encoded data removed]",
      "text/plain": [
       "<matplotlib.figure.Figure at 0x119698c50>"
      ]
     },
     "metadata": {},
     "output_type": "display_data"
    }
   ],
   "source": [
    "norm = sts.norm(loc=np.mean(mean_50), scale=math.sqrt(DX_50))\n",
    "pdf = norm.pdf(x)\n",
    "plt.hist(mean_50, bins=20, normed=True, label=\"Gist N=50\")\n",
    "plt.xlabel('$MEAN(Xn) N=50$')\n",
    "plt.ylabel('$f(x)$')\n",
    "plt.plot(x, pdf,lw=3, label=\"Norm\")\n",
    "plt.legend(loc=\"upper right\")"
   ]
  },
  {
   "cell_type": "markdown",
   "metadata": {},
   "source": [
    "### Итог:"
   ]
  },
  {
   "cell_type": "markdown",
   "metadata": {},
   "source": [
    "При длине выборки равной 5 распределение выборочного среднего имеет выраженный асимметричный характер что плохо согласуется с нормальным распределением, так же для N=5 экспериментальное среднее расходится с средним в нормальном распределении вычисленным согласно ЦПТ. При N=10 асимметричность распределения выборочного среднего уменьшается но еще наблюдается. При N=50 распределение выборочного среднего хорошо согласуется с нормальным распределением согласно ЦПТ, таким образом можно утверждать что, длины выборки N=50 достаточно для получения хороших результатов апроксимации используя ЦПТ."
   ]
  },
  {
   "cell_type": "code",
   "execution_count": null,
   "metadata": {
    "collapsed": true
   },
   "outputs": [],
   "source": [
    ""
   ]
  }
 ],
 "metadata": {
  "kernelspec": {
   "display_name": "Python 2",
   "language": "python",
   "name": "python2"
  },
  "language_info": {
   "codemirror_mode": {
    "name": "ipython",
    "version": 2.0
   },
   "file_extension": ".py",
   "mimetype": "text/x-python",
   "name": "python",
   "nbconvert_exporter": "python",
   "pygments_lexer": "ipython2",
   "version": "2.7.11"
  }
 },
 "nbformat": 4,
 "nbformat_minor": 0
}