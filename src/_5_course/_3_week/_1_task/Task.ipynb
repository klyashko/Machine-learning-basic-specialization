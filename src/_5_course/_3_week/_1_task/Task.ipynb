{
 "cells": [
  {
   "cell_type": "code",
   "execution_count": 26,
   "metadata": {
    "collapsed": false
   },
   "outputs": [],
   "source": [
    "import sys\n",
    "\n",
    "import pandas as pd\n",
    "import numpy as np\n",
    "\n",
    "from sklearn.feature_extraction.text import CountVectorizer, TfidfVectorizer \n",
    "from sklearn.linear_model import LogisticRegression\n",
    "from sklearn.cross_validation import cross_val_score\n",
    "from sklearn.naive_bayes import MultinomialNB\n",
    "\n",
    "sys.path.append('.\\\\..\\\\..\\\\..\\\\..')\n",
    "\n",
    "from src.utils.Utils import save_answer"
   ]
  },
  {
   "cell_type": "code",
   "execution_count": 10,
   "metadata": {
    "collapsed": false
   },
   "outputs": [
    {
     "name": "stdout",
     "output_type": "stream",
     "text": [
      "(5572, 2)\n"
     ]
    },
    {
     "data": {
      "text/html": [
       "<div>\n",
       "<style>\n",
       "    .dataframe thead tr:only-child th {\n",
       "        text-align: right;\n",
       "    }\n",
       "\n",
       "    .dataframe thead th {\n",
       "        text-align: left;\n",
       "    }\n",
       "\n",
       "    .dataframe tbody tr th {\n",
       "        vertical-align: top;\n",
       "    }\n",
       "</style>\n",
       "<table border=\"1\" class=\"dataframe\">\n",
       "  <thead>\n",
       "    <tr style=\"text-align: right;\">\n",
       "      <th></th>\n",
       "      <th>class</th>\n",
       "      <th>text</th>\n",
       "    </tr>\n",
       "  </thead>\n",
       "  <tbody>\n",
       "    <tr>\n",
       "      <th>0</th>\n",
       "      <td>ham</td>\n",
       "      <td>Go until jurong point, crazy.. Available only ...</td>\n",
       "    </tr>\n",
       "    <tr>\n",
       "      <th>1</th>\n",
       "      <td>ham</td>\n",
       "      <td>Ok lar... Joking wif u oni...</td>\n",
       "    </tr>\n",
       "    <tr>\n",
       "      <th>2</th>\n",
       "      <td>spam</td>\n",
       "      <td>Free entry in 2 a wkly comp to win FA Cup fina...</td>\n",
       "    </tr>\n",
       "    <tr>\n",
       "      <th>3</th>\n",
       "      <td>ham</td>\n",
       "      <td>U dun say so early hor... U c already then say...</td>\n",
       "    </tr>\n",
       "    <tr>\n",
       "      <th>4</th>\n",
       "      <td>ham</td>\n",
       "      <td>Nah I don't think he goes to usf, he lives aro...</td>\n",
       "    </tr>\n",
       "  </tbody>\n",
       "</table>\n",
       "</div>"
      ],
      "text/plain": [
       "  class                                               text\n",
       "0   ham  Go until jurong point, crazy.. Available only ...\n",
       "1   ham                      Ok lar... Joking wif u oni...\n",
       "2  spam  Free entry in 2 a wkly comp to win FA Cup fina...\n",
       "3   ham  U dun say so early hor... U c already then say...\n",
       "4   ham  Nah I don't think he goes to usf, he lives aro..."
      ]
     },
     "execution_count": 10,
     "metadata": {},
     "output_type": "execute_result"
    }
   ],
   "source": [
    "data = pd.read_csv('data/SMSSpamCollection.txt', delimiter='\\t', index_col=None, header=None)\n",
    "data.columns = ['class', 'text']\n",
    "print(data.shape)\n",
    "data.head()"
   ]
  },
  {
   "cell_type": "code",
   "execution_count": 11,
   "metadata": {
    "collapsed": false
   },
   "outputs": [],
   "source": [
    "texts = data.text.values\n",
    "classes = [1 if c == 'spam' else 0 for c in data['class'].values]"
   ]
  },
  {
   "cell_type": "code",
   "execution_count": 12,
   "metadata": {
    "collapsed": true
   },
   "outputs": [],
   "source": [
    "v = CountVectorizer()\n",
    "mx = v.fit_transform(texts)"
   ]
  },
  {
   "cell_type": "code",
   "execution_count": 22,
   "metadata": {
    "collapsed": false
   },
   "outputs": [
    {
     "name": "stdout",
     "output_type": "stream",
     "text": [
      "\n",
      "Task №1 answer 0.9\n",
      "\n"
     ]
    }
   ],
   "source": [
    "clf = LogisticRegression(random_state=2)\n",
    "an1 = cross_val_score(clf, mx, classes, cv=10, scoring='f1').mean()\n",
    "\n",
    "save_answer(1, round(an1, 1), space=True)"
   ]
  },
  {
   "cell_type": "code",
   "execution_count": 31,
   "metadata": {
    "collapsed": false
   },
   "outputs": [
    {
     "data": {
      "text/plain": [
       "LogisticRegression(C=1.0, class_weight=None, dual=False, fit_intercept=True,\n",
       "          intercept_scaling=1, max_iter=100, multi_class='ovr', n_jobs=1,\n",
       "          penalty='l2', random_state=2, solver='liblinear', tol=0.0001,\n",
       "          verbose=0, warm_start=False)"
      ]
     },
     "execution_count": 31,
     "metadata": {},
     "output_type": "execute_result"
    }
   ],
   "source": [
    "clf = LogisticRegression(random_state=2)\n",
    "clf.fit(mx, classes)"
   ]
  },
  {
   "cell_type": "code",
   "execution_count": 32,
   "metadata": {
    "collapsed": false
   },
   "outputs": [
    {
     "name": "stdout",
     "output_type": "stream",
     "text": [
      "\n",
      "Task №2 answer [1 1 0 0 0]\n",
      "\n"
     ]
    }
   ],
   "source": [
    "temp = [\"FreeMsg: Txt: CALL to No: 86888 & claim your reward of 3 hours talk time to use from your phone now! Subscribe6GB\",\n",
    "\"FreeMsg: Txt: claim your reward of 3 hours talk time\",\n",
    "\"Have you visited the last lecture on physics?\",\n",
    "\"Have you visited the last lecture on physics? Just buy this book and you will have all materials! Only 99$\",\n",
    "\"Only 99$\"]\n",
    "\n",
    "tmx = v.transform(temp)\n",
    "ans2 = clf.predict(tmx)\n",
    "\n",
    "save_answer(2, ans2, space=True)"
   ]
  },
  {
   "cell_type": "code",
   "execution_count": 23,
   "metadata": {
    "collapsed": false
   },
   "outputs": [
    {
     "name": "stdout",
     "output_type": "stream",
     "text": [
      "\n",
      "Task №3 answer [0.81999999999999995, 0.72999999999999998, 0.93000000000000005]\n",
      "\n"
     ]
    }
   ],
   "source": [
    "ans3 = []\n",
    "\n",
    "for nr in [(2,2), (3,3), (1,3)]:\n",
    "    v = CountVectorizer(ngram_range=nr)\n",
    "    mx = v.fit_transform(texts)\n",
    "    \n",
    "    clf = LogisticRegression(random_state=2)\n",
    "    ans3.append(round(cross_val_score(clf, mx, classes, cv=10, scoring='f1').mean(), 2))\n",
    "    \n",
    "save_answer(3, ans3, space=True)"
   ]
  },
  {
   "cell_type": "code",
   "execution_count": 25,
   "metadata": {
    "collapsed": false
   },
   "outputs": [
    {
     "name": "stdout",
     "output_type": "stream",
     "text": [
      "\n",
      "Task №4 answer [0.65000000000000002, 0.38, 0.89000000000000001]\n",
      "\n"
     ]
    }
   ],
   "source": [
    "ans4 = []\n",
    "\n",
    "for nr in [(2,2), (3,3), (1,3)]:\n",
    "    v = CountVectorizer(ngram_range=nr)\n",
    "    mx = v.fit_transform(texts)\n",
    "    \n",
    "    clf = MultinomialNB()\n",
    "    ans4.append(round(cross_val_score(clf, mx, classes, cv=10, scoring='f1').mean(), 2))\n",
    "    \n",
    "save_answer(4, ans4, space=True)"
   ]
  },
  {
   "cell_type": "code",
   "execution_count": 29,
   "metadata": {
    "collapsed": false
   },
   "outputs": [
    {
     "name": "stdout",
     "output_type": "stream",
     "text": [
      "[ 0.87407407  0.84210526  0.83076923  0.88888889  0.85496183  0.84615385\n",
      "  0.82170543  0.8372093   0.8372093   0.89552239]\n",
      "0.852859955417\n",
      "\n",
      "Task №5 answer -1\n",
      "\n"
     ]
    }
   ],
   "source": [
    "v = TfidfVectorizer(ngram_range=(1,1))\n",
    "mx = v.fit_transform(texts)\n",
    "\n",
    "clf = LogisticRegression(random_state=2)\n",
    "temp = cross_val_score(clf, mx, classes, cv=10, scoring='f1')\n",
    "\n",
    "print(temp)\n",
    "print(temp.mean())\n",
    "\n",
    "save_answer(5, -1)"
   ]
  }
 ],
 "metadata": {
  "kernelspec": {
   "display_name": "Python 3",
   "language": "python",
   "name": "python3"
  },
  "language_info": {
   "codemirror_mode": {
    "name": "ipython",
    "version": 3
   },
   "file_extension": ".py",
   "mimetype": "text/x-python",
   "name": "python",
   "nbconvert_exporter": "python",
   "pygments_lexer": "ipython3",
   "version": "3.6.0"
  }
 },
 "nbformat": 4,
 "nbformat_minor": 0
}
