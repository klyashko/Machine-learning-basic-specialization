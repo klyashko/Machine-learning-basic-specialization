{
 "cells": [
  {
   "cell_type": "code",
   "execution_count": 1,
   "metadata": {
    "collapsed": true
   },
   "outputs": [],
   "source": [
    "import sys\n",
    "\n",
    "import pandas as pd\n",
    "import numpy as np \n",
    "\n",
    "sys.path.append('.\\\\..\\\\..\\\\..\\\\..')\n",
    "\n",
    "from src.utils.Utils import save_answer"
   ]
  },
  {
   "cell_type": "code",
   "execution_count": 2,
   "metadata": {
    "collapsed": false
   },
   "outputs": [
    {
     "name": "stdout",
     "output_type": "stream",
     "text": [
      "(50000, 2)\n",
      "(3665, 2)\n"
     ]
    },
    {
     "data": {
      "text/html": [
       "<div>\n",
       "<style>\n",
       "    .dataframe thead tr:only-child th {\n",
       "        text-align: right;\n",
       "    }\n",
       "\n",
       "    .dataframe thead th {\n",
       "        text-align: left;\n",
       "    }\n",
       "\n",
       "    .dataframe tbody tr th {\n",
       "        vertical-align: top;\n",
       "    }\n",
       "</style>\n",
       "<table border=\"1\" class=\"dataframe\">\n",
       "  <thead>\n",
       "    <tr style=\"text-align: right;\">\n",
       "      <th></th>\n",
       "      <th>recommended</th>\n",
       "      <th>bought</th>\n",
       "    </tr>\n",
       "  </thead>\n",
       "  <tbody>\n",
       "    <tr>\n",
       "      <th>7</th>\n",
       "      <td>63,68,69,70,66,61,59,61,66,68</td>\n",
       "      <td>66,63</td>\n",
       "    </tr>\n",
       "    <tr>\n",
       "      <th>14</th>\n",
       "      <td>158,159,160,159,161,162</td>\n",
       "      <td>162</td>\n",
       "    </tr>\n",
       "    <tr>\n",
       "      <th>19</th>\n",
       "      <td>200,201,202,203,204</td>\n",
       "      <td>201,205</td>\n",
       "    </tr>\n",
       "    <tr>\n",
       "      <th>34</th>\n",
       "      <td>371,372,371</td>\n",
       "      <td>371,373</td>\n",
       "    </tr>\n",
       "    <tr>\n",
       "      <th>40</th>\n",
       "      <td>422</td>\n",
       "      <td>422</td>\n",
       "    </tr>\n",
       "  </tbody>\n",
       "</table>\n",
       "</div>"
      ],
      "text/plain": [
       "                      recommended   bought\n",
       "7   63,68,69,70,66,61,59,61,66,68    66,63\n",
       "14        158,159,160,159,161,162      162\n",
       "19            200,201,202,203,204  201,205\n",
       "34                    371,372,371  371,373\n",
       "40                            422      422"
      ]
     },
     "execution_count": 2,
     "metadata": {},
     "output_type": "execute_result"
    }
   ],
   "source": [
    "test_data = pd.read_csv('data/coursera_sessions_test.txt', delimiter=';', header=None)\n",
    "test_data.columns = ['recommended', 'bought']\n",
    "print(test_data.shape)\n",
    "print(test_data.dropna().shape)\n",
    "test_data.dropna().head()"
   ]
  },
  {
   "cell_type": "code",
   "execution_count": 3,
   "metadata": {
    "collapsed": false
   },
   "outputs": [
    {
     "name": "stdout",
     "output_type": "stream",
     "text": [
      "(50000, 2)\n",
      "(3608, 2)\n"
     ]
    },
    {
     "data": {
      "text/html": [
       "<div>\n",
       "<style>\n",
       "    .dataframe thead tr:only-child th {\n",
       "        text-align: right;\n",
       "    }\n",
       "\n",
       "    .dataframe thead th {\n",
       "        text-align: left;\n",
       "    }\n",
       "\n",
       "    .dataframe tbody tr th {\n",
       "        vertical-align: top;\n",
       "    }\n",
       "</style>\n",
       "<table border=\"1\" class=\"dataframe\">\n",
       "  <thead>\n",
       "    <tr style=\"text-align: right;\">\n",
       "      <th></th>\n",
       "      <th>recommended</th>\n",
       "      <th>bought</th>\n",
       "    </tr>\n",
       "  </thead>\n",
       "  <tbody>\n",
       "    <tr>\n",
       "      <th>7</th>\n",
       "      <td>59,60,61,62,60,63,64,65,66,61,67,68,67</td>\n",
       "      <td>67,60,63</td>\n",
       "    </tr>\n",
       "    <tr>\n",
       "      <th>10</th>\n",
       "      <td>84,85,86,87,88,89,84,90,91,92,93,86</td>\n",
       "      <td>86</td>\n",
       "    </tr>\n",
       "    <tr>\n",
       "      <th>19</th>\n",
       "      <td>138,198,199,127</td>\n",
       "      <td>199</td>\n",
       "    </tr>\n",
       "    <tr>\n",
       "      <th>30</th>\n",
       "      <td>303,304,305,306,307,308,309,310,311,312</td>\n",
       "      <td>303</td>\n",
       "    </tr>\n",
       "    <tr>\n",
       "      <th>33</th>\n",
       "      <td>352,353,352</td>\n",
       "      <td>352</td>\n",
       "    </tr>\n",
       "  </tbody>\n",
       "</table>\n",
       "</div>"
      ],
      "text/plain": [
       "                                recommended    bought\n",
       "7    59,60,61,62,60,63,64,65,66,61,67,68,67  67,60,63\n",
       "10      84,85,86,87,88,89,84,90,91,92,93,86        86\n",
       "19                          138,198,199,127       199\n",
       "30  303,304,305,306,307,308,309,310,311,312       303\n",
       "33                              352,353,352       352"
      ]
     },
     "execution_count": 3,
     "metadata": {},
     "output_type": "execute_result"
    }
   ],
   "source": [
    "train_data = pd.read_csv('data/coursera_sessions_train.txt', delimiter=';', header=None)\n",
    "train_data.columns = ['recommended', 'bought']\n",
    "print(train_data.shape)\n",
    "print(train_data.dropna().shape)\n",
    "train_data.dropna().head()"
   ]
  },
  {
   "cell_type": "code",
   "execution_count": 4,
   "metadata": {
    "collapsed": true
   },
   "outputs": [],
   "source": [
    "def count(data):\n",
    "    dictionary = {}\n",
    "    for s in data:\n",
    "        if s in dictionary:\n",
    "            dictionary[s] += 1\n",
    "        else:\n",
    "            dictionary[s] = 1\n",
    "    return dictionary"
   ]
  },
  {
   "cell_type": "code",
   "execution_count": 5,
   "metadata": {
    "collapsed": true
   },
   "outputs": [],
   "source": [
    "def uniquifier(seq):\n",
    "    seen = set()\n",
    "    return [x for x in seq if not (x in seen or seen.add(x))]"
   ]
  },
  {
   "cell_type": "code",
   "execution_count": 6,
   "metadata": {
    "collapsed": false
   },
   "outputs": [],
   "source": [
    "def f(data_to_train, data_to_test):\n",
    "    # Список товаров для обучения\n",
    "    veiw_goods = [g for lg in data_to_train for g in lg.split(',')]\n",
    "\n",
    "    # Удаление пустых сессий\n",
    "    t_data = data_to_test.dropna()\n",
    "\n",
    "    # Товары которые были куплены\n",
    "    bought_goods = [g.split(',') for g in t_data.bought]\n",
    "\n",
    "    # Справочник с кол-вом повторений\n",
    "    count_dict = count(veiw_goods)\n",
    "\n",
    "    # Товары которые были просмотрены пользователем\n",
    "    view_goods_after_dropna = [g.split(',') for g in t_data.recommended]\n",
    "    view_goods_after_dropna = [[(g, count_dict[g] if g in count_dict else 0) for g in uniquifier(r)] for r in view_goods_after_dropna]\n",
    "\n",
    "    # Лист рекомендаций\n",
    "    recom_list = [[t[0] for t in sorted(l, key=lambda x: x[1], reverse=True)] for l in view_goods_after_dropna]\n",
    "\n",
    "    # Размер\n",
    "    size = t_data.shape[0]\n",
    "\n",
    "    # AverageRecall@1\n",
    "    ans1_1 = np.sum([(1 if recom_list[idx][0] in bg else 0) / min(len(bg), 5) for idx, bg in enumerate(bought_goods)]) / size\n",
    "    # AveragePrecision@1\n",
    "    ans1_2 = np.sum([1 if recom_list[idx][0] in bg else 0 for idx, bg in enumerate(bought_goods)]) / size\n",
    "    # AverageRecall@5\n",
    "    ans1_3 = np.sum([np.sum([1 if rl in bg else 0 for rl in recom_list[idx][:5]]) / min(len(bg), 5) for idx, bg in enumerate(bought_goods)]) / size\n",
    "    # AveragePrecision@5\n",
    "    ans1_4 = np.sum([np.sum([1 if rl in bg else 0 for rl in recom_list[idx][:5]]) / 5 for idx, bg in enumerate(bought_goods)]) / size\n",
    "    \n",
    "    return [round(ans1_1, 2), round(ans1_2, 2), round(ans1_3, 2), round(ans1_4, 2)]\n",
    "#     return [ans1_1, ans1_2, ans1_3, ans1_4]"
   ]
  },
  {
   "cell_type": "code",
   "execution_count": 7,
   "metadata": {
    "collapsed": false
   },
   "outputs": [
    {
     "name": "stdout",
     "output_type": "stream",
     "text": [
      "\n",
      "Task №1 answer [0.44, 0.51000000000000001, 0.82999999999999996, 0.20999999999999999]\n",
      "\n"
     ]
    }
   ],
   "source": [
    "save_answer(1, f(train_data.recommended, train_data), space=True)"
   ]
  },
  {
   "cell_type": "code",
   "execution_count": 8,
   "metadata": {
    "collapsed": false
   },
   "outputs": [
    {
     "name": "stdout",
     "output_type": "stream",
     "text": [
      "\n",
      "Task №2 answer [0.41999999999999998, 0.47999999999999998, 0.80000000000000004, 0.20000000000000001]\n",
      "\n"
     ]
    }
   ],
   "source": [
    "save_answer(2, f(train_data.recommended, test_data), space=True)"
   ]
  },
  {
   "cell_type": "code",
   "execution_count": 9,
   "metadata": {
    "collapsed": false
   },
   "outputs": [
    {
     "name": "stdout",
     "output_type": "stream",
     "text": [
      "\n",
      "Task №3 answer [0.68999999999999995, 0.80000000000000004, 0.93000000000000005, 0.25]\n",
      "\n"
     ]
    }
   ],
   "source": [
    "save_answer(3, f(train_data.dropna().bought, train_data), space=True)"
   ]
  },
  {
   "cell_type": "code",
   "execution_count": 10,
   "metadata": {
    "collapsed": false
   },
   "outputs": [
    {
     "name": "stdout",
     "output_type": "stream",
     "text": [
      "\n",
      "Task №4 answer [0.46000000000000002, 0.53000000000000003, 0.81999999999999995, 0.20999999999999999]\n",
      "\n"
     ]
    }
   ],
   "source": [
    "save_answer(4, f(train_data.dropna().bought, test_data), space=True)"
   ]
  }
 ],
 "metadata": {
  "kernelspec": {
   "display_name": "Python 3",
   "language": "python",
   "name": "python3"
  },
  "language_info": {
   "codemirror_mode": {
    "name": "ipython",
    "version": 3
   },
   "file_extension": ".py",
   "mimetype": "text/x-python",
   "name": "python",
   "nbconvert_exporter": "python",
   "pygments_lexer": "ipython3",
   "version": "3.6.0"
  }
 },
 "nbformat": 4,
 "nbformat_minor": 0
}
