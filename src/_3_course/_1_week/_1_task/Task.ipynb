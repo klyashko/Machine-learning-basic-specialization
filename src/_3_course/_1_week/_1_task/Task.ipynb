{
 "cells": [
  {
   "cell_type": "code",
   "execution_count": 1,
   "metadata": {
    "collapsed": true
   },
   "outputs": [],
   "source": [
    "import numpy as np\n",
    "import pandas as pd\n",
    "import sys\n",
    "from sklearn.cluster import MeanShift\n",
    "\n",
    "sys.path.append('.\\\\..\\\\..\\\\..\\\\..')\n",
    "\n",
    "from src.utils.Utils import save_answer"
   ]
  },
  {
   "cell_type": "code",
   "execution_count": 2,
   "metadata": {
    "collapsed": false
   },
   "outputs": [
    {
     "data": {
      "text/html": [
       "<div>\n",
       "<style>\n",
       "    .dataframe thead tr:only-child th {\n",
       "        text-align: right;\n",
       "    }\n",
       "\n",
       "    .dataframe thead th {\n",
       "        text-align: left;\n",
       "    }\n",
       "\n",
       "    .dataframe tbody tr th {\n",
       "        vertical-align: top;\n",
       "    }\n",
       "</style>\n",
       "<table border=\"1\" class=\"dataframe\">\n",
       "  <thead>\n",
       "    <tr style=\"text-align: right;\">\n",
       "      <th></th>\n",
       "      <th>latitude</th>\n",
       "      <th>longitude</th>\n",
       "    </tr>\n",
       "  </thead>\n",
       "  <tbody>\n",
       "    <tr>\n",
       "      <th>0</th>\n",
       "      <td>NaN</td>\n",
       "      <td>NaN</td>\n",
       "    </tr>\n",
       "    <tr>\n",
       "      <th>1</th>\n",
       "      <td></td>\n",
       "      <td></td>\n",
       "    </tr>\n",
       "    <tr>\n",
       "      <th>2</th>\n",
       "      <td>38.8951118</td>\n",
       "      <td>-77.0363658</td>\n",
       "    </tr>\n",
       "    <tr>\n",
       "      <th>3</th>\n",
       "      <td></td>\n",
       "      <td></td>\n",
       "    </tr>\n",
       "    <tr>\n",
       "      <th>4</th>\n",
       "      <td>33.800745</td>\n",
       "      <td>-84.41052</td>\n",
       "    </tr>\n",
       "  </tbody>\n",
       "</table>\n",
       "</div>"
      ],
      "text/plain": [
       "              latitude            longitude\n",
       "0                  NaN                  NaN\n",
       "1                                          \n",
       "2          38.8951118          -77.0363658 \n",
       "3                                          \n",
       "4           33.800745            -84.41052 "
      ]
     },
     "execution_count": 2,
     "metadata": {},
     "output_type": "execute_result"
    }
   ],
   "source": [
    "data = pd.read_table(\"data/checkins.dat\", header=0, sep='|', delim_whitespace=False, usecols=['latitude', 'longitude'])\n",
    "data.head()"
   ]
  },
  {
   "cell_type": "code",
   "execution_count": 3,
   "metadata": {
    "collapsed": false
   },
   "outputs": [
    {
     "data": {
      "text/plain": [
       "(1021968, 2)"
      ]
     },
     "execution_count": 3,
     "metadata": {},
     "output_type": "execute_result"
    }
   ],
   "source": [
    "data.shape"
   ]
  },
  {
   "cell_type": "code",
   "execution_count": 4,
   "metadata": {
    "collapsed": false
   },
   "outputs": [
    {
     "data": {
      "text/plain": [
       "(396634, 2)"
      ]
     },
     "execution_count": 4,
     "metadata": {},
     "output_type": "execute_result"
    }
   ],
   "source": [
    "data = data.applymap(lambda x: np.nan if str(x).strip()=='' else x)\n",
    "data.dropna(inplace=True)\n",
    "data.shape"
   ]
  },
  {
   "cell_type": "code",
   "execution_count": 5,
   "metadata": {
    "collapsed": false
   },
   "outputs": [
    {
     "name": "stdout",
     "output_type": "stream",
     "text": [
      "(100000, 2)\n"
     ]
    },
    {
     "data": {
      "text/plain": [
       "MeanShift(bandwidth=0.1, bin_seeding=False, cluster_all=True, min_bin_freq=1,\n",
       "     n_jobs=1, seeds=None)"
      ]
     },
     "execution_count": 5,
     "metadata": {},
     "output_type": "execute_result"
    }
   ],
   "source": [
    "X = data.values[:100000]\n",
    "\n",
    "print(X.shape)\n",
    "\n",
    "ms = MeanShift(bandwidth=0.1)\n",
    "ms.fit(X)"
   ]
  },
  {
   "cell_type": "code",
   "execution_count": 6,
   "metadata": {
    "collapsed": false
   },
   "outputs": [
    {
     "name": "stdout",
     "output_type": "stream",
     "text": [
      "number of estimated clusters : 3230\n"
     ]
    }
   ],
   "source": [
    "labels = ms.labels_\n",
    "cluster_centers = ms.cluster_centers_\n",
    "\n",
    "labels_unique = np.unique(labels)\n",
    "n_clusters_ = len(labels_unique)\n",
    "\n",
    "print(\"number of estimated clusters : %d\" % n_clusters_)"
   ]
  },
  {
   "cell_type": "code",
   "execution_count": 21,
   "metadata": {
    "collapsed": false
   },
   "outputs": [
    {
     "name": "stdout",
     "output_type": "stream",
     "text": [
      "0.00783475816311\n",
      "\n",
      "Task №1 answer [ -33.86063043  151.20477593]\n",
      "\n"
     ]
    }
   ],
   "source": [
    "import math\n",
    "\n",
    "# [33.751277, -118.188740]\n",
    "# [25.867736, -80.324116]\n",
    "# [51.503016, -0.075479]\n",
    "# [52.378894, 4.885084]\n",
    "# [39.366487, 117.036146]\n",
    "# [-33.868457, 151.205134]\n",
    "\n",
    "offices_coords = np.array([[33.751277, -118.188740],\n",
    "                           [25.867736, -80.324116],\n",
    "                           [51.503016, -0.075479],\n",
    "                           [52.378894, 4.885084],\n",
    "                           [39.366487, 117.036146],\n",
    "                           [-33.868457, 151.205134]])\n",
    "\n",
    "dist = math.inf\n",
    "center_coordinates = []\n",
    "\n",
    "for cc in ms.cluster_centers_:\n",
    "    temp = []\n",
    "    for oc in offices_coords:\n",
    "        temp.append(np.linalg.norm(cc - oc))\n",
    "    if np.min(temp) < dist:\n",
    "        dist = np.min(temp)\n",
    "        center_coordinates = cc\n",
    "        \n",
    "print(dist)\n",
    "save_answer(1, center_coordinates, space=True)"
   ]
  }
 ],
 "metadata": {
  "kernelspec": {
   "display_name": "Python 3",
   "language": "python",
   "name": "python3"
  },
  "language_info": {
   "codemirror_mode": {
    "name": "ipython",
    "version": 3.0
   },
   "file_extension": ".py",
   "mimetype": "text/x-python",
   "name": "python",
   "nbconvert_exporter": "python",
   "pygments_lexer": "ipython3",
   "version": "3.6.0"
  }
 },
 "nbformat": 4,
 "nbformat_minor": 0
}