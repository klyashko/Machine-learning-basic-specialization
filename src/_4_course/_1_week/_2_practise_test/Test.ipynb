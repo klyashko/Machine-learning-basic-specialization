{
 "cells": [
  {
   "cell_type": "code",
   "execution_count": 1,
   "metadata": {
    "collapsed": false
   },
   "outputs": [
    {
     "name": "stdout",
     "output_type": "stream",
     "text": [
      "Populating the interactive namespace from numpy and matplotlib\n"
     ]
    }
   ],
   "source": [
    "import numpy as np\n",
    "from statsmodels.stats.proportion import proportion_confint\n",
    "from statsmodels.stats.proportion import samplesize_confint_proportion\n",
    "%pylab inline"
   ]
  },
  {
   "cell_type": "code",
   "execution_count": 2,
   "metadata": {
    "collapsed": false
   },
   "outputs": [],
   "source": [
    "data = [0] * 49 + [1]"
   ]
  },
  {
   "cell_type": "code",
   "execution_count": 3,
   "metadata": {
    "collapsed": false
   },
   "outputs": [
    {
     "name": "stdout",
     "output_type": "stream",
     "text": [
      "normal_interval [-0.018805, 0.058805] with width 0.077611\n",
      "Ответ: -0.0188\n"
     ]
    }
   ],
   "source": [
    "normal_interval = proportion_confint(sum(data), len(data), method = 'normal')\n",
    "print('normal_interval [%f, %f] with width %f' % (normal_interval[0], normal_interval[1], normal_interval[1] - normal_interval[0]))\n",
    "print('Ответ:', round(normal_interval[0], 4))"
   ]
  },
  {
   "cell_type": "code",
   "execution_count": 4,
   "metadata": {
    "collapsed": false
   },
   "outputs": [
    {
     "name": "stdout",
     "output_type": "stream",
     "text": [
      "normal_interval [0.003539, 0.104954] with width 0.101415\n",
      "Ответ: 0.0035\n"
     ]
    }
   ],
   "source": [
    "wilson_interval = proportion_confint(sum(data), len(data), method = 'wilson')\n",
    "print('normal_interval [%f, %f] with width %f' % (wilson_interval[0], wilson_interval[1], wilson_interval[1] - wilson_interval[0]))\n",
    "print('Ответ:', round(wilson_interval[0], 4))"
   ]
  },
  {
   "cell_type": "code",
   "execution_count": 5,
   "metadata": {
    "collapsed": false
   },
   "outputs": [
    {
     "data": {
      "text/plain": [
       "753"
      ]
     },
     "execution_count": 5,
     "metadata": {},
     "output_type": "execute_result"
    }
   ],
   "source": [
    "int(np.ceil(samplesize_confint_proportion(np.mean(data), 0.01)))"
   ]
  },
  {
   "cell_type": "code",
   "execution_count": 6,
   "metadata": {
    "collapsed": false
   },
   "outputs": [
    {
     "data": {
      "text/plain": [
       "9604"
      ]
     },
     "execution_count": 6,
     "metadata": {},
     "output_type": "execute_result"
    },
    {
     "data": {
      "image/png": "[encoded data removed]",
      "text/plain": [
       "<matplotlib.figure.Figure at 0x1be5df28710>"
      ]
     },
     "metadata": {},
     "output_type": "display_data"
    }
   ],
   "source": [
    "x = [np.mean([0] * i + [1] * (100 - i)) for i in range(1, 101)]\n",
    "y = [int(np.ceil(samplesize_confint_proportion(i, 0.01))) for i in x]\n",
    "pylab.plot(x, y)\n",
    "pylab.xlabel('size')\n",
    "pylab.ylabel('mean')\n",
    "\n",
    "np.max(y)"
   ]
  }
 ],
 "metadata": {
  "kernelspec": {
   "display_name": "Python 3",
   "language": "python",
   "name": "python3"
  },
  "language_info": {
   "codemirror_mode": {
    "name": "ipython",
    "version": 3
   },
   "file_extension": ".py",
   "mimetype": "text/x-python",
   "name": "python",
   "nbconvert_exporter": "python",
   "pygments_lexer": "ipython3",
   "version": "3.6.0"
  }
 },
 "nbformat": 4,
 "nbformat_minor": 0
}
