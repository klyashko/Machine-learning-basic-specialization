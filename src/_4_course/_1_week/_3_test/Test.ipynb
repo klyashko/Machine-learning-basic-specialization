{
 "cells": [
  {
   "cell_type": "code",
   "execution_count": 1,
   "metadata": {
    "collapsed": false
   },
   "outputs": [],
   "source": [
    "import numpy as np\n",
    "from scipy.stats import norm"
   ]
  },
  {
   "cell_type": "code",
   "execution_count": 2,
   "metadata": {
    "collapsed": false
   },
   "outputs": [
    {
     "name": "stdout",
     "output_type": "stream",
     "text": [
      "1.95996398454\n",
      "Ответ на 1 вопрос 2.9677\n"
     ]
    }
   ],
   "source": [
    "print(norm.ppf(0.975))\n",
    "print('Ответ на 1 вопрос', round(norm.ppf(0.9985), 4))"
   ]
  },
  {
   "cell_type": "code",
   "execution_count": 3,
   "metadata": {
    "collapsed": false
   },
   "outputs": [
    {
     "name": "stdout",
     "output_type": "stream",
     "text": [
      "Ответ на 5 вопрос 0.0077\n"
     ]
    }
   ],
   "source": [
    "x1 = 104/11037\n",
    "x2 = 189/11034\n",
    "\n",
    "print('Ответ на 5 вопрос', round(x2 - x1, 4))"
   ]
  },
  {
   "cell_type": "code",
   "execution_count": 4,
   "metadata": {
    "collapsed": false
   },
   "outputs": [
    {
     "name": "stdout",
     "output_type": "stream",
     "text": [
      "(0.0046877506750494392, 0.010724297276960124)\n",
      "Ответ на 6 вопрос 0.0107\n"
     ]
    }
   ],
   "source": [
    "def proportions_confint_diff_ind(sample1, sample2, alpha = 0.05):    \n",
    "    z = norm.ppf(1 - alpha / 2.)   \n",
    "    p1 = float(sum(sample1)) / len(sample1)\n",
    "    p2 = float(sum(sample2)) / len(sample2)\n",
    "    \n",
    "    left_boundary = (p1 - p2) - z * np.sqrt(p1 * (1 - p1)/ len(sample1) + p2 * (1 - p2)/ len(sample2))\n",
    "    right_boundary = (p1 - p2) + z * np.sqrt(p1 * (1 - p1)/ len(sample1) + p2 * (1 - p2)/ len(sample2))\n",
    "    \n",
    "    return (left_boundary, right_boundary)\n",
    "\n",
    "data1 = [0] * (11037 - 104) + [1] * 104\n",
    "data2 = [0] * (11034 - 189) + [1] * 189\n",
    "\n",
    "interval = proportions_confint_diff_ind(data2, data1)\n",
    "print(interval)\n",
    "print('Ответ на 6 вопрос', round(interval[1], 4))"
   ]
  },
  {
   "cell_type": "code",
   "execution_count": 5,
   "metadata": {
    "collapsed": false
   },
   "outputs": [
    {
     "name": "stdout",
     "output_type": "stream",
     "text": [
      "Ответ на 7 вопрос 1.8321\n"
     ]
    }
   ],
   "source": [
    "x1 = 189 / (11034 - 189)\n",
    "x2 = 104 / (11037 - 104)\n",
    "\n",
    "print('Ответ на 7 вопрос', round(x1 / x2, 4))"
   ]
  },
  {
   "cell_type": "code",
   "execution_count": 6,
   "metadata": {
    "collapsed": true
   },
   "outputs": [],
   "source": [
    "def get_bootstrap_samples(data, n_samples):\n",
    "    indices = np.random.randint(0, len(data), (n_samples, len(data)))\n",
    "    samples = data[indices]\n",
    "    return samples\n",
    "\n",
    "def stat_intervals(stat, alpha):\n",
    "    boundaries = np.percentile(stat, [100 * alpha / 2., 100 * (1 - alpha / 2.)])\n",
    "    return boundaries"
   ]
  },
  {
   "cell_type": "code",
   "execution_count": 7,
   "metadata": {
    "collapsed": false
   },
   "outputs": [
    {
     "name": "stdout",
     "output_type": "stream",
     "text": [
      "[ 1.44419465  2.34321168]\n",
      "Ответ на 8 вопрос 1.4442\n"
     ]
    }
   ],
   "source": [
    "np.random.seed(0)\n",
    "\n",
    "data1 = np.array([1] * 104 + [0] * (11037 - 104))\n",
    "data2 = np.array([1] * 189 + [0] * (11034 - 189))\n",
    "\n",
    "smpl1 = get_bootstrap_samples(data1, 1000)\n",
    "smpl2 = get_bootstrap_samples(data2, 1000)\n",
    "\n",
    "smpl = []\n",
    "\n",
    "for s in zip(smpl2, smpl1):\n",
    "    temp = [t for t in s[0] if t == 1]\n",
    "    x1 = len(temp) / (len(s[0]) - len(temp))\n",
    "    temp = [t for t in s[1] if t == 1]\n",
    "    x2 = len(temp) / (len(s[1]) - len(temp))\n",
    "    smpl.append(x1 / x2)\n",
    "    \n",
    "interval = stat_intervals(smpl, 0.05)\n",
    "print(interval)\n",
    "print('Ответ на 8 вопрос', round(interval[0], 4))"
   ]
  }
 ],
 "metadata": {
  "kernelspec": {
   "display_name": "Python 3",
   "language": "python",
   "name": "python3"
  },
  "language_info": {
   "codemirror_mode": {
    "name": "ipython",
    "version": 3.0
   },
   "file_extension": ".py",
   "mimetype": "text/x-python",
   "name": "python",
   "nbconvert_exporter": "python",
   "pygments_lexer": "ipython3",
   "version": "3.6.0"
  }
 },
 "nbformat": 4,
 "nbformat_minor": 0
}